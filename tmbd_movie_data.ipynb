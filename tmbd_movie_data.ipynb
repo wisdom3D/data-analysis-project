{
  "cells": [
    {
      "cell_type": "markdown",
      "metadata": {
        "id": "view-in-github",
        "colab_type": "text"
      },
      "source": [
        "<a href=\"https://colab.research.google.com/github/wisdom3D/pandas/blob/main/tmbd_movie_data.ipynb\" target=\"_parent\"><img src=\"https://colab.research.google.com/assets/colab-badge.svg\" alt=\"Open In Colab\"/></a>"
      ]
    },
    {
      "cell_type": "code",
      "execution_count": null,
      "id": "c7891558",
      "metadata": {
        "id": "c7891558"
      },
      "outputs": [],
      "source": [
        "import numpy as np\n",
        "import pandas as pd\n",
        "import matplotlib.pyplot as plt\n",
        "import seaborn as sns"
      ]
    },
    {
      "cell_type": "markdown",
      "id": "346e39e5",
      "metadata": {
        "id": "346e39e5"
      },
      "source": [
        "EDA"
      ]
    },
    {
      "cell_type": "code",
      "execution_count": null,
      "id": "f83a8d7b",
      "metadata": {
        "id": "f83a8d7b",
        "outputId": "6414fa89-69af-43b9-abf5-62145d4e937e"
      },
      "outputs": [
        {
          "data": {
            "text/html": [
              "<div>\n",
              "<style scoped>\n",
              "    .dataframe tbody tr th:only-of-type {\n",
              "        vertical-align: middle;\n",
              "    }\n",
              "\n",
              "    .dataframe tbody tr th {\n",
              "        vertical-align: top;\n",
              "    }\n",
              "\n",
              "    .dataframe thead th {\n",
              "        text-align: right;\n",
              "    }\n",
              "</style>\n",
              "<table border=\"1\" class=\"dataframe\">\n",
              "  <thead>\n",
              "    <tr style=\"text-align: right;\">\n",
              "      <th></th>\n",
              "      <th>id</th>\n",
              "      <th>popularity</th>\n",
              "      <th>budget</th>\n",
              "      <th>revenue</th>\n",
              "      <th>runtime</th>\n",
              "      <th>vote_count</th>\n",
              "      <th>vote_average</th>\n",
              "      <th>release_year</th>\n",
              "      <th>budget_adj</th>\n",
              "      <th>revenue_adj</th>\n",
              "    </tr>\n",
              "  </thead>\n",
              "  <tbody>\n",
              "    <tr>\n",
              "      <th>count</th>\n",
              "      <td>10866.000000</td>\n",
              "      <td>10866.000000</td>\n",
              "      <td>1.086600e+04</td>\n",
              "      <td>1.086600e+04</td>\n",
              "      <td>10866.000000</td>\n",
              "      <td>10866.000000</td>\n",
              "      <td>10866.000000</td>\n",
              "      <td>10866.000000</td>\n",
              "      <td>1.086600e+04</td>\n",
              "      <td>1.086600e+04</td>\n",
              "    </tr>\n",
              "    <tr>\n",
              "      <th>mean</th>\n",
              "      <td>66064.177434</td>\n",
              "      <td>0.646441</td>\n",
              "      <td>1.462570e+07</td>\n",
              "      <td>3.982332e+07</td>\n",
              "      <td>102.070863</td>\n",
              "      <td>217.389748</td>\n",
              "      <td>5.974922</td>\n",
              "      <td>2001.322658</td>\n",
              "      <td>1.755104e+07</td>\n",
              "      <td>5.136436e+07</td>\n",
              "    </tr>\n",
              "    <tr>\n",
              "      <th>std</th>\n",
              "      <td>92130.136561</td>\n",
              "      <td>1.000185</td>\n",
              "      <td>3.091321e+07</td>\n",
              "      <td>1.170035e+08</td>\n",
              "      <td>31.381405</td>\n",
              "      <td>575.619058</td>\n",
              "      <td>0.935142</td>\n",
              "      <td>12.812941</td>\n",
              "      <td>3.430616e+07</td>\n",
              "      <td>1.446325e+08</td>\n",
              "    </tr>\n",
              "    <tr>\n",
              "      <th>min</th>\n",
              "      <td>5.000000</td>\n",
              "      <td>0.000065</td>\n",
              "      <td>0.000000e+00</td>\n",
              "      <td>0.000000e+00</td>\n",
              "      <td>0.000000</td>\n",
              "      <td>10.000000</td>\n",
              "      <td>1.500000</td>\n",
              "      <td>1960.000000</td>\n",
              "      <td>0.000000e+00</td>\n",
              "      <td>0.000000e+00</td>\n",
              "    </tr>\n",
              "    <tr>\n",
              "      <th>25%</th>\n",
              "      <td>10596.250000</td>\n",
              "      <td>0.207583</td>\n",
              "      <td>0.000000e+00</td>\n",
              "      <td>0.000000e+00</td>\n",
              "      <td>90.000000</td>\n",
              "      <td>17.000000</td>\n",
              "      <td>5.400000</td>\n",
              "      <td>1995.000000</td>\n",
              "      <td>0.000000e+00</td>\n",
              "      <td>0.000000e+00</td>\n",
              "    </tr>\n",
              "    <tr>\n",
              "      <th>50%</th>\n",
              "      <td>20669.000000</td>\n",
              "      <td>0.383856</td>\n",
              "      <td>0.000000e+00</td>\n",
              "      <td>0.000000e+00</td>\n",
              "      <td>99.000000</td>\n",
              "      <td>38.000000</td>\n",
              "      <td>6.000000</td>\n",
              "      <td>2006.000000</td>\n",
              "      <td>0.000000e+00</td>\n",
              "      <td>0.000000e+00</td>\n",
              "    </tr>\n",
              "    <tr>\n",
              "      <th>75%</th>\n",
              "      <td>75610.000000</td>\n",
              "      <td>0.713817</td>\n",
              "      <td>1.500000e+07</td>\n",
              "      <td>2.400000e+07</td>\n",
              "      <td>111.000000</td>\n",
              "      <td>145.750000</td>\n",
              "      <td>6.600000</td>\n",
              "      <td>2011.000000</td>\n",
              "      <td>2.085325e+07</td>\n",
              "      <td>3.369710e+07</td>\n",
              "    </tr>\n",
              "    <tr>\n",
              "      <th>max</th>\n",
              "      <td>417859.000000</td>\n",
              "      <td>32.985763</td>\n",
              "      <td>4.250000e+08</td>\n",
              "      <td>2.781506e+09</td>\n",
              "      <td>900.000000</td>\n",
              "      <td>9767.000000</td>\n",
              "      <td>9.200000</td>\n",
              "      <td>2015.000000</td>\n",
              "      <td>4.250000e+08</td>\n",
              "      <td>2.827124e+09</td>\n",
              "    </tr>\n",
              "  </tbody>\n",
              "</table>\n",
              "</div>"
            ],
            "text/plain": [
              "                  id    popularity        budget       revenue       runtime  \\\n",
              "count   10866.000000  10866.000000  1.086600e+04  1.086600e+04  10866.000000   \n",
              "mean    66064.177434      0.646441  1.462570e+07  3.982332e+07    102.070863   \n",
              "std     92130.136561      1.000185  3.091321e+07  1.170035e+08     31.381405   \n",
              "min         5.000000      0.000065  0.000000e+00  0.000000e+00      0.000000   \n",
              "25%     10596.250000      0.207583  0.000000e+00  0.000000e+00     90.000000   \n",
              "50%     20669.000000      0.383856  0.000000e+00  0.000000e+00     99.000000   \n",
              "75%     75610.000000      0.713817  1.500000e+07  2.400000e+07    111.000000   \n",
              "max    417859.000000     32.985763  4.250000e+08  2.781506e+09    900.000000   \n",
              "\n",
              "         vote_count  vote_average  release_year    budget_adj   revenue_adj  \n",
              "count  10866.000000  10866.000000  10866.000000  1.086600e+04  1.086600e+04  \n",
              "mean     217.389748      5.974922   2001.322658  1.755104e+07  5.136436e+07  \n",
              "std      575.619058      0.935142     12.812941  3.430616e+07  1.446325e+08  \n",
              "min       10.000000      1.500000   1960.000000  0.000000e+00  0.000000e+00  \n",
              "25%       17.000000      5.400000   1995.000000  0.000000e+00  0.000000e+00  \n",
              "50%       38.000000      6.000000   2006.000000  0.000000e+00  0.000000e+00  \n",
              "75%      145.750000      6.600000   2011.000000  2.085325e+07  3.369710e+07  \n",
              "max     9767.000000      9.200000   2015.000000  4.250000e+08  2.827124e+09  "
            ]
          },
          "execution_count": 25,
          "metadata": {},
          "output_type": "execute_result"
        }
      ],
      "source": [
        "df = pd.read_csv('Downloads/tmdb_movies_data.csv')\n",
        "df.shape\n",
        "df.describe()"
      ]
    },
    {
      "cell_type": "code",
      "execution_count": null,
      "id": "7546ad62",
      "metadata": {
        "id": "7546ad62",
        "outputId": "c2eb5bcb-a33a-4210-bf3a-f8a0a09c1eb8"
      },
      "outputs": [
        {
          "name": "stdout",
          "output_type": "stream",
          "text": [
            "<class 'pandas.core.frame.DataFrame'>\n",
            "RangeIndex: 10866 entries, 0 to 10865\n",
            "Data columns (total 21 columns):\n",
            " #   Column                Non-Null Count  Dtype  \n",
            "---  ------                --------------  -----  \n",
            " 0   id                    10866 non-null  int64  \n",
            " 1   imdb_id               10856 non-null  object \n",
            " 2   popularity            10866 non-null  float64\n",
            " 3   budget                10866 non-null  int64  \n",
            " 4   revenue               10866 non-null  int64  \n",
            " 5   original_title        10866 non-null  object \n",
            " 6   cast                  10790 non-null  object \n",
            " 7   homepage              2936 non-null   object \n",
            " 8   director              10822 non-null  object \n",
            " 9   tagline               8042 non-null   object \n",
            " 10  keywords              9373 non-null   object \n",
            " 11  overview              10862 non-null  object \n",
            " 12  runtime               10866 non-null  int64  \n",
            " 13  genres                10843 non-null  object \n",
            " 14  production_companies  9836 non-null   object \n",
            " 15  release_date          10866 non-null  object \n",
            " 16  vote_count            10866 non-null  int64  \n",
            " 17  vote_average          10866 non-null  float64\n",
            " 18  release_year          10866 non-null  int64  \n",
            " 19  budget_adj            10866 non-null  float64\n",
            " 20  revenue_adj           10866 non-null  float64\n",
            "dtypes: float64(4), int64(6), object(11)\n",
            "memory usage: 1.7+ MB\n"
          ]
        }
      ],
      "source": [
        "df.info()"
      ]
    },
    {
      "cell_type": "code",
      "execution_count": null,
      "id": "a08875b1",
      "metadata": {
        "id": "a08875b1",
        "outputId": "43d9cc71-bc77-43f2-eb2f-88dfe6d63142"
      },
      "outputs": [
        {
          "data": {
            "text/html": [
              "<div>\n",
              "<style scoped>\n",
              "    .dataframe tbody tr th:only-of-type {\n",
              "        vertical-align: middle;\n",
              "    }\n",
              "\n",
              "    .dataframe tbody tr th {\n",
              "        vertical-align: top;\n",
              "    }\n",
              "\n",
              "    .dataframe thead th {\n",
              "        text-align: right;\n",
              "    }\n",
              "</style>\n",
              "<table border=\"1\" class=\"dataframe\">\n",
              "  <thead>\n",
              "    <tr style=\"text-align: right;\">\n",
              "      <th></th>\n",
              "      <th>id</th>\n",
              "      <th>imdb_id</th>\n",
              "      <th>popularity</th>\n",
              "      <th>budget</th>\n",
              "      <th>revenue</th>\n",
              "      <th>original_title</th>\n",
              "      <th>cast</th>\n",
              "      <th>homepage</th>\n",
              "      <th>director</th>\n",
              "      <th>tagline</th>\n",
              "      <th>...</th>\n",
              "      <th>overview</th>\n",
              "      <th>runtime</th>\n",
              "      <th>genres</th>\n",
              "      <th>production_companies</th>\n",
              "      <th>release_date</th>\n",
              "      <th>vote_count</th>\n",
              "      <th>vote_average</th>\n",
              "      <th>release_year</th>\n",
              "      <th>budget_adj</th>\n",
              "      <th>revenue_adj</th>\n",
              "    </tr>\n",
              "  </thead>\n",
              "  <tbody>\n",
              "    <tr>\n",
              "      <th>3450</th>\n",
              "      <td>75900</td>\n",
              "      <td>tt1655420</td>\n",
              "      <td>1.116674</td>\n",
              "      <td>6400000</td>\n",
              "      <td>35057696</td>\n",
              "      <td>My Week with Marilyn</td>\n",
              "      <td>Michelle Williams|Eddie Redmayne|Kenneth Brana...</td>\n",
              "      <td>http://myweekwithmarilynmovie.com/</td>\n",
              "      <td>Simon Curtis</td>\n",
              "      <td>Sometimes You Just Need to Get Away</td>\n",
              "      <td>...</td>\n",
              "      <td>Sir Laurence Olivier is making a movie in Lond...</td>\n",
              "      <td>99</td>\n",
              "      <td>Drama</td>\n",
              "      <td>BBC Films|The Weinstein Company|UK Film Counci...</td>\n",
              "      <td>10/17/2011</td>\n",
              "      <td>212</td>\n",
              "      <td>6.7</td>\n",
              "      <td>2011</td>\n",
              "      <td>6.204147e+06</td>\n",
              "      <td>3.398486e+07</td>\n",
              "    </tr>\n",
              "    <tr>\n",
              "      <th>8849</th>\n",
              "      <td>36234</td>\n",
              "      <td>tt0220100</td>\n",
              "      <td>0.146148</td>\n",
              "      <td>4000000</td>\n",
              "      <td>0</td>\n",
              "      <td>Timecode</td>\n",
              "      <td>Xander Berkeley|Golden Brooks|Saffron Burrows|...</td>\n",
              "      <td>NaN</td>\n",
              "      <td>Mike Figgis</td>\n",
              "      <td>Four cameras. One take. No edits. Real time.</td>\n",
              "      <td>...</td>\n",
              "      <td>A production company begins casting for its ne...</td>\n",
              "      <td>97</td>\n",
              "      <td>Drama</td>\n",
              "      <td>Screen Gems|Red Mullet Productions</td>\n",
              "      <td>3/22/2000</td>\n",
              "      <td>11</td>\n",
              "      <td>5.5</td>\n",
              "      <td>2000</td>\n",
              "      <td>5.065168e+06</td>\n",
              "      <td>0.000000e+00</td>\n",
              "    </tr>\n",
              "    <tr>\n",
              "      <th>10334</th>\n",
              "      <td>11236</td>\n",
              "      <td>tt0108071</td>\n",
              "      <td>0.542485</td>\n",
              "      <td>0</td>\n",
              "      <td>0</td>\n",
              "      <td>The Secret Garden</td>\n",
              "      <td>Kate Maberly|Heydon Prowse|Andrew Knott|Maggie...</td>\n",
              "      <td>NaN</td>\n",
              "      <td>Agnieszka Holland</td>\n",
              "      <td>The timeless tale of a special place where mag...</td>\n",
              "      <td>...</td>\n",
              "      <td>A young British girl born and reared in India ...</td>\n",
              "      <td>102</td>\n",
              "      <td>Fantasy|Drama|Family</td>\n",
              "      <td>American Zoetrope|Warner Bros.</td>\n",
              "      <td>8/13/1993</td>\n",
              "      <td>113</td>\n",
              "      <td>7.0</td>\n",
              "      <td>1993</td>\n",
              "      <td>0.000000e+00</td>\n",
              "      <td>0.000000e+00</td>\n",
              "    </tr>\n",
              "    <tr>\n",
              "      <th>399</th>\n",
              "      <td>354924</td>\n",
              "      <td>tt3952108</td>\n",
              "      <td>0.277035</td>\n",
              "      <td>1000000</td>\n",
              "      <td>0</td>\n",
              "      <td>The Dead Room</td>\n",
              "      <td>Jed Brophy|Jeffrey Thomas|Laura Petersen</td>\n",
              "      <td>http://www.thedeadroommovie.com/</td>\n",
              "      <td>Jason Stutter</td>\n",
              "      <td>There is an intruder. It's you.</td>\n",
              "      <td>...</td>\n",
              "      <td>When a terrified family flees a desolate south...</td>\n",
              "      <td>80</td>\n",
              "      <td>Horror|Thriller</td>\n",
              "      <td>Centron Pictures</td>\n",
              "      <td>10/1/2015</td>\n",
              "      <td>16</td>\n",
              "      <td>4.6</td>\n",
              "      <td>2015</td>\n",
              "      <td>9.199996e+05</td>\n",
              "      <td>0.000000e+00</td>\n",
              "    </tr>\n",
              "    <tr>\n",
              "      <th>4363</th>\n",
              "      <td>49026</td>\n",
              "      <td>tt1345836</td>\n",
              "      <td>6.591277</td>\n",
              "      <td>250000000</td>\n",
              "      <td>1081041287</td>\n",
              "      <td>The Dark Knight Rises</td>\n",
              "      <td>Christian Bale|Michael Caine|Gary Oldman|Anne ...</td>\n",
              "      <td>http://www.thedarkknightrises.com/</td>\n",
              "      <td>Christopher Nolan</td>\n",
              "      <td>The Legend Ends</td>\n",
              "      <td>...</td>\n",
              "      <td>Following the death of District Attorney Harve...</td>\n",
              "      <td>165</td>\n",
              "      <td>Action|Crime|Drama|Thriller</td>\n",
              "      <td>Legendary Pictures|Warner Bros.|DC Entertainme...</td>\n",
              "      <td>7/16/2012</td>\n",
              "      <td>6723</td>\n",
              "      <td>7.5</td>\n",
              "      <td>2012</td>\n",
              "      <td>2.374361e+08</td>\n",
              "      <td>1.026713e+09</td>\n",
              "    </tr>\n",
              "  </tbody>\n",
              "</table>\n",
              "<p>5 rows × 21 columns</p>\n",
              "</div>"
            ],
            "text/plain": [
              "           id    imdb_id  popularity     budget     revenue  \\\n",
              "3450    75900  tt1655420    1.116674    6400000    35057696   \n",
              "8849    36234  tt0220100    0.146148    4000000           0   \n",
              "10334   11236  tt0108071    0.542485          0           0   \n",
              "399    354924  tt3952108    0.277035    1000000           0   \n",
              "4363    49026  tt1345836    6.591277  250000000  1081041287   \n",
              "\n",
              "              original_title  \\\n",
              "3450    My Week with Marilyn   \n",
              "8849                Timecode   \n",
              "10334      The Secret Garden   \n",
              "399            The Dead Room   \n",
              "4363   The Dark Knight Rises   \n",
              "\n",
              "                                                    cast  \\\n",
              "3450   Michelle Williams|Eddie Redmayne|Kenneth Brana...   \n",
              "8849   Xander Berkeley|Golden Brooks|Saffron Burrows|...   \n",
              "10334  Kate Maberly|Heydon Prowse|Andrew Knott|Maggie...   \n",
              "399             Jed Brophy|Jeffrey Thomas|Laura Petersen   \n",
              "4363   Christian Bale|Michael Caine|Gary Oldman|Anne ...   \n",
              "\n",
              "                                 homepage           director  \\\n",
              "3450   http://myweekwithmarilynmovie.com/       Simon Curtis   \n",
              "8849                                  NaN        Mike Figgis   \n",
              "10334                                 NaN  Agnieszka Holland   \n",
              "399      http://www.thedeadroommovie.com/      Jason Stutter   \n",
              "4363   http://www.thedarkknightrises.com/  Christopher Nolan   \n",
              "\n",
              "                                                 tagline  ...  \\\n",
              "3450                 Sometimes You Just Need to Get Away  ...   \n",
              "8849        Four cameras. One take. No edits. Real time.  ...   \n",
              "10334  The timeless tale of a special place where mag...  ...   \n",
              "399                      There is an intruder. It's you.  ...   \n",
              "4363                                     The Legend Ends  ...   \n",
              "\n",
              "                                                overview runtime  \\\n",
              "3450   Sir Laurence Olivier is making a movie in Lond...      99   \n",
              "8849   A production company begins casting for its ne...      97   \n",
              "10334  A young British girl born and reared in India ...     102   \n",
              "399    When a terrified family flees a desolate south...      80   \n",
              "4363   Following the death of District Attorney Harve...     165   \n",
              "\n",
              "                            genres  \\\n",
              "3450                         Drama   \n",
              "8849                         Drama   \n",
              "10334         Fantasy|Drama|Family   \n",
              "399                Horror|Thriller   \n",
              "4363   Action|Crime|Drama|Thriller   \n",
              "\n",
              "                                    production_companies release_date  \\\n",
              "3450   BBC Films|The Weinstein Company|UK Film Counci...   10/17/2011   \n",
              "8849                  Screen Gems|Red Mullet Productions    3/22/2000   \n",
              "10334                     American Zoetrope|Warner Bros.    8/13/1993   \n",
              "399                                     Centron Pictures    10/1/2015   \n",
              "4363   Legendary Pictures|Warner Bros.|DC Entertainme...    7/16/2012   \n",
              "\n",
              "      vote_count  vote_average  release_year    budget_adj   revenue_adj  \n",
              "3450         212           6.7          2011  6.204147e+06  3.398486e+07  \n",
              "8849          11           5.5          2000  5.065168e+06  0.000000e+00  \n",
              "10334        113           7.0          1993  0.000000e+00  0.000000e+00  \n",
              "399           16           4.6          2015  9.199996e+05  0.000000e+00  \n",
              "4363        6723           7.5          2012  2.374361e+08  1.026713e+09  \n",
              "\n",
              "[5 rows x 21 columns]"
            ]
          },
          "execution_count": 27,
          "metadata": {},
          "output_type": "execute_result"
        }
      ],
      "source": [
        "df.sample(5)"
      ]
    },
    {
      "cell_type": "code",
      "execution_count": null,
      "id": "8d791d2e",
      "metadata": {
        "id": "8d791d2e",
        "outputId": "a519cfb5-a4b3-49ac-cc66-c52d4d6513f2"
      },
      "outputs": [
        {
          "data": {
            "text/plain": [
              "0"
            ]
          },
          "execution_count": 35,
          "metadata": {},
          "output_type": "execute_result"
        }
      ],
      "source": [
        "df.duplicated().sum()"
      ]
    },
    {
      "cell_type": "code",
      "execution_count": null,
      "id": "12bf8d7e",
      "metadata": {
        "id": "12bf8d7e"
      },
      "outputs": [],
      "source": [
        "df.drop_duplicates(inplace = True)"
      ]
    },
    {
      "cell_type": "code",
      "execution_count": null,
      "id": "85673f63",
      "metadata": {
        "id": "85673f63",
        "outputId": "0f569223-531f-43cc-ea16-3d321f9fdd11"
      },
      "outputs": [
        {
          "data": {
            "text/plain": [
              "id                         0\n",
              "imdb_id                   10\n",
              "popularity                 0\n",
              "budget                     0\n",
              "revenue                    0\n",
              "original_title             0\n",
              "cast                      76\n",
              "homepage                7929\n",
              "director                  44\n",
              "tagline                 2824\n",
              "keywords                1493\n",
              "overview                   4\n",
              "runtime                    0\n",
              "genres                    23\n",
              "production_companies    1030\n",
              "release_date               0\n",
              "vote_count                 0\n",
              "vote_average               0\n",
              "release_year               0\n",
              "budget_adj                 0\n",
              "revenue_adj                0\n",
              "dtype: int64"
            ]
          },
          "execution_count": 36,
          "metadata": {},
          "output_type": "execute_result"
        }
      ],
      "source": [
        "df.isnull().sum()"
      ]
    },
    {
      "cell_type": "code",
      "execution_count": null,
      "id": "77fc0803",
      "metadata": {
        "id": "77fc0803",
        "outputId": "c0681644-dc2a-4e74-c9ce-709cd35ac4f0"
      },
      "outputs": [
        {
          "data": {
            "text/plain": [
              "Index(['popularity', 'original_title', 'genres', 'vote_count', 'vote_average',\n",
              "       'release_year', 'budget_adj', 'revenue_adj'],\n",
              "      dtype='object')"
            ]
          },
          "execution_count": 59,
          "metadata": {},
          "output_type": "execute_result"
        }
      ],
      "source": [
        "df.columns"
      ]
    },
    {
      "cell_type": "code",
      "execution_count": null,
      "id": "9bf69a4f",
      "metadata": {
        "id": "9bf69a4f"
      },
      "outputs": [],
      "source": [
        "deleted_columns = ['id', 'imdb_id', 'budget', 'revenue',\n",
        "       'cast', 'homepage', 'director', 'tagline', 'keywords', 'overview',\n",
        "       'runtime', 'production_companies', 'release_date']"
      ]
    },
    {
      "cell_type": "code",
      "execution_count": null,
      "id": "8c6cbbec",
      "metadata": {
        "id": "8c6cbbec"
      },
      "outputs": [],
      "source": [
        "df.drop(deleted_columns, axis = 1, inplace = True)"
      ]
    },
    {
      "cell_type": "code",
      "execution_count": null,
      "id": "0f0b6de7",
      "metadata": {
        "id": "0f0b6de7",
        "outputId": "dfc5d4b6-efe9-49dd-eb7e-7436c979eeef"
      },
      "outputs": [
        {
          "data": {
            "text/html": [
              "<div>\n",
              "<style scoped>\n",
              "    .dataframe tbody tr th:only-of-type {\n",
              "        vertical-align: middle;\n",
              "    }\n",
              "\n",
              "    .dataframe tbody tr th {\n",
              "        vertical-align: top;\n",
              "    }\n",
              "\n",
              "    .dataframe thead th {\n",
              "        text-align: right;\n",
              "    }\n",
              "</style>\n",
              "<table border=\"1\" class=\"dataframe\">\n",
              "  <thead>\n",
              "    <tr style=\"text-align: right;\">\n",
              "      <th></th>\n",
              "      <th>popularity</th>\n",
              "      <th>original_title</th>\n",
              "      <th>genres</th>\n",
              "      <th>vote_count</th>\n",
              "      <th>vote_average</th>\n",
              "      <th>release_year</th>\n",
              "      <th>budget_adj</th>\n",
              "      <th>revenue_adj</th>\n",
              "    </tr>\n",
              "  </thead>\n",
              "  <tbody>\n",
              "    <tr>\n",
              "      <th>0</th>\n",
              "      <td>32.985763</td>\n",
              "      <td>Jurassic World</td>\n",
              "      <td>Action|Adventure|Science Fiction|Thriller</td>\n",
              "      <td>5562</td>\n",
              "      <td>6.5</td>\n",
              "      <td>2015</td>\n",
              "      <td>137999939.3</td>\n",
              "      <td>1.392446e+09</td>\n",
              "    </tr>\n",
              "    <tr>\n",
              "      <th>1</th>\n",
              "      <td>28.419936</td>\n",
              "      <td>Mad Max: Fury Road</td>\n",
              "      <td>Action|Adventure|Science Fiction|Thriller</td>\n",
              "      <td>6185</td>\n",
              "      <td>7.1</td>\n",
              "      <td>2015</td>\n",
              "      <td>137999939.3</td>\n",
              "      <td>3.481613e+08</td>\n",
              "    </tr>\n",
              "    <tr>\n",
              "      <th>2</th>\n",
              "      <td>13.112507</td>\n",
              "      <td>Insurgent</td>\n",
              "      <td>Adventure|Science Fiction|Thriller</td>\n",
              "      <td>2480</td>\n",
              "      <td>6.3</td>\n",
              "      <td>2015</td>\n",
              "      <td>101199955.5</td>\n",
              "      <td>2.716190e+08</td>\n",
              "    </tr>\n",
              "    <tr>\n",
              "      <th>3</th>\n",
              "      <td>11.173104</td>\n",
              "      <td>Star Wars: The Force Awakens</td>\n",
              "      <td>Action|Adventure|Science Fiction|Fantasy</td>\n",
              "      <td>5292</td>\n",
              "      <td>7.5</td>\n",
              "      <td>2015</td>\n",
              "      <td>183999919.0</td>\n",
              "      <td>1.902723e+09</td>\n",
              "    </tr>\n",
              "    <tr>\n",
              "      <th>4</th>\n",
              "      <td>9.335014</td>\n",
              "      <td>Furious 7</td>\n",
              "      <td>Action|Crime|Thriller</td>\n",
              "      <td>2947</td>\n",
              "      <td>7.3</td>\n",
              "      <td>2015</td>\n",
              "      <td>174799923.1</td>\n",
              "      <td>1.385749e+09</td>\n",
              "    </tr>\n",
              "  </tbody>\n",
              "</table>\n",
              "</div>"
            ],
            "text/plain": [
              "   popularity                original_title  \\\n",
              "0   32.985763                Jurassic World   \n",
              "1   28.419936            Mad Max: Fury Road   \n",
              "2   13.112507                     Insurgent   \n",
              "3   11.173104  Star Wars: The Force Awakens   \n",
              "4    9.335014                     Furious 7   \n",
              "\n",
              "                                      genres  vote_count  vote_average  \\\n",
              "0  Action|Adventure|Science Fiction|Thriller        5562           6.5   \n",
              "1  Action|Adventure|Science Fiction|Thriller        6185           7.1   \n",
              "2         Adventure|Science Fiction|Thriller        2480           6.3   \n",
              "3   Action|Adventure|Science Fiction|Fantasy        5292           7.5   \n",
              "4                      Action|Crime|Thriller        2947           7.3   \n",
              "\n",
              "   release_year   budget_adj   revenue_adj  \n",
              "0          2015  137999939.3  1.392446e+09  \n",
              "1          2015  137999939.3  3.481613e+08  \n",
              "2          2015  101199955.5  2.716190e+08  \n",
              "3          2015  183999919.0  1.902723e+09  \n",
              "4          2015  174799923.1  1.385749e+09  "
            ]
          },
          "execution_count": 60,
          "metadata": {},
          "output_type": "execute_result"
        }
      ],
      "source": [
        "df.head()"
      ]
    },
    {
      "cell_type": "code",
      "execution_count": null,
      "id": "a16ad401",
      "metadata": {
        "id": "a16ad401",
        "outputId": "ed3a5ed1-dfa7-42b3-991a-4eb3f8e1d9e3"
      },
      "outputs": [
        {
          "data": {
            "text/plain": [
              "popularity         0\n",
              "original_title     0\n",
              "genres            23\n",
              "vote_count         0\n",
              "vote_average       0\n",
              "release_year       0\n",
              "budget_adj         0\n",
              "revenue_adj        0\n",
              "dtype: int64"
            ]
          },
          "execution_count": 62,
          "metadata": {},
          "output_type": "execute_result"
        }
      ],
      "source": [
        "df.isnull().sum()"
      ]
    },
    {
      "cell_type": "code",
      "execution_count": null,
      "id": "6ec4ba43",
      "metadata": {
        "id": "6ec4ba43"
      },
      "outputs": [],
      "source": [
        "df.dropna(inplace = True)"
      ]
    },
    {
      "cell_type": "code",
      "execution_count": null,
      "id": "5c871ac0",
      "metadata": {
        "id": "5c871ac0",
        "outputId": "fdf6ccdf-ec6b-41fc-b584-e6ff4fb199fa"
      },
      "outputs": [
        {
          "data": {
            "text/html": [
              "<div>\n",
              "<style scoped>\n",
              "    .dataframe tbody tr th:only-of-type {\n",
              "        vertical-align: middle;\n",
              "    }\n",
              "\n",
              "    .dataframe tbody tr th {\n",
              "        vertical-align: top;\n",
              "    }\n",
              "\n",
              "    .dataframe thead th {\n",
              "        text-align: right;\n",
              "    }\n",
              "</style>\n",
              "<table border=\"1\" class=\"dataframe\">\n",
              "  <thead>\n",
              "    <tr style=\"text-align: right;\">\n",
              "      <th></th>\n",
              "      <th>popularity</th>\n",
              "      <th>original_title</th>\n",
              "      <th>genres</th>\n",
              "      <th>vote_count</th>\n",
              "      <th>vote_average</th>\n",
              "      <th>release_year</th>\n",
              "      <th>budget_adj</th>\n",
              "      <th>revenue_adj</th>\n",
              "    </tr>\n",
              "  </thead>\n",
              "  <tbody>\n",
              "    <tr>\n",
              "      <th>0</th>\n",
              "      <td>32.985763</td>\n",
              "      <td>Jurassic World</td>\n",
              "      <td>Action|Adventure|Science Fiction|Thriller</td>\n",
              "      <td>5562</td>\n",
              "      <td>6.5</td>\n",
              "      <td>2015</td>\n",
              "      <td>137999939.3</td>\n",
              "      <td>1.392446e+09</td>\n",
              "    </tr>\n",
              "    <tr>\n",
              "      <th>1</th>\n",
              "      <td>28.419936</td>\n",
              "      <td>Mad Max: Fury Road</td>\n",
              "      <td>Action|Adventure|Science Fiction|Thriller</td>\n",
              "      <td>6185</td>\n",
              "      <td>7.1</td>\n",
              "      <td>2015</td>\n",
              "      <td>137999939.3</td>\n",
              "      <td>3.481613e+08</td>\n",
              "    </tr>\n",
              "    <tr>\n",
              "      <th>2</th>\n",
              "      <td>13.112507</td>\n",
              "      <td>Insurgent</td>\n",
              "      <td>Adventure|Science Fiction|Thriller</td>\n",
              "      <td>2480</td>\n",
              "      <td>6.3</td>\n",
              "      <td>2015</td>\n",
              "      <td>101199955.5</td>\n",
              "      <td>2.716190e+08</td>\n",
              "    </tr>\n",
              "    <tr>\n",
              "      <th>3</th>\n",
              "      <td>11.173104</td>\n",
              "      <td>Star Wars: The Force Awakens</td>\n",
              "      <td>Action|Adventure|Science Fiction|Fantasy</td>\n",
              "      <td>5292</td>\n",
              "      <td>7.5</td>\n",
              "      <td>2015</td>\n",
              "      <td>183999919.0</td>\n",
              "      <td>1.902723e+09</td>\n",
              "    </tr>\n",
              "    <tr>\n",
              "      <th>4</th>\n",
              "      <td>9.335014</td>\n",
              "      <td>Furious 7</td>\n",
              "      <td>Action|Crime|Thriller</td>\n",
              "      <td>2947</td>\n",
              "      <td>7.3</td>\n",
              "      <td>2015</td>\n",
              "      <td>174799923.1</td>\n",
              "      <td>1.385749e+09</td>\n",
              "    </tr>\n",
              "  </tbody>\n",
              "</table>\n",
              "</div>"
            ],
            "text/plain": [
              "   popularity                original_title  \\\n",
              "0   32.985763                Jurassic World   \n",
              "1   28.419936            Mad Max: Fury Road   \n",
              "2   13.112507                     Insurgent   \n",
              "3   11.173104  Star Wars: The Force Awakens   \n",
              "4    9.335014                     Furious 7   \n",
              "\n",
              "                                      genres  vote_count  vote_average  \\\n",
              "0  Action|Adventure|Science Fiction|Thriller        5562           6.5   \n",
              "1  Action|Adventure|Science Fiction|Thriller        6185           7.1   \n",
              "2         Adventure|Science Fiction|Thriller        2480           6.3   \n",
              "3   Action|Adventure|Science Fiction|Fantasy        5292           7.5   \n",
              "4                      Action|Crime|Thriller        2947           7.3   \n",
              "\n",
              "   release_year   budget_adj   revenue_adj  \n",
              "0          2015  137999939.3  1.392446e+09  \n",
              "1          2015  137999939.3  3.481613e+08  \n",
              "2          2015  101199955.5  2.716190e+08  \n",
              "3          2015  183999919.0  1.902723e+09  \n",
              "4          2015  174799923.1  1.385749e+09  "
            ]
          },
          "execution_count": 66,
          "metadata": {},
          "output_type": "execute_result"
        }
      ],
      "source": [
        "df.head()"
      ]
    },
    {
      "cell_type": "code",
      "execution_count": null,
      "id": "4a1f00d5",
      "metadata": {
        "id": "4a1f00d5"
      },
      "outputs": [],
      "source": [
        "genre_list = []\n",
        "for i in df['genres']:\n",
        "    i = i.split('|')\n",
        "    genre_list.append(i[0])\n",
        "df['genres_new'] = genre_list"
      ]
    },
    {
      "cell_type": "code",
      "execution_count": null,
      "id": "57470021",
      "metadata": {
        "id": "57470021",
        "outputId": "4ba0b10c-a203-4486-932b-3cca71bda2fd"
      },
      "outputs": [
        {
          "data": {
            "text/html": [
              "<div>\n",
              "<style scoped>\n",
              "    .dataframe tbody tr th:only-of-type {\n",
              "        vertical-align: middle;\n",
              "    }\n",
              "\n",
              "    .dataframe tbody tr th {\n",
              "        vertical-align: top;\n",
              "    }\n",
              "\n",
              "    .dataframe thead th {\n",
              "        text-align: right;\n",
              "    }\n",
              "</style>\n",
              "<table border=\"1\" class=\"dataframe\">\n",
              "  <thead>\n",
              "    <tr style=\"text-align: right;\">\n",
              "      <th></th>\n",
              "      <th>popularity</th>\n",
              "      <th>original_title</th>\n",
              "      <th>genres</th>\n",
              "      <th>vote_count</th>\n",
              "      <th>vote_average</th>\n",
              "      <th>release_year</th>\n",
              "      <th>budget_adj</th>\n",
              "      <th>revenue_adj</th>\n",
              "      <th>genres_new</th>\n",
              "    </tr>\n",
              "  </thead>\n",
              "  <tbody>\n",
              "    <tr>\n",
              "      <th>0</th>\n",
              "      <td>32.985763</td>\n",
              "      <td>Jurassic World</td>\n",
              "      <td>Action|Adventure|Science Fiction|Thriller</td>\n",
              "      <td>5562</td>\n",
              "      <td>6.5</td>\n",
              "      <td>2015</td>\n",
              "      <td>137999939.3</td>\n",
              "      <td>1.392446e+09</td>\n",
              "      <td>Action</td>\n",
              "    </tr>\n",
              "    <tr>\n",
              "      <th>1</th>\n",
              "      <td>28.419936</td>\n",
              "      <td>Mad Max: Fury Road</td>\n",
              "      <td>Action|Adventure|Science Fiction|Thriller</td>\n",
              "      <td>6185</td>\n",
              "      <td>7.1</td>\n",
              "      <td>2015</td>\n",
              "      <td>137999939.3</td>\n",
              "      <td>3.481613e+08</td>\n",
              "      <td>Action</td>\n",
              "    </tr>\n",
              "    <tr>\n",
              "      <th>2</th>\n",
              "      <td>13.112507</td>\n",
              "      <td>Insurgent</td>\n",
              "      <td>Adventure|Science Fiction|Thriller</td>\n",
              "      <td>2480</td>\n",
              "      <td>6.3</td>\n",
              "      <td>2015</td>\n",
              "      <td>101199955.5</td>\n",
              "      <td>2.716190e+08</td>\n",
              "      <td>Adventure</td>\n",
              "    </tr>\n",
              "    <tr>\n",
              "      <th>3</th>\n",
              "      <td>11.173104</td>\n",
              "      <td>Star Wars: The Force Awakens</td>\n",
              "      <td>Action|Adventure|Science Fiction|Fantasy</td>\n",
              "      <td>5292</td>\n",
              "      <td>7.5</td>\n",
              "      <td>2015</td>\n",
              "      <td>183999919.0</td>\n",
              "      <td>1.902723e+09</td>\n",
              "      <td>Action</td>\n",
              "    </tr>\n",
              "    <tr>\n",
              "      <th>4</th>\n",
              "      <td>9.335014</td>\n",
              "      <td>Furious 7</td>\n",
              "      <td>Action|Crime|Thriller</td>\n",
              "      <td>2947</td>\n",
              "      <td>7.3</td>\n",
              "      <td>2015</td>\n",
              "      <td>174799923.1</td>\n",
              "      <td>1.385749e+09</td>\n",
              "      <td>Action</td>\n",
              "    </tr>\n",
              "  </tbody>\n",
              "</table>\n",
              "</div>"
            ],
            "text/plain": [
              "   popularity                original_title  \\\n",
              "0   32.985763                Jurassic World   \n",
              "1   28.419936            Mad Max: Fury Road   \n",
              "2   13.112507                     Insurgent   \n",
              "3   11.173104  Star Wars: The Force Awakens   \n",
              "4    9.335014                     Furious 7   \n",
              "\n",
              "                                      genres  vote_count  vote_average  \\\n",
              "0  Action|Adventure|Science Fiction|Thriller        5562           6.5   \n",
              "1  Action|Adventure|Science Fiction|Thriller        6185           7.1   \n",
              "2         Adventure|Science Fiction|Thriller        2480           6.3   \n",
              "3   Action|Adventure|Science Fiction|Fantasy        5292           7.5   \n",
              "4                      Action|Crime|Thriller        2947           7.3   \n",
              "\n",
              "   release_year   budget_adj   revenue_adj genres_new  \n",
              "0          2015  137999939.3  1.392446e+09     Action  \n",
              "1          2015  137999939.3  3.481613e+08     Action  \n",
              "2          2015  101199955.5  2.716190e+08  Adventure  \n",
              "3          2015  183999919.0  1.902723e+09     Action  \n",
              "4          2015  174799923.1  1.385749e+09     Action  "
            ]
          },
          "execution_count": 72,
          "metadata": {},
          "output_type": "execute_result"
        }
      ],
      "source": [
        "df.head()"
      ]
    },
    {
      "cell_type": "code",
      "execution_count": null,
      "id": "230e7226",
      "metadata": {
        "id": "230e7226",
        "outputId": "3b12d3fa-229a-4480-ee28-6232d343fd5f"
      },
      "outputs": [
        {
          "data": {
            "text/plain": [
              "array(['Action', 'Adventure', 'Western', 'Science Fiction', 'Drama',\n",
              "       'Family', 'Comedy', 'Crime', 'Romance', 'War', 'Mystery',\n",
              "       'Thriller', 'Fantasy', 'History', 'Animation', 'Horror', 'Music',\n",
              "       'Documentary', 'TV Movie', 'Foreign'], dtype=object)"
            ]
          },
          "execution_count": 75,
          "metadata": {},
          "output_type": "execute_result"
        }
      ],
      "source": [
        "df['genres_new'].unique()"
      ]
    },
    {
      "cell_type": "code",
      "execution_count": null,
      "id": "570a9911",
      "metadata": {
        "id": "570a9911",
        "outputId": "968b7f6a-e812-47c4-e87d-dc165ce78ddc"
      },
      "outputs": [
        {
          "data": {
            "text/plain": [
              "Drama              2453\n",
              "Comedy             2319\n",
              "Action             1590\n",
              "Horror              915\n",
              "Adventure           586\n",
              "Thriller            491\n",
              "Documentary         432\n",
              "Animation           403\n",
              "Crime               380\n",
              "Fantasy             272\n",
              "Science Fiction     214\n",
              "Romance             186\n",
              "Family              144\n",
              "Mystery             125\n",
              "Music               100\n",
              "TV Movie             78\n",
              "War                  59\n",
              "History              44\n",
              "Western              42\n",
              "Foreign               9\n",
              "Name: genres_new, dtype: int64"
            ]
          },
          "execution_count": 77,
          "metadata": {},
          "output_type": "execute_result"
        }
      ],
      "source": [
        "df['genres_new'].value_counts()"
      ]
    },
    {
      "cell_type": "code",
      "execution_count": null,
      "id": "e3e6809a",
      "metadata": {
        "scrolled": true,
        "id": "e3e6809a",
        "outputId": "762c5099-a7bc-41fd-fd91-6c3e09e26c77"
      },
      "outputs": [
        {
          "data": {
            "text/plain": [
              "<function matplotlib.pyplot.show(close=None, block=None)>"
            ]
          },
          "execution_count": 87,
          "metadata": {},
          "output_type": "execute_result"
        },
        {
          "data": {
            "image/png": "[encoded data removed]",
            "text/plain": [
              "<Figure size 432x288 with 1 Axes>"
            ]
          },
          "metadata": {
            "needs_background": "light"
          },
          "output_type": "display_data"
        }
      ],
      "source": [
        "plt.bar(df['genres_new'].unique(), df['genres_new'].value_counts())\n",
        "plt.xticks(rotation = 'vertical')\n",
        "plt.xlabel('movie genre')\n",
        "plt.ylabel('occurence')\n",
        "plt.show"
      ]
    },
    {
      "cell_type": "code",
      "execution_count": null,
      "id": "da3045e4",
      "metadata": {
        "id": "da3045e4",
        "outputId": "38892ebc-342a-41ce-8e22-5e1219ffb60c"
      },
      "outputs": [
        {
          "data": {
            "text/plain": [
              "<AxesSubplot:ylabel='Frequency'>"
            ]
          },
          "execution_count": 85,
          "metadata": {},
          "output_type": "execute_result"
        },
        {
          "data": {
            "image/png": "[encoded data removed]",
            "text/plain": [
              "<Figure size 432x288 with 1 Axes>"
            ]
          },
          "metadata": {
            "needs_background": "light"
          },
          "output_type": "display_data"
        }
      ],
      "source": [
        "df['vote_average'].plot(kind = 'hist')"
      ]
    },
    {
      "cell_type": "code",
      "execution_count": null,
      "id": "78eb1937",
      "metadata": {
        "id": "78eb1937",
        "outputId": "23548483-0e41-4e00-a35b-d31032b55cca"
      },
      "outputs": [
        {
          "data": {
            "text/plain": [
              "<AxesSubplot:ylabel='Frequency'>"
            ]
          },
          "execution_count": 88,
          "metadata": {},
          "output_type": "execute_result"
        },
        {
          "data": {
            "image/png": "[encoded data removed]",
            "text/plain": [
              "<Figure size 432x288 with 1 Axes>"
            ]
          },
          "metadata": {
            "needs_background": "light"
          },
          "output_type": "display_data"
        }
      ],
      "source": [
        "df['budget_adj'].plot(kind = 'hist')"
      ]
    },
    {
      "cell_type": "code",
      "execution_count": null,
      "id": "691a2892",
      "metadata": {
        "id": "691a2892",
        "outputId": "b3ef7b8c-16ca-4f1f-8712-0f31fc094223"
      },
      "outputs": [
        {
          "data": {
            "text/plain": [
              "<AxesSubplot:ylabel='Frequency'>"
            ]
          },
          "execution_count": 89,
          "metadata": {},
          "output_type": "execute_result"
        },
        {
          "data": {
            "image/png": "[encoded data removed]",
            "text/plain": [
              "<Figure size 432x288 with 1 Axes>"
            ]
          },
          "metadata": {
            "needs_background": "light"
          },
          "output_type": "display_data"
        }
      ],
      "source": [
        "df['revenue_adj'].plot(kind = 'hist')"
      ]
    },
    {
      "cell_type": "code",
      "execution_count": null,
      "id": "bbea3529",
      "metadata": {
        "id": "bbea3529"
      },
      "outputs": [],
      "source": [
        "corr = df.corr()"
      ]
    },
    {
      "cell_type": "code",
      "execution_count": null,
      "id": "37ced09b",
      "metadata": {
        "id": "37ced09b",
        "outputId": "b7f0ae70-414b-4d12-e878-621eff9700ee"
      },
      "outputs": [
        {
          "data": {
            "text/plain": [
              "<AxesSubplot:>"
            ]
          },
          "execution_count": 97,
          "metadata": {},
          "output_type": "execute_result"
        },
        {
          "data": {
            "image/png": "[encoded data removed]",
            "text/plain": [
              "<Figure size 432x288 with 2 Axes>"
            ]
          },
          "metadata": {
            "needs_background": "light"
          },
          "output_type": "display_data"
        }
      ],
      "source": [
        "sns.heatmap(corr, xticklabels = corr.columns,  yticklabels = corr.columns, annot =True, cmap = sns.diverging_palette(220, 20, as_cmap = True))"
      ]
    },
    {
      "cell_type": "code",
      "execution_count": null,
      "id": "f92fa192",
      "metadata": {
        "id": "f92fa192",
        "outputId": "6aa5f350-e4ff-46b8-b4fd-1c0ca33b7b0c"
      },
      "outputs": [
        {
          "data": {
            "text/plain": [
              "<AxesSubplot:xlabel='budget_adj', ylabel='revenue_adj'>"
            ]
          },
          "execution_count": 98,
          "metadata": {},
          "output_type": "execute_result"
        },
        {
          "data": {
            "image/png": "[encoded data removed]",
            "text/plain": [
              "<Figure size 432x288 with 1 Axes>"
            ]
          },
          "metadata": {
            "needs_background": "light"
          },
          "output_type": "display_data"
        }
      ],
      "source": [
        "df.plot(kind = 'scatter', x = 'budget_adj', y = 'revenue_adj')"
      ]
    },
    {
      "cell_type": "code",
      "execution_count": null,
      "id": "11733b9f",
      "metadata": {
        "id": "11733b9f",
        "outputId": "723716fa-b460-49e5-8a71-b5f27499b1b9"
      },
      "outputs": [
        {
          "data": {
            "text/plain": [
              "<AxesSubplot:xlabel='vote_count', ylabel='revenue_adj'>"
            ]
          },
          "execution_count": 99,
          "metadata": {},
          "output_type": "execute_result"
        },
        {
          "data": {
            "image/png": "[encoded data removed]",
            "text/plain": [
              "<Figure size 432x288 with 1 Axes>"
            ]
          },
          "metadata": {
            "needs_background": "light"
          },
          "output_type": "display_data"
        }
      ],
      "source": [
        "df.plot(kind = 'scatter', x = 'vote_count', y = 'revenue_adj')"
      ]
    },
    {
      "cell_type": "code",
      "execution_count": null,
      "id": "6ed8626f",
      "metadata": {
        "id": "6ed8626f",
        "outputId": "1c5c5c7b-ab98-4e21-ddbb-dd12d8e6be60"
      },
      "outputs": [
        {
          "data": {
            "text/plain": [
              "<AxesSubplot:xlabel='vote_average', ylabel='revenue_adj'>"
            ]
          },
          "execution_count": 100,
          "metadata": {},
          "output_type": "execute_result"
        },
        {
          "data": {
            "image/png": "[encoded data removed]",
            "text/plain": [
              "<Figure size 432x288 with 1 Axes>"
            ]
          },
          "metadata": {
            "needs_background": "light"
          },
          "output_type": "display_data"
        }
      ],
      "source": [
        "df.plot(kind = 'scatter', x = 'vote_average', y = 'revenue_adj')"
      ]
    },
    {
      "cell_type": "markdown",
      "id": "4891c67c",
      "metadata": {
        "id": "4891c67c"
      },
      "source": [
        "genre de film le plus rentable"
      ]
    },
    {
      "cell_type": "code",
      "execution_count": null,
      "id": "6a5925a6",
      "metadata": {
        "id": "6a5925a6"
      },
      "outputs": [],
      "source": [
        "df_genre_revenu = df.groupby(['genres_new'])['revenue_adj'].mean()"
      ]
    },
    {
      "cell_type": "code",
      "execution_count": null,
      "id": "75500038",
      "metadata": {
        "scrolled": true,
        "id": "75500038",
        "outputId": "e57cb95b-12e1-462f-8d8c-b6def1634dbb"
      },
      "outputs": [
        {
          "data": {
            "text/plain": [
              "<AxesSubplot:xlabel='genres_new'>"
            ]
          },
          "execution_count": 104,
          "metadata": {},
          "output_type": "execute_result"
        },
        {
          "data": {
            "image/png": "[encoded data removed]",
            "text/plain": [
              "<Figure size 432x288 with 1 Axes>"
            ]
          },
          "metadata": {
            "needs_background": "light"
          },
          "output_type": "display_data"
        }
      ],
      "source": [
        "df_genre_revenu.plot(kind = 'bar')"
      ]
    },
    {
      "cell_type": "code",
      "execution_count": null,
      "id": "f61d9933",
      "metadata": {
        "id": "f61d9933"
      },
      "outputs": [],
      "source": [
        "df_genre_budget = df.groupby(['genres_new'])['budget_adj'].mean()"
      ]
    },
    {
      "cell_type": "code",
      "execution_count": null,
      "id": "ce035c40",
      "metadata": {
        "id": "ce035c40",
        "outputId": "56536471-0f0b-44d3-bc04-3927385cac1f"
      },
      "outputs": [
        {
          "data": {
            "text/plain": [
              "<AxesSubplot:xlabel='genres_new'>"
            ]
          },
          "execution_count": 113,
          "metadata": {},
          "output_type": "execute_result"
        },
        {
          "data": {
            "image/png": "[encoded data removed]",
            "text/plain": [
              "<Figure size 432x288 with 1 Axes>"
            ]
          },
          "metadata": {
            "needs_background": "light"
          },
          "output_type": "display_data"
        }
      ],
      "source": [
        "df_genre_budget.plot(kind= \"bar\")"
      ]
    },
    {
      "cell_type": "markdown",
      "id": "a63bd4eb",
      "metadata": {
        "id": "a63bd4eb"
      },
      "source": [
        "__caracteristique des films avec un très bon revenu.__"
      ]
    }
  ],
  "metadata": {
    "kernelspec": {
      "display_name": "Python 3 (ipykernel)",
      "language": "python",
      "name": "python3"
    },
    "language_info": {
      "codemirror_mode": {
        "name": "ipython",
        "version": 3
      },
      "file_extension": ".py",
      "mimetype": "text/x-python",
      "name": "python",
      "nbconvert_exporter": "python",
      "pygments_lexer": "ipython3",
      "version": "3.9.12"
    },
    "colab": {
      "provenance": [],
      "include_colab_link": true
    }
  },
  "nbformat": 4,
  "nbformat_minor": 5
}