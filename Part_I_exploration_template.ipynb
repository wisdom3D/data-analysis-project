{
  "cells": [
    {
      "cell_type": "markdown",
      "metadata": {
        "id": "view-in-github",
        "colab_type": "text"
      },
      "source": [
        "<a href=\"https://colab.research.google.com/github/wisdom3D/pandas/blob/main/Part_I_exploration_template.ipynb\" target=\"_parent\"><img src=\"https://colab.research.google.com/assets/colab-badge.svg\" alt=\"Open In Colab\"/></a>"
      ]
    },
    {
      "cell_type": "markdown",
      "metadata": {
        "id": "O7wehU7X0EHo"
      },
      "source": [
        "# Part I - (ordgobike)\n",
        "## by (KOUDAMA Hosé Wisdom)\n",
        "\n",
        "## Introduction\n",
        "\n",
        "cet ensemble de données comprend des informations sur les trajets individuels effectués dans un système de partage de vélos couvrant la grande région de la baie de San Francisco.\n",
        "\n",
        "\n",
        "\n",
        "## Preliminary Wrangling\n"
      ]
    },
    {
      "cell_type": "code",
      "execution_count": null,
      "metadata": {
        "id": "8r6MKN9h0EH3"
      },
      "outputs": [],
      "source": [
        "# import all packages and set plots to be embedded inline\n",
        "import numpy as np\n",
        "import pandas as pd\n",
        "import matplotlib.pyplot as plt\n",
        "import seaborn as sb\n",
        "import plotly.express as px\n",
        "%matplotlib inline"
      ]
    },
    {
      "cell_type": "code",
      "execution_count": null,
      "metadata": {
        "id": "F_DWNZD30EH9"
      },
      "outputs": [],
      "source": [
        "#mettre les données dans un dataframe pandas\n",
        "bike = pd.read_csv('/content/ordgobike-tripdata.csv')"
      ]
    },
    {
      "cell_type": "code",
      "source": [
        "# j'affiche la forme et les types de données de mon ensemble\n",
        "print(bike.shape)\n",
        "print(bike.dtypes)\n",
        "bike.head(4)"
      ],
      "metadata": {
        "colab": {
          "base_uri": "https://localhost:8080/",
          "height": 655
        },
        "id": "u16zPqfe8a02",
        "outputId": "7d91d0de-9c3b-48c7-b3b9-70a999fd76e2"
      },
      "execution_count": null,
      "outputs": [
        {
          "output_type": "stream",
          "name": "stdout",
          "text": [
            "(183412, 16)\n",
            "duration_sec                 int64\n",
            "start_time                  object\n",
            "end_time                    object\n",
            "start_station_id           float64\n",
            "start_station_name          object\n",
            "start_station_latitude     float64\n",
            "start_station_longitude    float64\n",
            "end_station_id             float64\n",
            "end_station_name            object\n",
            "end_station_latitude       float64\n",
            "end_station_longitude      float64\n",
            "bike_id                      int64\n",
            "user_type                   object\n",
            "member_birth_year          float64\n",
            "member_gender               object\n",
            "bike_share_for_all_trip     object\n",
            "dtype: object\n"
          ]
        },
        {
          "output_type": "execute_result",
          "data": {
            "text/plain": [
              "   duration_sec                start_time                  end_time  \\\n",
              "0         52185  2019-02-28 17:32:10.1450  2019-03-01 08:01:55.9750   \n",
              "1         42521  2019-02-28 18:53:21.7890  2019-03-01 06:42:03.0560   \n",
              "2         61854  2019-02-28 12:13:13.2180  2019-03-01 05:24:08.1460   \n",
              "3         36490  2019-02-28 17:54:26.0100  2019-03-01 04:02:36.8420   \n",
              "\n",
              "   start_station_id                                start_station_name  \\\n",
              "0              21.0  Montgomery St BART Station (Market St at 2nd St)   \n",
              "1              23.0                     The Embarcadero at Steuart St   \n",
              "2              86.0                           Market St at Dolores St   \n",
              "3             375.0                           Grove St at Masonic Ave   \n",
              "\n",
              "   start_station_latitude  start_station_longitude  end_station_id  \\\n",
              "0               37.789625              -122.400811            13.0   \n",
              "1               37.791464              -122.391034            81.0   \n",
              "2               37.769305              -122.426826             3.0   \n",
              "3               37.774836              -122.446546            70.0   \n",
              "\n",
              "                               end_station_name  end_station_latitude  \\\n",
              "0                Commercial St at Montgomery St             37.794231   \n",
              "1                            Berry St at 4th St             37.775880   \n",
              "2  Powell St BART Station (Market St at 4th St)             37.786375   \n",
              "3                        Central Ave at Fell St             37.773311   \n",
              "\n",
              "   end_station_longitude  bike_id   user_type  member_birth_year  \\\n",
              "0            -122.402923     4902    Customer             1984.0   \n",
              "1            -122.393170     2535    Customer                NaN   \n",
              "2            -122.404904     5905    Customer             1972.0   \n",
              "3            -122.444293     6638  Subscriber             1989.0   \n",
              "\n",
              "  member_gender bike_share_for_all_trip  \n",
              "0          Male                      No  \n",
              "1           NaN                      No  \n",
              "2          Male                      No  \n",
              "3         Other                      No  "
            ],
            "text/html": [
              "\n",
              "  <div id=\"df-d8af27fc-5ab6-4617-8280-f05d8d4fdb55\">\n",
              "    <div class=\"colab-df-container\">\n",
              "      <div>\n",
              "<style scoped>\n",
              "    .dataframe tbody tr th:only-of-type {\n",
              "        vertical-align: middle;\n",
              "    }\n",
              "\n",
              "    .dataframe tbody tr th {\n",
              "        vertical-align: top;\n",
              "    }\n",
              "\n",
              "    .dataframe thead th {\n",
              "        text-align: right;\n",
              "    }\n",
              "</style>\n",
              "<table border=\"1\" class=\"dataframe\">\n",
              "  <thead>\n",
              "    <tr style=\"text-align: right;\">\n",
              "      <th></th>\n",
              "      <th>duration_sec</th>\n",
              "      <th>start_time</th>\n",
              "      <th>end_time</th>\n",
              "      <th>start_station_id</th>\n",
              "      <th>start_station_name</th>\n",
              "      <th>start_station_latitude</th>\n",
              "      <th>start_station_longitude</th>\n",
              "      <th>end_station_id</th>\n",
              "      <th>end_station_name</th>\n",
              "      <th>end_station_latitude</th>\n",
              "      <th>end_station_longitude</th>\n",
              "      <th>bike_id</th>\n",
              "      <th>user_type</th>\n",
              "      <th>member_birth_year</th>\n",
              "      <th>member_gender</th>\n",
              "      <th>bike_share_for_all_trip</th>\n",
              "    </tr>\n",
              "  </thead>\n",
              "  <tbody>\n",
              "    <tr>\n",
              "      <th>0</th>\n",
              "      <td>52185</td>\n",
              "      <td>2019-02-28 17:32:10.1450</td>\n",
              "      <td>2019-03-01 08:01:55.9750</td>\n",
              "      <td>21.0</td>\n",
              "      <td>Montgomery St BART Station (Market St at 2nd St)</td>\n",
              "      <td>37.789625</td>\n",
              "      <td>-122.400811</td>\n",
              "      <td>13.0</td>\n",
              "      <td>Commercial St at Montgomery St</td>\n",
              "      <td>37.794231</td>\n",
              "      <td>-122.402923</td>\n",
              "      <td>4902</td>\n",
              "      <td>Customer</td>\n",
              "      <td>1984.0</td>\n",
              "      <td>Male</td>\n",
              "      <td>No</td>\n",
              "    </tr>\n",
              "    <tr>\n",
              "      <th>1</th>\n",
              "      <td>42521</td>\n",
              "      <td>2019-02-28 18:53:21.7890</td>\n",
              "      <td>2019-03-01 06:42:03.0560</td>\n",
              "      <td>23.0</td>\n",
              "      <td>The Embarcadero at Steuart St</td>\n",
              "      <td>37.791464</td>\n",
              "      <td>-122.391034</td>\n",
              "      <td>81.0</td>\n",
              "      <td>Berry St at 4th St</td>\n",
              "      <td>37.775880</td>\n",
              "      <td>-122.393170</td>\n",
              "      <td>2535</td>\n",
              "      <td>Customer</td>\n",
              "      <td>NaN</td>\n",
              "      <td>NaN</td>\n",
              "      <td>No</td>\n",
              "    </tr>\n",
              "    <tr>\n",
              "      <th>2</th>\n",
              "      <td>61854</td>\n",
              "      <td>2019-02-28 12:13:13.2180</td>\n",
              "      <td>2019-03-01 05:24:08.1460</td>\n",
              "      <td>86.0</td>\n",
              "      <td>Market St at Dolores St</td>\n",
              "      <td>37.769305</td>\n",
              "      <td>-122.426826</td>\n",
              "      <td>3.0</td>\n",
              "      <td>Powell St BART Station (Market St at 4th St)</td>\n",
              "      <td>37.786375</td>\n",
              "      <td>-122.404904</td>\n",
              "      <td>5905</td>\n",
              "      <td>Customer</td>\n",
              "      <td>1972.0</td>\n",
              "      <td>Male</td>\n",
              "      <td>No</td>\n",
              "    </tr>\n",
              "    <tr>\n",
              "      <th>3</th>\n",
              "      <td>36490</td>\n",
              "      <td>2019-02-28 17:54:26.0100</td>\n",
              "      <td>2019-03-01 04:02:36.8420</td>\n",
              "      <td>375.0</td>\n",
              "      <td>Grove St at Masonic Ave</td>\n",
              "      <td>37.774836</td>\n",
              "      <td>-122.446546</td>\n",
              "      <td>70.0</td>\n",
              "      <td>Central Ave at Fell St</td>\n",
              "      <td>37.773311</td>\n",
              "      <td>-122.444293</td>\n",
              "      <td>6638</td>\n",
              "      <td>Subscriber</td>\n",
              "      <td>1989.0</td>\n",
              "      <td>Other</td>\n",
              "      <td>No</td>\n",
              "    </tr>\n",
              "  </tbody>\n",
              "</table>\n",
              "</div>\n",
              "      <button class=\"colab-df-convert\" onclick=\"convertToInteractive('df-d8af27fc-5ab6-4617-8280-f05d8d4fdb55')\"\n",
              "              title=\"Convert this dataframe to an interactive table.\"\n",
              "              style=\"display:none;\">\n",
              "        \n",
              "  <svg xmlns=\"http://www.w3.org/2000/svg\" height=\"24px\"viewBox=\"0 0 24 24\"\n",
              "       width=\"24px\">\n",
              "    <path d=\"M0 0h24v24H0V0z\" fill=\"none\"/>\n",
              "    <path d=\"M18.56 5.44l.94 2.06.94-2.06 2.06-.94-2.06-.94-.94-2.06-.94 2.06-2.06.94zm-11 1L8.5 8.5l.94-2.06 2.06-.94-2.06-.94L8.5 2.5l-.94 2.06-2.06.94zm10 10l.94 2.06.94-2.06 2.06-.94-2.06-.94-.94-2.06-.94 2.06-2.06.94z\"/><path d=\"M17.41 7.96l-1.37-1.37c-.4-.4-.92-.59-1.43-.59-.52 0-1.04.2-1.43.59L10.3 9.45l-7.72 7.72c-.78.78-.78 2.05 0 2.83L4 21.41c.39.39.9.59 1.41.59.51 0 1.02-.2 1.41-.59l7.78-7.78 2.81-2.81c.8-.78.8-2.07 0-2.86zM5.41 20L4 18.59l7.72-7.72 1.47 1.35L5.41 20z\"/>\n",
              "  </svg>\n",
              "      </button>\n",
              "      \n",
              "  <style>\n",
              "    .colab-df-container {\n",
              "      display:flex;\n",
              "      flex-wrap:wrap;\n",
              "      gap: 12px;\n",
              "    }\n",
              "\n",
              "    .colab-df-convert {\n",
              "      background-color: #E8F0FE;\n",
              "      border: none;\n",
              "      border-radius: 50%;\n",
              "      cursor: pointer;\n",
              "      display: none;\n",
              "      fill: #1967D2;\n",
              "      height: 32px;\n",
              "      padding: 0 0 0 0;\n",
              "      width: 32px;\n",
              "    }\n",
              "\n",
              "    .colab-df-convert:hover {\n",
              "      background-color: #E2EBFA;\n",
              "      box-shadow: 0px 1px 2px rgba(60, 64, 67, 0.3), 0px 1px 3px 1px rgba(60, 64, 67, 0.15);\n",
              "      fill: #174EA6;\n",
              "    }\n",
              "\n",
              "    [theme=dark] .colab-df-convert {\n",
              "      background-color: #3B4455;\n",
              "      fill: #D2E3FC;\n",
              "    }\n",
              "\n",
              "    [theme=dark] .colab-df-convert:hover {\n",
              "      background-color: #434B5C;\n",
              "      box-shadow: 0px 1px 3px 1px rgba(0, 0, 0, 0.15);\n",
              "      filter: drop-shadow(0px 1px 2px rgba(0, 0, 0, 0.3));\n",
              "      fill: #FFFFFF;\n",
              "    }\n",
              "  </style>\n",
              "\n",
              "      <script>\n",
              "        const buttonEl =\n",
              "          document.querySelector('#df-d8af27fc-5ab6-4617-8280-f05d8d4fdb55 button.colab-df-convert');\n",
              "        buttonEl.style.display =\n",
              "          google.colab.kernel.accessAllowed ? 'block' : 'none';\n",
              "\n",
              "        async function convertToInteractive(key) {\n",
              "          const element = document.querySelector('#df-d8af27fc-5ab6-4617-8280-f05d8d4fdb55');\n",
              "          const dataTable =\n",
              "            await google.colab.kernel.invokeFunction('convertToInteractive',\n",
              "                                                     [key], {});\n",
              "          if (!dataTable) return;\n",
              "\n",
              "          const docLinkHtml = 'Like what you see? Visit the ' +\n",
              "            '<a target=\"_blank\" href=https://colab.research.google.com/notebooks/data_table.ipynb>data table notebook</a>'\n",
              "            + ' to learn more about interactive tables.';\n",
              "          element.innerHTML = '';\n",
              "          dataTable['output_type'] = 'display_data';\n",
              "          await google.colab.output.renderOutput(dataTable, element);\n",
              "          const docLink = document.createElement('div');\n",
              "          docLink.innerHTML = docLinkHtml;\n",
              "          element.appendChild(docLink);\n",
              "        }\n",
              "      </script>\n",
              "    </div>\n",
              "  </div>\n",
              "  "
            ]
          },
          "metadata": {},
          "execution_count": 3
        }
      ]
    },
    {
      "cell_type": "code",
      "source": [
        "# je dois convertire les variables start_time,\tend_time en type datetime\n",
        "bike['start_time'] = pd.to_datetime(bike['start_time'])\n",
        "bike['end_time'] = pd.to_datetime(bike['end_time'])"
      ],
      "metadata": {
        "id": "oc8uKFfX9Xie"
      },
      "execution_count": null,
      "outputs": []
    },
    {
      "cell_type": "code",
      "source": [
        "#Test de la precedente instruction\n",
        "print(bike['start_time'].dtypes)\n",
        "print(bike['end_time'].dtypes)"
      ],
      "metadata": {
        "colab": {
          "base_uri": "https://localhost:8080/"
        },
        "id": "HA-n0igRAQcX",
        "outputId": "752bde74-3961-4102-b20a-90631eb983ce"
      },
      "execution_count": null,
      "outputs": [
        {
          "output_type": "stream",
          "name": "stdout",
          "text": [
            "datetime64[ns]\n",
            "datetime64[ns]\n"
          ]
        }
      ]
    },
    {
      "cell_type": "code",
      "source": [
        "# vérification pour le genre nous ne devons pas avoir plus de 3 propositions\n",
        "bike['member_gender'].unique()"
      ],
      "metadata": {
        "colab": {
          "base_uri": "https://localhost:8080/"
        },
        "id": "FqlqkR74CHs9",
        "outputId": "56e2b9f8-e7b1-4cdd-d8ec-f13ee024517e"
      },
      "execution_count": null,
      "outputs": [
        {
          "output_type": "execute_result",
          "data": {
            "text/plain": [
              "array(['Male', nan, 'Other', 'Female'], dtype=object)"
            ]
          },
          "metadata": {},
          "execution_count": 6
        }
      ]
    },
    {
      "cell_type": "code",
      "source": [
        "bike[bike['member_gender'] == bike['member_gender'].isnull()]"
      ],
      "metadata": {
        "colab": {
          "base_uri": "https://localhost:8080/",
          "height": 113
        },
        "id": "4zksu6-aC2T9",
        "outputId": "2be8b410-1cc0-4d00-c163-426331f9f341"
      },
      "execution_count": null,
      "outputs": [
        {
          "output_type": "execute_result",
          "data": {
            "text/plain": [
              "Empty DataFrame\n",
              "Columns: [duration_sec, start_time, end_time, start_station_id, start_station_name, start_station_latitude, start_station_longitude, end_station_id, end_station_name, end_station_latitude, end_station_longitude, bike_id, user_type, member_birth_year, member_gender, bike_share_for_all_trip]\n",
              "Index: []"
            ],
            "text/html": [
              "\n",
              "  <div id=\"df-924f3fba-cc28-405b-ac00-3b57d9cbeafe\">\n",
              "    <div class=\"colab-df-container\">\n",
              "      <div>\n",
              "<style scoped>\n",
              "    .dataframe tbody tr th:only-of-type {\n",
              "        vertical-align: middle;\n",
              "    }\n",
              "\n",
              "    .dataframe tbody tr th {\n",
              "        vertical-align: top;\n",
              "    }\n",
              "\n",
              "    .dataframe thead th {\n",
              "        text-align: right;\n",
              "    }\n",
              "</style>\n",
              "<table border=\"1\" class=\"dataframe\">\n",
              "  <thead>\n",
              "    <tr style=\"text-align: right;\">\n",
              "      <th></th>\n",
              "      <th>duration_sec</th>\n",
              "      <th>start_time</th>\n",
              "      <th>end_time</th>\n",
              "      <th>start_station_id</th>\n",
              "      <th>start_station_name</th>\n",
              "      <th>start_station_latitude</th>\n",
              "      <th>start_station_longitude</th>\n",
              "      <th>end_station_id</th>\n",
              "      <th>end_station_name</th>\n",
              "      <th>end_station_latitude</th>\n",
              "      <th>end_station_longitude</th>\n",
              "      <th>bike_id</th>\n",
              "      <th>user_type</th>\n",
              "      <th>member_birth_year</th>\n",
              "      <th>member_gender</th>\n",
              "      <th>bike_share_for_all_trip</th>\n",
              "    </tr>\n",
              "  </thead>\n",
              "  <tbody>\n",
              "  </tbody>\n",
              "</table>\n",
              "</div>\n",
              "      <button class=\"colab-df-convert\" onclick=\"convertToInteractive('df-924f3fba-cc28-405b-ac00-3b57d9cbeafe')\"\n",
              "              title=\"Convert this dataframe to an interactive table.\"\n",
              "              style=\"display:none;\">\n",
              "        \n",
              "  <svg xmlns=\"http://www.w3.org/2000/svg\" height=\"24px\"viewBox=\"0 0 24 24\"\n",
              "       width=\"24px\">\n",
              "    <path d=\"M0 0h24v24H0V0z\" fill=\"none\"/>\n",
              "    <path d=\"M18.56 5.44l.94 2.06.94-2.06 2.06-.94-2.06-.94-.94-2.06-.94 2.06-2.06.94zm-11 1L8.5 8.5l.94-2.06 2.06-.94-2.06-.94L8.5 2.5l-.94 2.06-2.06.94zm10 10l.94 2.06.94-2.06 2.06-.94-2.06-.94-.94-2.06-.94 2.06-2.06.94z\"/><path d=\"M17.41 7.96l-1.37-1.37c-.4-.4-.92-.59-1.43-.59-.52 0-1.04.2-1.43.59L10.3 9.45l-7.72 7.72c-.78.78-.78 2.05 0 2.83L4 21.41c.39.39.9.59 1.41.59.51 0 1.02-.2 1.41-.59l7.78-7.78 2.81-2.81c.8-.78.8-2.07 0-2.86zM5.41 20L4 18.59l7.72-7.72 1.47 1.35L5.41 20z\"/>\n",
              "  </svg>\n",
              "      </button>\n",
              "      \n",
              "  <style>\n",
              "    .colab-df-container {\n",
              "      display:flex;\n",
              "      flex-wrap:wrap;\n",
              "      gap: 12px;\n",
              "    }\n",
              "\n",
              "    .colab-df-convert {\n",
              "      background-color: #E8F0FE;\n",
              "      border: none;\n",
              "      border-radius: 50%;\n",
              "      cursor: pointer;\n",
              "      display: none;\n",
              "      fill: #1967D2;\n",
              "      height: 32px;\n",
              "      padding: 0 0 0 0;\n",
              "      width: 32px;\n",
              "    }\n",
              "\n",
              "    .colab-df-convert:hover {\n",
              "      background-color: #E2EBFA;\n",
              "      box-shadow: 0px 1px 2px rgba(60, 64, 67, 0.3), 0px 1px 3px 1px rgba(60, 64, 67, 0.15);\n",
              "      fill: #174EA6;\n",
              "    }\n",
              "\n",
              "    [theme=dark] .colab-df-convert {\n",
              "      background-color: #3B4455;\n",
              "      fill: #D2E3FC;\n",
              "    }\n",
              "\n",
              "    [theme=dark] .colab-df-convert:hover {\n",
              "      background-color: #434B5C;\n",
              "      box-shadow: 0px 1px 3px 1px rgba(0, 0, 0, 0.15);\n",
              "      filter: drop-shadow(0px 1px 2px rgba(0, 0, 0, 0.3));\n",
              "      fill: #FFFFFF;\n",
              "    }\n",
              "  </style>\n",
              "\n",
              "      <script>\n",
              "        const buttonEl =\n",
              "          document.querySelector('#df-924f3fba-cc28-405b-ac00-3b57d9cbeafe button.colab-df-convert');\n",
              "        buttonEl.style.display =\n",
              "          google.colab.kernel.accessAllowed ? 'block' : 'none';\n",
              "\n",
              "        async function convertToInteractive(key) {\n",
              "          const element = document.querySelector('#df-924f3fba-cc28-405b-ac00-3b57d9cbeafe');\n",
              "          const dataTable =\n",
              "            await google.colab.kernel.invokeFunction('convertToInteractive',\n",
              "                                                     [key], {});\n",
              "          if (!dataTable) return;\n",
              "\n",
              "          const docLinkHtml = 'Like what you see? Visit the ' +\n",
              "            '<a target=\"_blank\" href=https://colab.research.google.com/notebooks/data_table.ipynb>data table notebook</a>'\n",
              "            + ' to learn more about interactive tables.';\n",
              "          element.innerHTML = '';\n",
              "          dataTable['output_type'] = 'display_data';\n",
              "          await google.colab.output.renderOutput(dataTable, element);\n",
              "          const docLink = document.createElement('div');\n",
              "          docLink.innerHTML = docLinkHtml;\n",
              "          element.appendChild(docLink);\n",
              "        }\n",
              "      </script>\n",
              "    </div>\n",
              "  </div>\n",
              "  "
            ]
          },
          "metadata": {},
          "execution_count": 7
        }
      ]
    },
    {
      "cell_type": "code",
      "source": [
        "# je supprime la seconde ligne car elle contient des valeur NaN pour member_birth_year et\tmember_gender\n",
        "bike.drop(1, inplace = True)"
      ],
      "metadata": {
        "id": "lNhsZYS4UWRa"
      },
      "execution_count": null,
      "outputs": []
    },
    {
      "cell_type": "code",
      "source": [
        "#j'affiche les quatres premières lignes \n",
        "bike.head(4)"
      ],
      "metadata": {
        "colab": {
          "base_uri": "https://localhost:8080/",
          "height": 343
        },
        "id": "kmVhoeNPVVop",
        "outputId": "05149758-17fb-4617-9d1a-eb826003d677"
      },
      "execution_count": null,
      "outputs": [
        {
          "output_type": "execute_result",
          "data": {
            "text/plain": [
              "   duration_sec              start_time                end_time  \\\n",
              "0         52185 2019-02-28 17:32:10.145 2019-03-01 08:01:55.975   \n",
              "2         61854 2019-02-28 12:13:13.218 2019-03-01 05:24:08.146   \n",
              "3         36490 2019-02-28 17:54:26.010 2019-03-01 04:02:36.842   \n",
              "4          1585 2019-02-28 23:54:18.549 2019-03-01 00:20:44.074   \n",
              "\n",
              "   start_station_id                                start_station_name  \\\n",
              "0              21.0  Montgomery St BART Station (Market St at 2nd St)   \n",
              "2              86.0                           Market St at Dolores St   \n",
              "3             375.0                           Grove St at Masonic Ave   \n",
              "4               7.0                               Frank H Ogawa Plaza   \n",
              "\n",
              "   start_station_latitude  start_station_longitude  end_station_id  \\\n",
              "0               37.789625              -122.400811            13.0   \n",
              "2               37.769305              -122.426826             3.0   \n",
              "3               37.774836              -122.446546            70.0   \n",
              "4               37.804562              -122.271738           222.0   \n",
              "\n",
              "                               end_station_name  end_station_latitude  \\\n",
              "0                Commercial St at Montgomery St             37.794231   \n",
              "2  Powell St BART Station (Market St at 4th St)             37.786375   \n",
              "3                        Central Ave at Fell St             37.773311   \n",
              "4                         10th Ave at E 15th St             37.792714   \n",
              "\n",
              "   end_station_longitude  bike_id   user_type  member_birth_year  \\\n",
              "0            -122.402923     4902    Customer             1984.0   \n",
              "2            -122.404904     5905    Customer             1972.0   \n",
              "3            -122.444293     6638  Subscriber             1989.0   \n",
              "4            -122.248780     4898  Subscriber             1974.0   \n",
              "\n",
              "  member_gender bike_share_for_all_trip  \n",
              "0          Male                      No  \n",
              "2          Male                      No  \n",
              "3         Other                      No  \n",
              "4          Male                     Yes  "
            ],
            "text/html": [
              "\n",
              "  <div id=\"df-e37d7f61-ed4d-4070-81c9-ef693350fb92\">\n",
              "    <div class=\"colab-df-container\">\n",
              "      <div>\n",
              "<style scoped>\n",
              "    .dataframe tbody tr th:only-of-type {\n",
              "        vertical-align: middle;\n",
              "    }\n",
              "\n",
              "    .dataframe tbody tr th {\n",
              "        vertical-align: top;\n",
              "    }\n",
              "\n",
              "    .dataframe thead th {\n",
              "        text-align: right;\n",
              "    }\n",
              "</style>\n",
              "<table border=\"1\" class=\"dataframe\">\n",
              "  <thead>\n",
              "    <tr style=\"text-align: right;\">\n",
              "      <th></th>\n",
              "      <th>duration_sec</th>\n",
              "      <th>start_time</th>\n",
              "      <th>end_time</th>\n",
              "      <th>start_station_id</th>\n",
              "      <th>start_station_name</th>\n",
              "      <th>start_station_latitude</th>\n",
              "      <th>start_station_longitude</th>\n",
              "      <th>end_station_id</th>\n",
              "      <th>end_station_name</th>\n",
              "      <th>end_station_latitude</th>\n",
              "      <th>end_station_longitude</th>\n",
              "      <th>bike_id</th>\n",
              "      <th>user_type</th>\n",
              "      <th>member_birth_year</th>\n",
              "      <th>member_gender</th>\n",
              "      <th>bike_share_for_all_trip</th>\n",
              "    </tr>\n",
              "  </thead>\n",
              "  <tbody>\n",
              "    <tr>\n",
              "      <th>0</th>\n",
              "      <td>52185</td>\n",
              "      <td>2019-02-28 17:32:10.145</td>\n",
              "      <td>2019-03-01 08:01:55.975</td>\n",
              "      <td>21.0</td>\n",
              "      <td>Montgomery St BART Station (Market St at 2nd St)</td>\n",
              "      <td>37.789625</td>\n",
              "      <td>-122.400811</td>\n",
              "      <td>13.0</td>\n",
              "      <td>Commercial St at Montgomery St</td>\n",
              "      <td>37.794231</td>\n",
              "      <td>-122.402923</td>\n",
              "      <td>4902</td>\n",
              "      <td>Customer</td>\n",
              "      <td>1984.0</td>\n",
              "      <td>Male</td>\n",
              "      <td>No</td>\n",
              "    </tr>\n",
              "    <tr>\n",
              "      <th>2</th>\n",
              "      <td>61854</td>\n",
              "      <td>2019-02-28 12:13:13.218</td>\n",
              "      <td>2019-03-01 05:24:08.146</td>\n",
              "      <td>86.0</td>\n",
              "      <td>Market St at Dolores St</td>\n",
              "      <td>37.769305</td>\n",
              "      <td>-122.426826</td>\n",
              "      <td>3.0</td>\n",
              "      <td>Powell St BART Station (Market St at 4th St)</td>\n",
              "      <td>37.786375</td>\n",
              "      <td>-122.404904</td>\n",
              "      <td>5905</td>\n",
              "      <td>Customer</td>\n",
              "      <td>1972.0</td>\n",
              "      <td>Male</td>\n",
              "      <td>No</td>\n",
              "    </tr>\n",
              "    <tr>\n",
              "      <th>3</th>\n",
              "      <td>36490</td>\n",
              "      <td>2019-02-28 17:54:26.010</td>\n",
              "      <td>2019-03-01 04:02:36.842</td>\n",
              "      <td>375.0</td>\n",
              "      <td>Grove St at Masonic Ave</td>\n",
              "      <td>37.774836</td>\n",
              "      <td>-122.446546</td>\n",
              "      <td>70.0</td>\n",
              "      <td>Central Ave at Fell St</td>\n",
              "      <td>37.773311</td>\n",
              "      <td>-122.444293</td>\n",
              "      <td>6638</td>\n",
              "      <td>Subscriber</td>\n",
              "      <td>1989.0</td>\n",
              "      <td>Other</td>\n",
              "      <td>No</td>\n",
              "    </tr>\n",
              "    <tr>\n",
              "      <th>4</th>\n",
              "      <td>1585</td>\n",
              "      <td>2019-02-28 23:54:18.549</td>\n",
              "      <td>2019-03-01 00:20:44.074</td>\n",
              "      <td>7.0</td>\n",
              "      <td>Frank H Ogawa Plaza</td>\n",
              "      <td>37.804562</td>\n",
              "      <td>-122.271738</td>\n",
              "      <td>222.0</td>\n",
              "      <td>10th Ave at E 15th St</td>\n",
              "      <td>37.792714</td>\n",
              "      <td>-122.248780</td>\n",
              "      <td>4898</td>\n",
              "      <td>Subscriber</td>\n",
              "      <td>1974.0</td>\n",
              "      <td>Male</td>\n",
              "      <td>Yes</td>\n",
              "    </tr>\n",
              "  </tbody>\n",
              "</table>\n",
              "</div>\n",
              "      <button class=\"colab-df-convert\" onclick=\"convertToInteractive('df-e37d7f61-ed4d-4070-81c9-ef693350fb92')\"\n",
              "              title=\"Convert this dataframe to an interactive table.\"\n",
              "              style=\"display:none;\">\n",
              "        \n",
              "  <svg xmlns=\"http://www.w3.org/2000/svg\" height=\"24px\"viewBox=\"0 0 24 24\"\n",
              "       width=\"24px\">\n",
              "    <path d=\"M0 0h24v24H0V0z\" fill=\"none\"/>\n",
              "    <path d=\"M18.56 5.44l.94 2.06.94-2.06 2.06-.94-2.06-.94-.94-2.06-.94 2.06-2.06.94zm-11 1L8.5 8.5l.94-2.06 2.06-.94-2.06-.94L8.5 2.5l-.94 2.06-2.06.94zm10 10l.94 2.06.94-2.06 2.06-.94-2.06-.94-.94-2.06-.94 2.06-2.06.94z\"/><path d=\"M17.41 7.96l-1.37-1.37c-.4-.4-.92-.59-1.43-.59-.52 0-1.04.2-1.43.59L10.3 9.45l-7.72 7.72c-.78.78-.78 2.05 0 2.83L4 21.41c.39.39.9.59 1.41.59.51 0 1.02-.2 1.41-.59l7.78-7.78 2.81-2.81c.8-.78.8-2.07 0-2.86zM5.41 20L4 18.59l7.72-7.72 1.47 1.35L5.41 20z\"/>\n",
              "  </svg>\n",
              "      </button>\n",
              "      \n",
              "  <style>\n",
              "    .colab-df-container {\n",
              "      display:flex;\n",
              "      flex-wrap:wrap;\n",
              "      gap: 12px;\n",
              "    }\n",
              "\n",
              "    .colab-df-convert {\n",
              "      background-color: #E8F0FE;\n",
              "      border: none;\n",
              "      border-radius: 50%;\n",
              "      cursor: pointer;\n",
              "      display: none;\n",
              "      fill: #1967D2;\n",
              "      height: 32px;\n",
              "      padding: 0 0 0 0;\n",
              "      width: 32px;\n",
              "    }\n",
              "\n",
              "    .colab-df-convert:hover {\n",
              "      background-color: #E2EBFA;\n",
              "      box-shadow: 0px 1px 2px rgba(60, 64, 67, 0.3), 0px 1px 3px 1px rgba(60, 64, 67, 0.15);\n",
              "      fill: #174EA6;\n",
              "    }\n",
              "\n",
              "    [theme=dark] .colab-df-convert {\n",
              "      background-color: #3B4455;\n",
              "      fill: #D2E3FC;\n",
              "    }\n",
              "\n",
              "    [theme=dark] .colab-df-convert:hover {\n",
              "      background-color: #434B5C;\n",
              "      box-shadow: 0px 1px 3px 1px rgba(0, 0, 0, 0.15);\n",
              "      filter: drop-shadow(0px 1px 2px rgba(0, 0, 0, 0.3));\n",
              "      fill: #FFFFFF;\n",
              "    }\n",
              "  </style>\n",
              "\n",
              "      <script>\n",
              "        const buttonEl =\n",
              "          document.querySelector('#df-e37d7f61-ed4d-4070-81c9-ef693350fb92 button.colab-df-convert');\n",
              "        buttonEl.style.display =\n",
              "          google.colab.kernel.accessAllowed ? 'block' : 'none';\n",
              "\n",
              "        async function convertToInteractive(key) {\n",
              "          const element = document.querySelector('#df-e37d7f61-ed4d-4070-81c9-ef693350fb92');\n",
              "          const dataTable =\n",
              "            await google.colab.kernel.invokeFunction('convertToInteractive',\n",
              "                                                     [key], {});\n",
              "          if (!dataTable) return;\n",
              "\n",
              "          const docLinkHtml = 'Like what you see? Visit the ' +\n",
              "            '<a target=\"_blank\" href=https://colab.research.google.com/notebooks/data_table.ipynb>data table notebook</a>'\n",
              "            + ' to learn more about interactive tables.';\n",
              "          element.innerHTML = '';\n",
              "          dataTable['output_type'] = 'display_data';\n",
              "          await google.colab.output.renderOutput(dataTable, element);\n",
              "          const docLink = document.createElement('div');\n",
              "          docLink.innerHTML = docLinkHtml;\n",
              "          element.appendChild(docLink);\n",
              "        }\n",
              "      </script>\n",
              "    </div>\n",
              "  </div>\n",
              "  "
            ]
          },
          "metadata": {},
          "execution_count": 9
        }
      ]
    },
    {
      "cell_type": "code",
      "source": [
        "#je fait une description des colonnes 'duration_sec'et 'member_birth_year'\n",
        "bike[['duration_sec', 'member_birth_year']].describe()"
      ],
      "metadata": {
        "colab": {
          "base_uri": "https://localhost:8080/",
          "height": 300
        },
        "id": "N5d84mtRMimv",
        "outputId": "71533659-a8d0-4c1e-d9d8-6c526b81c1c5"
      },
      "execution_count": null,
      "outputs": [
        {
          "output_type": "execute_result",
          "data": {
            "text/plain": [
              "        duration_sec  member_birth_year\n",
              "count  183411.000000      175147.000000\n",
              "mean      725.850560        1984.806437\n",
              "std      1791.738844          10.116689\n",
              "min        61.000000        1878.000000\n",
              "25%       325.000000        1980.000000\n",
              "50%       514.000000        1987.000000\n",
              "75%       796.000000        1992.000000\n",
              "max     85444.000000        2001.000000"
            ],
            "text/html": [
              "\n",
              "  <div id=\"df-3440fd8a-b253-4b23-a295-b441613f28ca\">\n",
              "    <div class=\"colab-df-container\">\n",
              "      <div>\n",
              "<style scoped>\n",
              "    .dataframe tbody tr th:only-of-type {\n",
              "        vertical-align: middle;\n",
              "    }\n",
              "\n",
              "    .dataframe tbody tr th {\n",
              "        vertical-align: top;\n",
              "    }\n",
              "\n",
              "    .dataframe thead th {\n",
              "        text-align: right;\n",
              "    }\n",
              "</style>\n",
              "<table border=\"1\" class=\"dataframe\">\n",
              "  <thead>\n",
              "    <tr style=\"text-align: right;\">\n",
              "      <th></th>\n",
              "      <th>duration_sec</th>\n",
              "      <th>member_birth_year</th>\n",
              "    </tr>\n",
              "  </thead>\n",
              "  <tbody>\n",
              "    <tr>\n",
              "      <th>count</th>\n",
              "      <td>183411.000000</td>\n",
              "      <td>175147.000000</td>\n",
              "    </tr>\n",
              "    <tr>\n",
              "      <th>mean</th>\n",
              "      <td>725.850560</td>\n",
              "      <td>1984.806437</td>\n",
              "    </tr>\n",
              "    <tr>\n",
              "      <th>std</th>\n",
              "      <td>1791.738844</td>\n",
              "      <td>10.116689</td>\n",
              "    </tr>\n",
              "    <tr>\n",
              "      <th>min</th>\n",
              "      <td>61.000000</td>\n",
              "      <td>1878.000000</td>\n",
              "    </tr>\n",
              "    <tr>\n",
              "      <th>25%</th>\n",
              "      <td>325.000000</td>\n",
              "      <td>1980.000000</td>\n",
              "    </tr>\n",
              "    <tr>\n",
              "      <th>50%</th>\n",
              "      <td>514.000000</td>\n",
              "      <td>1987.000000</td>\n",
              "    </tr>\n",
              "    <tr>\n",
              "      <th>75%</th>\n",
              "      <td>796.000000</td>\n",
              "      <td>1992.000000</td>\n",
              "    </tr>\n",
              "    <tr>\n",
              "      <th>max</th>\n",
              "      <td>85444.000000</td>\n",
              "      <td>2001.000000</td>\n",
              "    </tr>\n",
              "  </tbody>\n",
              "</table>\n",
              "</div>\n",
              "      <button class=\"colab-df-convert\" onclick=\"convertToInteractive('df-3440fd8a-b253-4b23-a295-b441613f28ca')\"\n",
              "              title=\"Convert this dataframe to an interactive table.\"\n",
              "              style=\"display:none;\">\n",
              "        \n",
              "  <svg xmlns=\"http://www.w3.org/2000/svg\" height=\"24px\"viewBox=\"0 0 24 24\"\n",
              "       width=\"24px\">\n",
              "    <path d=\"M0 0h24v24H0V0z\" fill=\"none\"/>\n",
              "    <path d=\"M18.56 5.44l.94 2.06.94-2.06 2.06-.94-2.06-.94-.94-2.06-.94 2.06-2.06.94zm-11 1L8.5 8.5l.94-2.06 2.06-.94-2.06-.94L8.5 2.5l-.94 2.06-2.06.94zm10 10l.94 2.06.94-2.06 2.06-.94-2.06-.94-.94-2.06-.94 2.06-2.06.94z\"/><path d=\"M17.41 7.96l-1.37-1.37c-.4-.4-.92-.59-1.43-.59-.52 0-1.04.2-1.43.59L10.3 9.45l-7.72 7.72c-.78.78-.78 2.05 0 2.83L4 21.41c.39.39.9.59 1.41.59.51 0 1.02-.2 1.41-.59l7.78-7.78 2.81-2.81c.8-.78.8-2.07 0-2.86zM5.41 20L4 18.59l7.72-7.72 1.47 1.35L5.41 20z\"/>\n",
              "  </svg>\n",
              "      </button>\n",
              "      \n",
              "  <style>\n",
              "    .colab-df-container {\n",
              "      display:flex;\n",
              "      flex-wrap:wrap;\n",
              "      gap: 12px;\n",
              "    }\n",
              "\n",
              "    .colab-df-convert {\n",
              "      background-color: #E8F0FE;\n",
              "      border: none;\n",
              "      border-radius: 50%;\n",
              "      cursor: pointer;\n",
              "      display: none;\n",
              "      fill: #1967D2;\n",
              "      height: 32px;\n",
              "      padding: 0 0 0 0;\n",
              "      width: 32px;\n",
              "    }\n",
              "\n",
              "    .colab-df-convert:hover {\n",
              "      background-color: #E2EBFA;\n",
              "      box-shadow: 0px 1px 2px rgba(60, 64, 67, 0.3), 0px 1px 3px 1px rgba(60, 64, 67, 0.15);\n",
              "      fill: #174EA6;\n",
              "    }\n",
              "\n",
              "    [theme=dark] .colab-df-convert {\n",
              "      background-color: #3B4455;\n",
              "      fill: #D2E3FC;\n",
              "    }\n",
              "\n",
              "    [theme=dark] .colab-df-convert:hover {\n",
              "      background-color: #434B5C;\n",
              "      box-shadow: 0px 1px 3px 1px rgba(0, 0, 0, 0.15);\n",
              "      filter: drop-shadow(0px 1px 2px rgba(0, 0, 0, 0.3));\n",
              "      fill: #FFFFFF;\n",
              "    }\n",
              "  </style>\n",
              "\n",
              "      <script>\n",
              "        const buttonEl =\n",
              "          document.querySelector('#df-3440fd8a-b253-4b23-a295-b441613f28ca button.colab-df-convert');\n",
              "        buttonEl.style.display =\n",
              "          google.colab.kernel.accessAllowed ? 'block' : 'none';\n",
              "\n",
              "        async function convertToInteractive(key) {\n",
              "          const element = document.querySelector('#df-3440fd8a-b253-4b23-a295-b441613f28ca');\n",
              "          const dataTable =\n",
              "            await google.colab.kernel.invokeFunction('convertToInteractive',\n",
              "                                                     [key], {});\n",
              "          if (!dataTable) return;\n",
              "\n",
              "          const docLinkHtml = 'Like what you see? Visit the ' +\n",
              "            '<a target=\"_blank\" href=https://colab.research.google.com/notebooks/data_table.ipynb>data table notebook</a>'\n",
              "            + ' to learn more about interactive tables.';\n",
              "          element.innerHTML = '';\n",
              "          dataTable['output_type'] = 'display_data';\n",
              "          await google.colab.output.renderOutput(dataTable, element);\n",
              "          const docLink = document.createElement('div');\n",
              "          docLink.innerHTML = docLinkHtml;\n",
              "          element.appendChild(docLink);\n",
              "        }\n",
              "      </script>\n",
              "    </div>\n",
              "  </div>\n",
              "  "
            ]
          },
          "metadata": {},
          "execution_count": 10
        }
      ]
    },
    {
      "cell_type": "code",
      "source": [
        "#je crée une nouvelle colonne qui contient les âges des personnes\n",
        "bike['age'] = 2019 - bike['member_birth_year']\n",
        "bike.sample(3)"
      ],
      "metadata": {
        "colab": {
          "base_uri": "https://localhost:8080/",
          "height": 277
        },
        "id": "wheQHbobT2br",
        "outputId": "d81df2b4-780f-467a-918a-8db31d878c98"
      },
      "execution_count": null,
      "outputs": [
        {
          "output_type": "execute_result",
          "data": {
            "text/plain": [
              "        duration_sec              start_time                end_time  \\\n",
              "150490           822 2019-02-06 18:01:00.972 2019-02-06 18:14:43.725   \n",
              "113599           436 2019-02-12 11:39:07.427 2019-02-12 11:46:24.311   \n",
              "47839            510 2019-02-22 08:26:47.113 2019-02-22 08:35:17.465   \n",
              "\n",
              "        start_station_id        start_station_name  start_station_latitude  \\\n",
              "150490             130.0  22nd St Caltrain Station               37.757288   \n",
              "113599              71.0    Broderick St at Oak St               37.773063   \n",
              "47839              204.0  55th St at Telegraph Ave               37.840186   \n",
              "\n",
              "        start_station_longitude  end_station_id  \\\n",
              "150490              -122.392051            42.0   \n",
              "113599              -122.439078            29.0   \n",
              "47839               -122.261822           177.0   \n",
              "\n",
              "                                     end_station_name  end_station_latitude  \\\n",
              "150490  San Francisco City Hall (Polk St at Grove St)             37.778650   \n",
              "113599                  O'Farrell St at Divisadero St             37.782405   \n",
              "47839                 MacArthur Blvd at Telegraph Ave             37.826286   \n",
              "\n",
              "        end_station_longitude  bike_id   user_type  member_birth_year  \\\n",
              "150490            -122.418230     5463  Subscriber             1960.0   \n",
              "113599            -122.439446     5467  Subscriber             1972.0   \n",
              "47839             -122.265100     5197  Subscriber             1994.0   \n",
              "\n",
              "       member_gender bike_share_for_all_trip   age  \n",
              "150490          Male                      No  59.0  \n",
              "113599          Male                      No  47.0  \n",
              "47839         Female                      No  25.0  "
            ],
            "text/html": [
              "\n",
              "  <div id=\"df-ada75a27-503f-4f14-bedb-c84116e70b11\">\n",
              "    <div class=\"colab-df-container\">\n",
              "      <div>\n",
              "<style scoped>\n",
              "    .dataframe tbody tr th:only-of-type {\n",
              "        vertical-align: middle;\n",
              "    }\n",
              "\n",
              "    .dataframe tbody tr th {\n",
              "        vertical-align: top;\n",
              "    }\n",
              "\n",
              "    .dataframe thead th {\n",
              "        text-align: right;\n",
              "    }\n",
              "</style>\n",
              "<table border=\"1\" class=\"dataframe\">\n",
              "  <thead>\n",
              "    <tr style=\"text-align: right;\">\n",
              "      <th></th>\n",
              "      <th>duration_sec</th>\n",
              "      <th>start_time</th>\n",
              "      <th>end_time</th>\n",
              "      <th>start_station_id</th>\n",
              "      <th>start_station_name</th>\n",
              "      <th>start_station_latitude</th>\n",
              "      <th>start_station_longitude</th>\n",
              "      <th>end_station_id</th>\n",
              "      <th>end_station_name</th>\n",
              "      <th>end_station_latitude</th>\n",
              "      <th>end_station_longitude</th>\n",
              "      <th>bike_id</th>\n",
              "      <th>user_type</th>\n",
              "      <th>member_birth_year</th>\n",
              "      <th>member_gender</th>\n",
              "      <th>bike_share_for_all_trip</th>\n",
              "      <th>age</th>\n",
              "    </tr>\n",
              "  </thead>\n",
              "  <tbody>\n",
              "    <tr>\n",
              "      <th>150490</th>\n",
              "      <td>822</td>\n",
              "      <td>2019-02-06 18:01:00.972</td>\n",
              "      <td>2019-02-06 18:14:43.725</td>\n",
              "      <td>130.0</td>\n",
              "      <td>22nd St Caltrain Station</td>\n",
              "      <td>37.757288</td>\n",
              "      <td>-122.392051</td>\n",
              "      <td>42.0</td>\n",
              "      <td>San Francisco City Hall (Polk St at Grove St)</td>\n",
              "      <td>37.778650</td>\n",
              "      <td>-122.418230</td>\n",
              "      <td>5463</td>\n",
              "      <td>Subscriber</td>\n",
              "      <td>1960.0</td>\n",
              "      <td>Male</td>\n",
              "      <td>No</td>\n",
              "      <td>59.0</td>\n",
              "    </tr>\n",
              "    <tr>\n",
              "      <th>113599</th>\n",
              "      <td>436</td>\n",
              "      <td>2019-02-12 11:39:07.427</td>\n",
              "      <td>2019-02-12 11:46:24.311</td>\n",
              "      <td>71.0</td>\n",
              "      <td>Broderick St at Oak St</td>\n",
              "      <td>37.773063</td>\n",
              "      <td>-122.439078</td>\n",
              "      <td>29.0</td>\n",
              "      <td>O'Farrell St at Divisadero St</td>\n",
              "      <td>37.782405</td>\n",
              "      <td>-122.439446</td>\n",
              "      <td>5467</td>\n",
              "      <td>Subscriber</td>\n",
              "      <td>1972.0</td>\n",
              "      <td>Male</td>\n",
              "      <td>No</td>\n",
              "      <td>47.0</td>\n",
              "    </tr>\n",
              "    <tr>\n",
              "      <th>47839</th>\n",
              "      <td>510</td>\n",
              "      <td>2019-02-22 08:26:47.113</td>\n",
              "      <td>2019-02-22 08:35:17.465</td>\n",
              "      <td>204.0</td>\n",
              "      <td>55th St at Telegraph Ave</td>\n",
              "      <td>37.840186</td>\n",
              "      <td>-122.261822</td>\n",
              "      <td>177.0</td>\n",
              "      <td>MacArthur Blvd at Telegraph Ave</td>\n",
              "      <td>37.826286</td>\n",
              "      <td>-122.265100</td>\n",
              "      <td>5197</td>\n",
              "      <td>Subscriber</td>\n",
              "      <td>1994.0</td>\n",
              "      <td>Female</td>\n",
              "      <td>No</td>\n",
              "      <td>25.0</td>\n",
              "    </tr>\n",
              "  </tbody>\n",
              "</table>\n",
              "</div>\n",
              "      <button class=\"colab-df-convert\" onclick=\"convertToInteractive('df-ada75a27-503f-4f14-bedb-c84116e70b11')\"\n",
              "              title=\"Convert this dataframe to an interactive table.\"\n",
              "              style=\"display:none;\">\n",
              "        \n",
              "  <svg xmlns=\"http://www.w3.org/2000/svg\" height=\"24px\"viewBox=\"0 0 24 24\"\n",
              "       width=\"24px\">\n",
              "    <path d=\"M0 0h24v24H0V0z\" fill=\"none\"/>\n",
              "    <path d=\"M18.56 5.44l.94 2.06.94-2.06 2.06-.94-2.06-.94-.94-2.06-.94 2.06-2.06.94zm-11 1L8.5 8.5l.94-2.06 2.06-.94-2.06-.94L8.5 2.5l-.94 2.06-2.06.94zm10 10l.94 2.06.94-2.06 2.06-.94-2.06-.94-.94-2.06-.94 2.06-2.06.94z\"/><path d=\"M17.41 7.96l-1.37-1.37c-.4-.4-.92-.59-1.43-.59-.52 0-1.04.2-1.43.59L10.3 9.45l-7.72 7.72c-.78.78-.78 2.05 0 2.83L4 21.41c.39.39.9.59 1.41.59.51 0 1.02-.2 1.41-.59l7.78-7.78 2.81-2.81c.8-.78.8-2.07 0-2.86zM5.41 20L4 18.59l7.72-7.72 1.47 1.35L5.41 20z\"/>\n",
              "  </svg>\n",
              "      </button>\n",
              "      \n",
              "  <style>\n",
              "    .colab-df-container {\n",
              "      display:flex;\n",
              "      flex-wrap:wrap;\n",
              "      gap: 12px;\n",
              "    }\n",
              "\n",
              "    .colab-df-convert {\n",
              "      background-color: #E8F0FE;\n",
              "      border: none;\n",
              "      border-radius: 50%;\n",
              "      cursor: pointer;\n",
              "      display: none;\n",
              "      fill: #1967D2;\n",
              "      height: 32px;\n",
              "      padding: 0 0 0 0;\n",
              "      width: 32px;\n",
              "    }\n",
              "\n",
              "    .colab-df-convert:hover {\n",
              "      background-color: #E2EBFA;\n",
              "      box-shadow: 0px 1px 2px rgba(60, 64, 67, 0.3), 0px 1px 3px 1px rgba(60, 64, 67, 0.15);\n",
              "      fill: #174EA6;\n",
              "    }\n",
              "\n",
              "    [theme=dark] .colab-df-convert {\n",
              "      background-color: #3B4455;\n",
              "      fill: #D2E3FC;\n",
              "    }\n",
              "\n",
              "    [theme=dark] .colab-df-convert:hover {\n",
              "      background-color: #434B5C;\n",
              "      box-shadow: 0px 1px 3px 1px rgba(0, 0, 0, 0.15);\n",
              "      filter: drop-shadow(0px 1px 2px rgba(0, 0, 0, 0.3));\n",
              "      fill: #FFFFFF;\n",
              "    }\n",
              "  </style>\n",
              "\n",
              "      <script>\n",
              "        const buttonEl =\n",
              "          document.querySelector('#df-ada75a27-503f-4f14-bedb-c84116e70b11 button.colab-df-convert');\n",
              "        buttonEl.style.display =\n",
              "          google.colab.kernel.accessAllowed ? 'block' : 'none';\n",
              "\n",
              "        async function convertToInteractive(key) {\n",
              "          const element = document.querySelector('#df-ada75a27-503f-4f14-bedb-c84116e70b11');\n",
              "          const dataTable =\n",
              "            await google.colab.kernel.invokeFunction('convertToInteractive',\n",
              "                                                     [key], {});\n",
              "          if (!dataTable) return;\n",
              "\n",
              "          const docLinkHtml = 'Like what you see? Visit the ' +\n",
              "            '<a target=\"_blank\" href=https://colab.research.google.com/notebooks/data_table.ipynb>data table notebook</a>'\n",
              "            + ' to learn more about interactive tables.';\n",
              "          element.innerHTML = '';\n",
              "          dataTable['output_type'] = 'display_data';\n",
              "          await google.colab.output.renderOutput(dataTable, element);\n",
              "          const docLink = document.createElement('div');\n",
              "          docLink.innerHTML = docLinkHtml;\n",
              "          element.appendChild(docLink);\n",
              "        }\n",
              "      </script>\n",
              "    </div>\n",
              "  </div>\n",
              "  "
            ]
          },
          "metadata": {},
          "execution_count": 11
        }
      ]
    },
    {
      "cell_type": "code",
      "source": [
        "bike['age'].max()"
      ],
      "metadata": {
        "colab": {
          "base_uri": "https://localhost:8080/"
        },
        "id": "hkzbv4XooaHc",
        "outputId": "b3f58869-f203-4c22-d32b-a2e709e28d24"
      },
      "execution_count": null,
      "outputs": [
        {
          "output_type": "execute_result",
          "data": {
            "text/plain": [
              "141.0"
            ]
          },
          "metadata": {},
          "execution_count": 12
        }
      ]
    },
    {
      "cell_type": "markdown",
      "source": [
        "je propose de supprimer toute les personnes ayant plus de 100 ans"
      ],
      "metadata": {
        "id": "-lbAbCD7rYRu"
      }
    },
    {
      "cell_type": "code",
      "source": [
        "#Cette ligne sélectionne toutes les personnes ayant plus de 100 ans.\n",
        "plus100 = bike[bike['age'] >= 100]"
      ],
      "metadata": {
        "id": "YtDzL16drykv"
      },
      "execution_count": null,
      "outputs": []
    },
    {
      "cell_type": "code",
      "source": [
        "#Cette ligne supprime toutes les personnes ayant plus de 100 ans.\n",
        "bike.drop(plus100.index, inplace = True)"
      ],
      "metadata": {
        "id": "_Q6RbQKbsMYn"
      },
      "execution_count": null,
      "outputs": []
    },
    {
      "cell_type": "code",
      "source": [
        "bike['age'].max()"
      ],
      "metadata": {
        "id": "hsBRNcD0sYVm",
        "outputId": "0841bf6a-2d1a-4289-e8a5-c51a5c889a41",
        "colab": {
          "base_uri": "https://localhost:8080/"
        }
      },
      "execution_count": null,
      "outputs": [
        {
          "output_type": "execute_result",
          "data": {
            "text/plain": [
              "99.0"
            ]
          },
          "metadata": {},
          "execution_count": 15
        }
      ]
    },
    {
      "cell_type": "code",
      "source": [
        "#Cette ligne supprime toutes les personnes ayant plus de 90 ans.\n",
        "plus90 = bike[bike['age'] >= 90]\n",
        "bike.drop(plus90.index, inplace = True)\n",
        "bike['age'].max()"
      ],
      "metadata": {
        "id": "YjKYAH5SsmFm",
        "outputId": "27075b1b-5d6d-427e-9f64-39381222e826",
        "colab": {
          "base_uri": "https://localhost:8080/"
        }
      },
      "execution_count": null,
      "outputs": [
        {
          "output_type": "execute_result",
          "data": {
            "text/plain": [
              "89.0"
            ]
          },
          "metadata": {},
          "execution_count": 16
        }
      ]
    },
    {
      "cell_type": "markdown",
      "metadata": {
        "id": "xoahcHhI0EH9"
      },
      "source": [
        "\n",
        "> pour notre enssemble de données nous avons 183334 lignes d'informations sur le partage de velos et 17 colonnes qui nous donne des informations sur les position de départ , d'arrivé et des informations sur le profile de l'utilisateur.\n",
        "\n",
        "> j'aimerais savoir le moments ou la plus part des voyages sont éffectué et aussi l'age moyen des participants\n",
        "\n",
        "> je pense que les variables start_time et end_time me seront utilent en ce qui conserne la durée du trajet et aussi member_birth_year pour voire la distribution de l'age des membres"
      ]
    },
    {
      "cell_type": "markdown",
      "metadata": {
        "id": "4bE5Ae6i0EH_"
      },
      "source": [
        "## Univariate Exploration\n",
        "\n",
        "\n"
      ]
    },
    {
      "cell_type": "markdown",
      "source": [
        "je commennce avec duration_sec:"
      ],
      "metadata": {
        "id": "OihWgog1ZbLm"
      }
    },
    {
      "cell_type": "markdown",
      "source": [
        "**quelle est la distribution de la durée?**"
      ],
      "metadata": {
        "id": "CPpXrYHC09jT"
      }
    },
    {
      "cell_type": "code",
      "execution_count": null,
      "metadata": {
        "id": "gXdvVCEA0EIA",
        "colab": {
          "base_uri": "https://localhost:8080/",
          "height": 350
        },
        "outputId": "409fdad2-fe00-453a-ef09-1bde24130952"
      },
      "outputs": [
        {
          "output_type": "display_data",
          "data": {
            "text/plain": [
              "<Figure size 576x360 with 1 Axes>"
            ],
            "image/png": "[encoded data removed]"
          },
          "metadata": {
            "needs_background": "light"
          }
        }
      ],
      "source": [
        "binsize = 400\n",
        "bins = np.arange(0, bike['duration_sec'].max()+binsize, binsize)\n",
        "plt.figure(figsize=[8, 5])\n",
        "plt.hist(data = bike, x = 'duration_sec', bins = bins)\n",
        "plt.hist(data = bike, x = 'member_birth_year')\n",
        "plt.title(\"Répartition de la durée\")\n",
        "plt.xlabel('duration (s)')\n",
        "plt.ylabel(\"nombre\")\n",
        "plt.show()"
      ]
    },
    {
      "cell_type": "code",
      "source": [
        "log_binsize = 0.01\n",
        "bins = 10 ** np.arange(2.4, np.log10( bike['duration_sec'].max())+log_binsize, log_binsize)\n",
        "\n",
        "plt.figure(figsize=[8, 5])\n",
        "plt.hist(data = bike, x = 'duration_sec', bins = bins)\n",
        "plt.xscale('log')\n",
        "plt.xticks([500, 1e3, 2e3, 5e3, 1e4, 2e4], [500, '1k', '2k', '5k', '10k', '20k'])\n",
        "plt.title(\"Répartition de la durée\")\n",
        "plt.xlabel('duration (s)')\n",
        "plt.ylabel(\"nombre\")\n",
        "plt.show()"
      ],
      "metadata": {
        "colab": {
          "base_uri": "https://localhost:8080/",
          "height": 350
        },
        "id": "J-17yKsmCFaS",
        "outputId": "893e3248-d8de-43fc-b7d0-5a65f3c7e0d7"
      },
      "execution_count": null,
      "outputs": [
        {
          "output_type": "display_data",
          "data": {
            "text/plain": [
              "<Figure size 576x360 with 1 Axes>"
            ],
            "image/png": "[encoded data removed]"
          },
          "metadata": {
            "needs_background": "light"
          }
        }
      ]
    },
    {
      "cell_type": "markdown",
      "source": [
        "on a une distribution à longue traîn  et la plupart des utilisateurs prennent les vélos pour une durée entre 200 et 1500 seconde il y a aussi quelques personnes une minorité qui louent pour des durées allant de 5000 à 20000.\n"
      ],
      "metadata": {
        "id": "7MOuDh57GgTr"
      }
    },
    {
      "cell_type": "markdown",
      "source": [
        "user_type:"
      ],
      "metadata": {
        "id": "Hndja9y8HzxP"
      }
    },
    {
      "cell_type": "code",
      "source": [
        "# crée une fonction qui me trace les diagrammes circulaires et a barre\n",
        "def baretcercle(X, T):\n",
        "  plt.figure(figsize=[10, 6])\n",
        "  plt.subplot(1,2, 1)\n",
        "  sb.countplot(data = bike , x = X)\n",
        "  plt.subplot(1,2, 2)\n",
        "  plt.pie(bike[X].value_counts(), labels = bike[X].value_counts().index, wedgeprops = {'width' : 0.4})\n",
        "  #Pour définir le titre\n",
        "  plt.title(T)\n",
        "  plt.show()"
      ],
      "metadata": {
        "id": "tOTz-EWmbt3Y"
      },
      "execution_count": null,
      "outputs": []
    },
    {
      "cell_type": "markdown",
      "source": [
        "**comment sont repartie les utilisateurs ?**"
      ],
      "metadata": {
        "id": "W4aIg7u4m9ZM"
      }
    },
    {
      "cell_type": "code",
      "source": [
        "baretcercle('user_type', 'Répartition des types d\\'utilisateurs')"
      ],
      "metadata": {
        "colab": {
          "base_uri": "https://localhost:8080/",
          "height": 388
        },
        "id": "Z8Je5MGbcSzs",
        "outputId": "2b657f32-ddd7-4f2c-8eaa-794a4af4e5a3"
      },
      "execution_count": null,
      "outputs": [
        {
          "output_type": "display_data",
          "data": {
            "text/plain": [
              "<Figure size 720x432 with 2 Axes>"
            ],
            "image/png": "[encoded data removed]"
          },
          "metadata": {
            "needs_background": "light"
          }
        }
      ]
    },
    {
      "cell_type": "markdown",
      "source": [
        "nous pouvons remarquons qu'il y beaucoup plus de Subscriber que de Customer"
      ],
      "metadata": {
        "id": "f9AeKz4rYRzd"
      }
    },
    {
      "cell_type": "markdown",
      "source": [
        "member_gender:"
      ],
      "metadata": {
        "id": "GuofYQNyaJTK"
      }
    },
    {
      "cell_type": "markdown",
      "source": [
        "**quel est le pourcentage de chaque sexe ?**"
      ],
      "metadata": {
        "id": "nGQVVClLnLgN"
      }
    },
    {
      "cell_type": "code",
      "source": [
        "baretcercle('member_gender', 'La répartition selon le genre')"
      ],
      "metadata": {
        "colab": {
          "base_uri": "https://localhost:8080/",
          "height": 389
        },
        "id": "UuZeeYbyce6L",
        "outputId": "b7243af2-2564-455b-a35f-368fdcab29e5"
      },
      "execution_count": null,
      "outputs": [
        {
          "output_type": "display_data",
          "data": {
            "text/plain": [
              "<Figure size 720x432 with 2 Axes>"
            ],
            "image/png": "[encoded data removed]"
          },
          "metadata": {
            "needs_background": "light"
          }
        }
      ]
    },
    {
      "cell_type": "markdown",
      "source": [
        "nous avons plus homme dans l'ensemble de données après on a une portion de femme moins de 1000 et aussi une minorité qui n'on pas spécifié leur sexe"
      ],
      "metadata": {
        "id": "a_MMa2craZT6"
      }
    },
    {
      "cell_type": "markdown",
      "source": [
        "bike_share_for_all_trip:"
      ],
      "metadata": {
        "id": "TZx1Gr5qczSd"
      }
    },
    {
      "cell_type": "markdown",
      "source": [
        "**quel est le pourcentage de vélo utilisé pour un ou tous les trajets ?**"
      ],
      "metadata": {
        "id": "rb7kOOKVndNZ"
      }
    },
    {
      "cell_type": "code",
      "source": [
        "baretcercle('bike_share_for_all_trip', 'Pourcentage des vélos selon l\\'utiisation')"
      ],
      "metadata": {
        "colab": {
          "base_uri": "https://localhost:8080/",
          "height": 389
        },
        "id": "38C6dXMScoUU",
        "outputId": "704dd86d-8f93-4953-e972-5225951d28ca"
      },
      "execution_count": null,
      "outputs": [
        {
          "output_type": "display_data",
          "data": {
            "text/plain": [
              "<Figure size 720x432 with 2 Axes>"
            ],
            "image/png": "[encoded data removed]"
          },
          "metadata": {
            "needs_background": "light"
          }
        }
      ]
    },
    {
      "cell_type": "markdown",
      "source": [
        "il a un très petit nombre de vélos qui on été utilisé pour tout les voyages (déplacements)"
      ],
      "metadata": {
        "id": "U0JdhetMdVn1"
      }
    },
    {
      "cell_type": "markdown",
      "source": [
        "age:"
      ],
      "metadata": {
        "id": "fY1ITdCnbSlZ"
      }
    },
    {
      "cell_type": "markdown",
      "source": [
        "**Comment est répartie l'âge?**"
      ],
      "metadata": {
        "id": "FVNSxQ4Wn3il"
      }
    },
    {
      "cell_type": "code",
      "source": [
        "plt.figure(figsize = (8, 6))\n",
        "plt.hist(data = bike, x = 'age')\n",
        "plt.title(\"Répartition de l'âge\")\n",
        "plt.xlabel(\"âge\")\n",
        "plt.ylabel(\"nombre\")\n",
        "plt.show()"
      ],
      "metadata": {
        "colab": {
          "base_uri": "https://localhost:8080/",
          "height": 405
        },
        "id": "iKpvpcEjbn8Q",
        "outputId": "33d33f31-12ea-4be3-e1cd-21c09fa237d7"
      },
      "execution_count": null,
      "outputs": [
        {
          "output_type": "display_data",
          "data": {
            "text/plain": [
              "<Figure size 576x432 with 1 Axes>"
            ],
            "image/png": "[encoded data removed]"
          },
          "metadata": {
            "needs_background": "light"
          }
        }
      ]
    },
    {
      "cell_type": "markdown",
      "source": [
        "On a la plus grande partie des personnes entre 25 et 35 ans. Nous remarquons aussi que plus l'age augmente plus on a  moins de personne qui font du velo"
      ],
      "metadata": {
        "id": "sDGYvljtb-Hp"
      }
    },
    {
      "cell_type": "markdown",
      "source": [
        "member_birth_year:"
      ],
      "metadata": {
        "id": "b35GTiRthuHZ"
      }
    },
    {
      "cell_type": "markdown",
      "source": [
        "**Comment est repartie l'âge?**"
      ],
      "metadata": {
        "id": "fY7BWUPzoGMT"
      }
    },
    {
      "cell_type": "code",
      "source": [
        "#member_birth_year\n",
        "plt.figure(figsize = (8, 6))\n",
        "plt.hist(data = bike, x = 'member_birth_year')\n",
        "plt.title(\"Répartition de l'âge\")\n",
        "plt.xlabel(\"Année\")\n",
        "plt.ylabel(\"nombre\")\n",
        "plt.show()"
      ],
      "metadata": {
        "colab": {
          "base_uri": "https://localhost:8080/",
          "height": 404
        },
        "id": "775S5TK-drxS",
        "outputId": "28eba523-4bfe-47bb-947e-f3c05120c616"
      },
      "execution_count": null,
      "outputs": [
        {
          "output_type": "display_data",
          "data": {
            "text/plain": [
              "<Figure size 576x432 with 1 Axes>"
            ],
            "image/png": "[encoded data removed]"
          },
          "metadata": {
            "needs_background": "light"
          }
        }
      ]
    },
    {
      "cell_type": "markdown",
      "source": [
        "ce graphe dit la même chose que la precedente mais est basé sur les années."
      ],
      "metadata": {
        "id": "jcc_9o0lh7YX"
      }
    },
    {
      "cell_type": "code",
      "source": [
        "#je selectionne les Customer\n",
        "Customer = bike.query(\"user_type == 'Customer'\")\n",
        "plt.figure(figsize=[8, 5])\n",
        "plt.hist(data =Customer, x = 'duration_sec', bins = 400)\n",
        "plt.title(\"Répartition de la durée des Customer\")\n",
        "plt.xlabel(\"durée\")\n",
        "plt.ylabel(\"nombre\")\n",
        "plt.show()"
      ],
      "metadata": {
        "colab": {
          "base_uri": "https://localhost:8080/",
          "height": 350
        },
        "id": "z1Kxb6MrySDm",
        "outputId": "211b7d8c-2cb8-4f87-e56e-82b835c4d2ef"
      },
      "execution_count": null,
      "outputs": [
        {
          "output_type": "display_data",
          "data": {
            "text/plain": [
              "<Figure size 576x360 with 1 Axes>"
            ],
            "image/png": "[encoded data removed]"
          },
          "metadata": {
            "needs_background": "light"
          }
        }
      ]
    },
    {
      "cell_type": "code",
      "source": [
        "#je selectionne les Subscriber\n",
        "Subscriber = bike.query(\"user_type == 'Subscriber'\")\n",
        "plt.figure(figsize=[8, 5])\n",
        "plt.hist(data = Subscriber, x = 'duration_sec', bins = 400)\n",
        "plt.title(\"Répartition de l'âge\")\n",
        "plt.xlabel(\"durée\")\n",
        "plt.ylabel(\"nombre\")\n",
        "plt.show()"
      ],
      "metadata": {
        "colab": {
          "base_uri": "https://localhost:8080/",
          "height": 350
        },
        "id": "GRUlF1fQyZWM",
        "outputId": "14dcf1f8-dcbc-4635-907a-4e11c8c5e037"
      },
      "execution_count": null,
      "outputs": [
        {
          "output_type": "display_data",
          "data": {
            "text/plain": [
              "<Figure size 576x360 with 1 Axes>"
            ],
            "image/png": "[encoded data removed]"
          },
          "metadata": {
            "needs_background": "light"
          }
        }
      ]
    },
    {
      "cell_type": "markdown",
      "source": [
        "Dans les 2 lignes précedentes j'ai essayer de voir ce qui explique le statut de customer ou Subscriber mais je n'est trouver aucune variable."
      ],
      "metadata": {
        "id": "8jgKjAx3yjgE"
      }
    },
    {
      "cell_type": "markdown",
      "metadata": {
        "id": "rYVEnfE20EIE"
      },
      "source": [
        "\n",
        "> j'ai eu a corriger les types pour les dates. \n",
        "la variable duration aussi a plusieurs valeurs pour la visualisation j'ai du jouer sur le bins\n",
        "\n",
        "> j'ai pas eu à faire de gros changements"
      ]
    },
    {
      "cell_type": "markdown",
      "metadata": {
        "id": "ToRpeQDR0EIF"
      },
      "source": [
        "## Bivariate Exploration\n",
        "\n"
      ]
    },
    {
      "cell_type": "markdown",
      "source": [
        "**quelle est la corrélation entre la durée et l'âge?**"
      ],
      "metadata": {
        "id": "8FGn6BZWoYey"
      }
    },
    {
      "cell_type": "code",
      "execution_count": null,
      "metadata": {
        "id": "vAclZr7s0EII",
        "colab": {
          "base_uri": "https://localhost:8080/",
          "height": 337
        },
        "outputId": "0df32aca-4f1f-44fb-a306-aec06fd8ddcc"
      },
      "outputs": [
        {
          "output_type": "display_data",
          "data": {
            "text/plain": [
              "<Figure size 576x360 with 2 Axes>"
            ],
            "image/png": "[encoded data removed]"
          },
          "metadata": {
            "needs_background": "light"
          }
        }
      ],
      "source": [
        "# correlation plot\n",
        "plt.figure(figsize = [8, 5])\n",
        "sb.heatmap(bike[['duration_sec', 'age']].corr(), annot = True, fmt = '.3f', center = 0)\n",
        "plt.title(\"corrélation entre la durée et l'âge\")\n",
        "plt.show()"
      ]
    },
    {
      "cell_type": "markdown",
      "source": [
        "nous remarquons qu'il n y a pas une forte correlation entre la duré et l'age."
      ],
      "metadata": {
        "id": "5mtK5VEcDN-v"
      }
    },
    {
      "cell_type": "code",
      "source": [
        "samples = np.random.choice(bike.shape[0], 500, replace = False)\n",
        "plt.figure(figsize = [8, 8])\n",
        "g = sb.PairGrid(data = bike, vars = ['duration_sec', 'age'])\n",
        "g = g.map_diag(plt.hist, bins = 20);\n",
        "g.map_offdiag(plt.scatter)\n",
        "plt.title(\"corrélation entre la durée et l'âge\")\n",
        "plt.show()"
      ],
      "metadata": {
        "colab": {
          "base_uri": "https://localhost:8080/",
          "height": 403
        },
        "id": "wjq8sVdPDSh_",
        "outputId": "32d55f0d-1b42-4655-c3d0-ddc6c57e40d7"
      },
      "execution_count": null,
      "outputs": [
        {
          "output_type": "display_data",
          "data": {
            "text/plain": [
              "<Figure size 576x576 with 0 Axes>"
            ]
          },
          "metadata": {}
        },
        {
          "output_type": "display_data",
          "data": {
            "text/plain": [
              "<Figure size 360x360 with 6 Axes>"
            ],
            "image/png": "[encoded data removed]"
          },
          "metadata": {
            "needs_background": "light"
          }
        }
      ]
    },
    {
      "cell_type": "markdown",
      "source": [
        "**comment est répartie les type des utilisateurs selon le sexe?**"
      ],
      "metadata": {
        "id": "xoeAmh2eDVyH"
      }
    },
    {
      "cell_type": "code",
      "source": [
        "plt.figure(figsize = [8, 8])\n",
        "sb.countplot(data = bike, x = 'member_gender', hue = 'user_type', palette = 'Blues')\n",
        "plt.title(\"répartition du type des utilisateurs selon le sexe\")\n",
        "plt.show()"
      ],
      "metadata": {
        "colab": {
          "base_uri": "https://localhost:8080/",
          "height": 514
        },
        "id": "RE7-s1bwDYKO",
        "outputId": "326dc5a6-d02d-4b3c-c674-e54415c366cd"
      },
      "execution_count": null,
      "outputs": [
        {
          "output_type": "display_data",
          "data": {
            "text/plain": [
              "<Figure size 576x576 with 1 Axes>"
            ],
            "image/png": "[encoded data removed]"
          },
          "metadata": {
            "needs_background": "light"
          }
        }
      ]
    },
    {
      "cell_type": "markdown",
      "source": [
        "On remarque que le pourcentage d'homme Customer est vraiment supérieur au pourcentage des femme; c'est le cas en ce qui conserne les Subscriber aussi. en conclusion le statut Customer ou Suscriber ne dépend pas du sexe."
      ],
      "metadata": {
        "id": "RH99vviEDc72"
      }
    },
    {
      "cell_type": "markdown",
      "source": [
        "**quelle est la corrélation entre la durée et l'âge ?**"
      ],
      "metadata": {
        "id": "hID-_6z_pgCR"
      }
    },
    {
      "cell_type": "code",
      "source": [
        "plt.figure(figsize = [8, 6])\n",
        "plt.scatter(data = bike, x = 'age', y = 'duration_sec', alpha = 5/10)\n",
        "plt.xlabel('age')\n",
        "plt.ylabel('duration_sec')\n",
        "plt.title('corrélation entre la durée et l\\'âge')\n",
        "plt.show()"
      ],
      "metadata": {
        "colab": {
          "base_uri": "https://localhost:8080/",
          "height": 404
        },
        "id": "7tFwUntPDeh3",
        "outputId": "40920894-62ff-4dca-fd18-c7ba41421dd2"
      },
      "execution_count": null,
      "outputs": [
        {
          "output_type": "display_data",
          "data": {
            "text/plain": [
              "<Figure size 576x432 with 1 Axes>"
            ],
            "image/png": "[encoded data removed]"
          },
          "metadata": {
            "needs_background": "light"
          }
        }
      ]
    },
    {
      "cell_type": "markdown",
      "source": [
        "On remarque que les plus grande durées sont des gens de moins de 50 ans"
      ],
      "metadata": {
        "id": "x9Jddst4D6uy"
      }
    },
    {
      "cell_type": "code",
      "source": [
        "#je crée une fonction qui affiche les boxplot\n",
        "def monboxplot(A, B, T):\n",
        "  plt.figure(figsize = [8, 6])\n",
        "  sb.boxplot(data=bike, y=A, x=B)\n",
        "  plt.title(T)\n",
        "  plt.show()"
      ],
      "metadata": {
        "id": "sVVvNbpWkBvZ"
      },
      "execution_count": null,
      "outputs": []
    },
    {
      "cell_type": "markdown",
      "source": [
        "**quelle est la répartition du type d'utilisation selon l'âge?**"
      ],
      "metadata": {
        "id": "Sdz1TGHWptRE"
      }
    },
    {
      "cell_type": "code",
      "source": [
        "monboxplot('user_type', 'age', 'répartition du type d\\'utilisation selon l\\'âge')"
      ],
      "metadata": {
        "colab": {
          "base_uri": "https://localhost:8080/",
          "height": 404
        },
        "id": "EVqYpFhdkMmQ",
        "outputId": "1b6f2c51-796b-4c1f-c827-2cd6ca107363"
      },
      "execution_count": null,
      "outputs": [
        {
          "output_type": "display_data",
          "data": {
            "text/plain": [
              "<Figure size 576x432 with 1 Axes>"
            ],
            "image/png": "[encoded data removed]"
          },
          "metadata": {
            "needs_background": "light"
          }
        }
      ]
    },
    {
      "cell_type": "markdown",
      "source": [
        "Ici on peut ramarquer que l'age ne justifie pas le faite que tu soit Subscriber ou Customer."
      ],
      "metadata": {
        "id": "pIMLpspgJSor"
      }
    },
    {
      "cell_type": "markdown",
      "source": [
        "**quelle est la répartition du sexe selon l'âge?"
      ],
      "metadata": {
        "id": "WUSDHyJLqJaZ"
      }
    },
    {
      "cell_type": "code",
      "source": [
        "monboxplot('member_gender', 'age', 'répartition du sexe selon l\\'âge')"
      ],
      "metadata": {
        "colab": {
          "base_uri": "https://localhost:8080/",
          "height": 404
        },
        "id": "H-3lOzQmleRn",
        "outputId": "0b0de762-659f-4b6a-a4d3-338092cb4102"
      },
      "execution_count": null,
      "outputs": [
        {
          "output_type": "display_data",
          "data": {
            "text/plain": [
              "<Figure size 576x432 with 1 Axes>"
            ],
            "image/png": "[encoded data removed]"
          },
          "metadata": {
            "needs_background": "light"
          }
        }
      ]
    },
    {
      "cell_type": "markdown",
      "source": [
        "Ici on remarque qu'il y a plus de femmes jeune."
      ],
      "metadata": {
        "id": "3GhXyUigKBYt"
      }
    },
    {
      "cell_type": "markdown",
      "source": [
        "**quel est l'impact du type d’utilisateur sur la durée de prise des vélos?**"
      ],
      "metadata": {
        "id": "r0iljZG5qSUY"
      }
    },
    {
      "cell_type": "code",
      "source": [
        "monboxplot('user_type', 'duration_sec', 'impact du type d’utilisateur sur la durée de prise des vélos')"
      ],
      "metadata": {
        "colab": {
          "base_uri": "https://localhost:8080/",
          "height": 405
        },
        "id": "iVL6o-ISl5-_",
        "outputId": "db2fca88-acb9-43f0-e903-d37fb7ce5486"
      },
      "execution_count": null,
      "outputs": [
        {
          "output_type": "display_data",
          "data": {
            "text/plain": [
              "<Figure size 576x432 with 1 Axes>"
            ],
            "image/png": "[encoded data removed]"
          },
          "metadata": {
            "needs_background": "light"
          }
        }
      ]
    },
    {
      "cell_type": "markdown",
      "source": [
        "le statut de Subscriber ou Customer n'agit pas vraiment sur la durée de prise du vélo."
      ],
      "metadata": {
        "id": "slkJF_w-KyNd"
      }
    },
    {
      "cell_type": "code",
      "source": [
        "plt.figure(figsize = [8, 6])\n",
        "sb.violinplot(data = bike , y = 'user_type', x='duration_sec')\n",
        "plt.title('impact du type d’utilisateur sur la durée de prise des vélos')\n",
        "plt.show()"
      ],
      "metadata": {
        "colab": {
          "base_uri": "https://localhost:8080/",
          "height": 405
        },
        "id": "ItOeUQ_6MrZ6",
        "outputId": "c67e9305-970a-4cc2-a466-693d7bbbaae6"
      },
      "execution_count": null,
      "outputs": [
        {
          "output_type": "display_data",
          "data": {
            "text/plain": [
              "<Figure size 576x432 with 1 Axes>"
            ],
            "image/png": "[encoded data removed]"
          },
          "metadata": {
            "needs_background": "light"
          }
        }
      ]
    },
    {
      "cell_type": "markdown",
      "source": [
        "Ce violinplot nous explique bien le graphe precedent."
      ],
      "metadata": {
        "id": "vDkfV6fiNKfx"
      }
    },
    {
      "cell_type": "markdown",
      "source": [
        "**quel est l'impact du genre sur la durée de prise des vélos?**"
      ],
      "metadata": {
        "id": "C-JCs5TorAKm"
      }
    },
    {
      "cell_type": "code",
      "source": [
        "monboxplot('member_gender', 'duration_sec', 'impact du genre sur la durée de prise des vélos')"
      ],
      "metadata": {
        "colab": {
          "base_uri": "https://localhost:8080/",
          "height": 405
        },
        "id": "v14Rvs27mCRN",
        "outputId": "af7214b9-8cfd-49f9-c67d-19fc82514aa9"
      },
      "execution_count": null,
      "outputs": [
        {
          "output_type": "display_data",
          "data": {
            "text/plain": [
              "<Figure size 576x432 with 1 Axes>"
            ],
            "image/png": "[encoded data removed]"
          },
          "metadata": {
            "needs_background": "light"
          }
        }
      ]
    },
    {
      "cell_type": "markdown",
      "source": [
        "Ici le sexe n'agit pas vraiment sur la durée."
      ],
      "metadata": {
        "id": "RzZ1wRpxRDyI"
      }
    },
    {
      "cell_type": "markdown",
      "metadata": {
        "id": "NxMV-mqn0EIJ"
      },
      "source": [
        "\n",
        ">  il n'y a pas une grande relation entre les données mais on peut dire que l'age agit sur la durée\n",
        "\n",
        "> je ne remarque pas d'autres relations interessante."
      ]
    },
    {
      "cell_type": "markdown",
      "metadata": {
        "id": "3rMzhrlb0EIK"
      },
      "source": [
        "## Multivariate Exploration\n",
        "\n",
        "> Create plots of three or more variables to investigate your data even\n",
        "further. Make sure that your investigations are justified, and follow from\n",
        "your work in the previous sections."
      ]
    },
    {
      "cell_type": "markdown",
      "source": [
        "**quel l’impacte du type d’utilisateur sur la relation entre la durée et l'âge?**"
      ],
      "metadata": {
        "id": "7J9_7K8rrMWC"
      }
    },
    {
      "cell_type": "code",
      "execution_count": null,
      "metadata": {
        "id": "0LRDHwlV0EIL",
        "colab": {
          "base_uri": "https://localhost:8080/",
          "height": 457
        },
        "outputId": "3e625a0c-8c0e-4f74-9aba-2adf999e9b61"
      },
      "outputs": [
        {
          "output_type": "stream",
          "name": "stderr",
          "text": [
            "/usr/local/lib/python3.7/dist-packages/seaborn/axisgrid.py:337: UserWarning: The `size` parameter has been renamed to `height`; please update your code.\n",
            "  warnings.warn(msg, UserWarning)\n"
          ]
        },
        {
          "output_type": "display_data",
          "data": {
            "text/plain": [
              "<Figure size 576x432 with 0 Axes>"
            ]
          },
          "metadata": {}
        },
        {
          "output_type": "display_data",
          "data": {
            "text/plain": [
              "<Figure size 449.125x360 with 1 Axes>"
            ],
            "image/png": "[encoded data removed]"
          },
          "metadata": {
            "needs_background": "light"
          }
        }
      ],
      "source": [
        "plt.figure(figsize = [8, 6])\n",
        "g = sb.FacetGrid(data = bike, hue = 'user_type', size = 5)\n",
        "g.map(plt.scatter, 'age', 'duration_sec', alpha = 5/10)\n",
        "g.add_legend()\n",
        "plt.title('impacte du type d’utilisateur sur la relation entre la durée et l\\'âge')\n",
        "plt.show()"
      ]
    },
    {
      "cell_type": "markdown",
      "source": [
        "La variation de l'age en fonction de la durée ne dépend pas du **user_type**"
      ],
      "metadata": {
        "id": "hrp-1x-LVVmu"
      }
    },
    {
      "cell_type": "markdown",
      "source": [
        "**quel l’impacte du genre sur la relation entre la durée et l'âge?**"
      ],
      "metadata": {
        "id": "9o-ieHXCrg0G"
      }
    },
    {
      "cell_type": "code",
      "source": [
        "plt.figure(figsize = [8, 6])\n",
        "g = sb.FacetGrid(data = bike, hue = 'member_gender', size = 5)\n",
        "g.map(plt.scatter, 'age', 'duration_sec')\n",
        "g.add_legend()\n",
        "plt.title('impacte du genre sur la relation entre la durée et l\\'âge')\n",
        "plt.show()"
      ],
      "metadata": {
        "colab": {
          "base_uri": "https://localhost:8080/",
          "height": 457
        },
        "id": "t1hDaldrVWJ_",
        "outputId": "75aedc29-e6ad-4d81-b6b8-db613dde2e73"
      },
      "execution_count": null,
      "outputs": [
        {
          "output_type": "stream",
          "name": "stderr",
          "text": [
            "/usr/local/lib/python3.7/dist-packages/seaborn/axisgrid.py:337: UserWarning: The `size` parameter has been renamed to `height`; please update your code.\n",
            "  warnings.warn(msg, UserWarning)\n"
          ]
        },
        {
          "output_type": "display_data",
          "data": {
            "text/plain": [
              "<Figure size 576x432 with 0 Axes>"
            ]
          },
          "metadata": {}
        },
        {
          "output_type": "display_data",
          "data": {
            "text/plain": [
              "<Figure size 450.375x360 with 1 Axes>"
            ],
            "image/png": "[encoded data removed]"
          },
          "metadata": {
            "needs_background": "light"
          }
        }
      ]
    },
    {
      "cell_type": "markdown",
      "source": [
        "La variation de l'age en fonction de la durée ne dépend pas du **genre**"
      ],
      "metadata": {
        "id": "3PYLQL5CXRr8"
      }
    },
    {
      "cell_type": "code",
      "source": [
        "pip install geopandas"
      ],
      "metadata": {
        "id": "RQyzRsTSabMf",
        "colab": {
          "base_uri": "https://localhost:8080/"
        },
        "outputId": "49542f55-1a55-412e-bf4d-f1848be62d7f"
      },
      "execution_count": null,
      "outputs": [
        {
          "output_type": "stream",
          "name": "stdout",
          "text": [
            "Looking in indexes: https://pypi.org/simple, https://us-python.pkg.dev/colab-wheels/public/simple/\n",
            "Collecting geopandas\n",
            "  Downloading geopandas-0.10.2-py2.py3-none-any.whl (1.0 MB)\n",
            "\u001b[K     |████████████████████████████████| 1.0 MB 16.0 MB/s \n",
            "\u001b[?25hCollecting fiona>=1.8\n",
            "  Downloading Fiona-1.8.21-cp37-cp37m-manylinux2014_x86_64.whl (16.7 MB)\n",
            "\u001b[K     |████████████████████████████████| 16.7 MB 65.1 MB/s \n",
            "\u001b[?25hRequirement already satisfied: shapely>=1.6 in /usr/local/lib/python3.7/dist-packages (from geopandas) (1.8.4)\n",
            "Requirement already satisfied: pandas>=0.25.0 in /usr/local/lib/python3.7/dist-packages (from geopandas) (1.3.5)\n",
            "Collecting pyproj>=2.2.0\n",
            "  Downloading pyproj-3.2.1-cp37-cp37m-manylinux2010_x86_64.whl (6.3 MB)\n",
            "\u001b[K     |████████████████████████████████| 6.3 MB 43.2 MB/s \n",
            "\u001b[?25hCollecting cligj>=0.5\n",
            "  Downloading cligj-0.7.2-py3-none-any.whl (7.1 kB)\n",
            "Collecting munch\n",
            "  Downloading munch-2.5.0-py2.py3-none-any.whl (10 kB)\n",
            "Requirement already satisfied: setuptools in /usr/local/lib/python3.7/dist-packages (from fiona>=1.8->geopandas) (57.4.0)\n",
            "Requirement already satisfied: certifi in /usr/local/lib/python3.7/dist-packages (from fiona>=1.8->geopandas) (2022.6.15)\n",
            "Collecting click-plugins>=1.0\n",
            "  Downloading click_plugins-1.1.1-py2.py3-none-any.whl (7.5 kB)\n",
            "Requirement already satisfied: click>=4.0 in /usr/local/lib/python3.7/dist-packages (from fiona>=1.8->geopandas) (7.1.2)\n",
            "Requirement already satisfied: six>=1.7 in /usr/local/lib/python3.7/dist-packages (from fiona>=1.8->geopandas) (1.15.0)\n",
            "Requirement already satisfied: attrs>=17 in /usr/local/lib/python3.7/dist-packages (from fiona>=1.8->geopandas) (22.1.0)\n",
            "Requirement already satisfied: numpy>=1.17.3 in /usr/local/lib/python3.7/dist-packages (from pandas>=0.25.0->geopandas) (1.21.6)\n",
            "Requirement already satisfied: pytz>=2017.3 in /usr/local/lib/python3.7/dist-packages (from pandas>=0.25.0->geopandas) (2022.2.1)\n",
            "Requirement already satisfied: python-dateutil>=2.7.3 in /usr/local/lib/python3.7/dist-packages (from pandas>=0.25.0->geopandas) (2.8.2)\n",
            "Installing collected packages: munch, cligj, click-plugins, pyproj, fiona, geopandas\n",
            "Successfully installed click-plugins-1.1.1 cligj-0.7.2 fiona-1.8.21 geopandas-0.10.2 munch-2.5.0 pyproj-3.2.1\n"
          ]
        }
      ]
    },
    {
      "cell_type": "code",
      "source": [
        "import geopandas as gpd"
      ],
      "metadata": {
        "id": "a-2LTADSnfM2"
      },
      "execution_count": null,
      "outputs": []
    },
    {
      "cell_type": "markdown",
      "source": [
        "**Comment est la répartition des points de départ?**"
      ],
      "metadata": {
        "id": "vtw8m4QXrqaO"
      }
    },
    {
      "cell_type": "code",
      "source": [
        "#une fonction qui affiche la position des points\n",
        "def repartition(X, Y, Z):\n",
        "  start = gpd.GeoDataFrame(bike, geometry = gpd.points_from_xy(bike[X], bike[Y]))\n",
        "  start.plot(markersize = 1.5, figsize = (10, 10), legend = True)\n",
        "  plt.title(Z)\n",
        "  plt.xlabel(X)\n",
        "  plt.ylabel(Y)"
      ],
      "metadata": {
        "id": "xhX8UqlpwwPv"
      },
      "execution_count": null,
      "outputs": []
    },
    {
      "cell_type": "code",
      "source": [
        "repartition('start_station_latitude', 'start_station_longitude', 'répartition des points de départ')"
      ],
      "metadata": {
        "colab": {
          "base_uri": "https://localhost:8080/",
          "height": 622
        },
        "id": "AUF4hZjbxY5O",
        "outputId": "a57159c8-86ec-4cf7-8733-8a851c044f64"
      },
      "execution_count": null,
      "outputs": [
        {
          "output_type": "display_data",
          "data": {
            "text/plain": [
              "<Figure size 720x720 with 1 Axes>"
            ],
            "image/png": "[encoded data removed]"
          },
          "metadata": {
            "needs_background": "light"
          }
        }
      ]
    },
    {
      "cell_type": "markdown",
      "source": [
        "une visualisation de ma répartition des points de départ"
      ],
      "metadata": {
        "id": "pxq5hYa-shT4"
      }
    },
    {
      "cell_type": "markdown",
      "source": [
        "**Comment est la répartition des points d'arriver?**"
      ],
      "metadata": {
        "id": "GPWsMAhbsGUV"
      }
    },
    {
      "cell_type": "code",
      "source": [
        "repartition('end_station_latitude', 'end_station_longitude', 'répartition des points de départ')"
      ],
      "metadata": {
        "colab": {
          "base_uri": "https://localhost:8080/",
          "height": 622
        },
        "id": "524pDkIlx66k",
        "outputId": "cd8c2a5c-1399-4dca-f139-93ee54a479d9"
      },
      "execution_count": null,
      "outputs": [
        {
          "output_type": "display_data",
          "data": {
            "text/plain": [
              "<Figure size 720x720 with 1 Axes>"
            ],
            "image/png": "[encoded data removed]"
          },
          "metadata": {
            "needs_background": "light"
          }
        }
      ]
    },
    {
      "cell_type": "markdown",
      "source": [
        "une visualisation de ma répartition des points d'arrivée"
      ],
      "metadata": {
        "id": "FgdlEzoktI-7"
      }
    },
    {
      "cell_type": "code",
      "source": [
        "bike.to_csv(\"bikedata.csv\")"
      ],
      "metadata": {
        "id": "lkNM8chHJj6Z"
      },
      "execution_count": null,
      "outputs": []
    },
    {
      "cell_type": "markdown",
      "metadata": {
        "id": "PpYKzqat0EIL"
      },
      "source": [
        "\n",
        "> Dans l'ensemble de données tout les variables sont dépendante du moin il y a une très faible relation."
      ]
    },
    {
      "cell_type": "markdown",
      "metadata": {
        "id": "1EEuzX8d0EIM"
      },
      "source": [
        "## Conclusions\n",
        "j'ai eu a explorer les données sous differentes formes ceci était bien mais j'ai pas eu de résultat pertinent dans mon ensemble de donées\n"
      ]
    }
  ],
  "metadata": {
    "kernelspec": {
      "display_name": "Python 3",
      "language": "python",
      "name": "python3"
    },
    "language_info": {
      "codemirror_mode": {
        "name": "ipython",
        "version": 3
      },
      "file_extension": ".py",
      "mimetype": "text/x-python",
      "name": "python",
      "nbconvert_exporter": "python",
      "pygments_lexer": "ipython3",
      "version": "3.8.8"
    },
    "colab": {
      "provenance": [],
      "collapsed_sections": [],
      "include_colab_link": true
    }
  },
  "nbformat": 4,
  "nbformat_minor": 0
}