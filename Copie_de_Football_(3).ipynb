{
  "cells": [
    {
      "cell_type": "markdown",
      "metadata": {
        "id": "view-in-github",
        "colab_type": "text"
      },
      "source": [
        "<a href=\"https://colab.research.google.com/github/wisdom3D/pandas/blob/main/Copie_de_Football_(3).ipynb\" target=\"_parent\"><img src=\"https://colab.research.google.com/assets/colab-badge.svg\" alt=\"Open In Colab\"/></a>"
      ]
    },
    {
      "cell_type": "markdown",
      "metadata": {
        "id": "SMD3VWrFSHWF"
      },
      "source": [
        "<img src=\"https://th.bing.com/th/id/R.d28e285694368b98a7c6810ed0f82133?rik=f5xFRgtx%2b69j2g&pid=ImgRaw&r=0\"/>\n",
        "\n",
        "# Project: SOCCER DATABASE\n",
        "\n",
        "## Table of Contents\n",
        "<ul>\n",
        "<li><a href=\"#intro\">Introduction</a></li>\n",
        "<li><a href=\"#wrangling\">Data Wrangling</a></li>\n",
        "<li><a href=\"#eda\">Exploratory Data Analysis</a></li>\n",
        "<li><a href=\"#conclusions\">Conclusions</a></li>\n",
        "</ul>"
      ]
    },
    {
      "cell_type": "markdown",
      "metadata": {
        "id": "2cBZgNlcSHWN"
      },
      "source": [
        "<a id='intro'></a>\n",
        "## Introduction\n",
        "\n",
        "### Dataset Description \n",
        "\n",
        "we have a database of eight tables linked together by foreign keys\n",
        "\n",
        "the first is country and it brings together all the countries of the leagues study\n",
        "\n",
        "the second is League it contains all the leagues of our study and has as foreign key country_id which is which is the identifier that connects the leagues to the respective country\n",
        "\n",
        "the third is Match it gathers information on all the matches such as the date of the season, home_team, away_team and the number of goals of each and other attribute on the match it several foreign keys as for the country and the league\n",
        "\n",
        "The fourth Player gathers information about players like name date of birth height, weight and has several foreign keys\n",
        "\n",
        "the fifth Players_Attributes gathers information about each player dismaying his performance\n",
        "\n",
        "the sixth Team gathers information about the teams\n",
        "\n",
        "the seventh Team_attributes gathers information on the performance of each team\n",
        "\n",
        "the last sqlite_sequence groups the names and sequences of the other tables\n",
        "\n",
        "### Question(s) for Analysis\n",
        "how many League and Season\n",
        "\n",
        "how many matches per season\n",
        "\n",
        "how many matches per year\n",
        "\n",
        "average height and weight of a player\n",
        "\n",
        "the best players of any league\n",
        "\n",
        "the team that has the best characteristics"
      ]
    },
    {
      "cell_type": "code",
      "execution_count": null,
      "metadata": {
        "id": "RBAeNawnSHWP"
      },
      "outputs": [],
      "source": [
        "import numpy as np\n",
        "import pandas as pd\n",
        "import matplotlib.pyplot as plt\n",
        "import seaborn as sns\n",
        "import sqlite3"
      ]
    },
    {
      "cell_type": "code",
      "execution_count": null,
      "metadata": {
        "id": "dCIqdjVkSHWR"
      },
      "outputs": [],
      "source": [
        "# Upgrade pandas to use dataframe.explode() function. \n",
        "!pip install --upgrade pandas==0.25.0"
      ]
    },
    {
      "cell_type": "markdown",
      "metadata": {
        "id": "dBmKarB-SHWS"
      },
      "source": [
        "<a id='wrangling'></a>\n",
        "## Data Wrangling"
      ]
    },
    {
      "cell_type": "markdown",
      "metadata": {
        "id": "os6fxALLzkN4"
      },
      "source": [
        "## loading files"
      ]
    },
    {
      "cell_type": "code",
      "execution_count": null,
      "metadata": {
        "id": "eYxpBx_rSHWT"
      },
      "outputs": [],
      "source": [
        "Country = pd.read_csv('/content/Country.csv')\n",
        "League = pd.read_csv('/content/League.csv')\n",
        "Match = pd.read_csv('/content/Match.csv')\n",
        "Player = pd.read_csv('/content/Player.csv')\n",
        "Player_Attributes =  pd.read_csv('/content/Player_Attributes.csv')\n",
        "Team =  pd.read_csv('/content/Team.csv')\n",
        "Team_Attributes=  pd.read_csv('/content/Team_Attributes.csv')"
      ]
    },
    {
      "cell_type": "markdown",
      "metadata": {
        "id": "NcVQHZFd0gQe"
      },
      "source": [
        "## the Country and League tables are well the Match table will be cleaned"
      ]
    },
    {
      "cell_type": "code",
      "execution_count": null,
      "metadata": {
        "colab": {
          "base_uri": "https://localhost:8080/",
          "height": 473
        },
        "id": "FZZBoyJ-z0i_",
        "outputId": "5de1a384-30aa-4a80-9b0e-95a493fd737a"
      },
      "outputs": [
        {
          "data": {
            "text/html": [
              "\n",
              "  <div id=\"df-0b561bce-c888-4e9e-a675-e0cadc2cf120\">\n",
              "    <div class=\"colab-df-container\">\n",
              "      <div>\n",
              "<style scoped>\n",
              "    .dataframe tbody tr th:only-of-type {\n",
              "        vertical-align: middle;\n",
              "    }\n",
              "\n",
              "    .dataframe tbody tr th {\n",
              "        vertical-align: top;\n",
              "    }\n",
              "\n",
              "    .dataframe thead th {\n",
              "        text-align: right;\n",
              "    }\n",
              "</style>\n",
              "<table border=\"1\" class=\"dataframe\">\n",
              "  <thead>\n",
              "    <tr style=\"text-align: right;\">\n",
              "      <th></th>\n",
              "      <th>id</th>\n",
              "      <th>country_id</th>\n",
              "      <th>league_id</th>\n",
              "      <th>season</th>\n",
              "      <th>stage</th>\n",
              "      <th>date</th>\n",
              "      <th>match_api_id</th>\n",
              "      <th>home_team_api_id</th>\n",
              "      <th>away_team_api_id</th>\n",
              "      <th>home_team_goal</th>\n",
              "      <th>...</th>\n",
              "      <th>SJA</th>\n",
              "      <th>VCH</th>\n",
              "      <th>VCD</th>\n",
              "      <th>VCA</th>\n",
              "      <th>GBH</th>\n",
              "      <th>GBD</th>\n",
              "      <th>GBA</th>\n",
              "      <th>BSH</th>\n",
              "      <th>BSD</th>\n",
              "      <th>BSA</th>\n",
              "    </tr>\n",
              "  </thead>\n",
              "  <tbody>\n",
              "    <tr>\n",
              "      <th>0</th>\n",
              "      <td>1</td>\n",
              "      <td>1</td>\n",
              "      <td>1</td>\n",
              "      <td>2008/2009</td>\n",
              "      <td>1</td>\n",
              "      <td>2008-08-17 00:00:00</td>\n",
              "      <td>492473</td>\n",
              "      <td>9987</td>\n",
              "      <td>9993</td>\n",
              "      <td>1</td>\n",
              "      <td>...</td>\n",
              "      <td>4.00</td>\n",
              "      <td>1.65</td>\n",
              "      <td>3.40</td>\n",
              "      <td>4.50</td>\n",
              "      <td>1.78</td>\n",
              "      <td>3.25</td>\n",
              "      <td>4.00</td>\n",
              "      <td>1.73</td>\n",
              "      <td>3.40</td>\n",
              "      <td>4.20</td>\n",
              "    </tr>\n",
              "    <tr>\n",
              "      <th>1</th>\n",
              "      <td>2</td>\n",
              "      <td>1</td>\n",
              "      <td>1</td>\n",
              "      <td>2008/2009</td>\n",
              "      <td>1</td>\n",
              "      <td>2008-08-16 00:00:00</td>\n",
              "      <td>492474</td>\n",
              "      <td>10000</td>\n",
              "      <td>9994</td>\n",
              "      <td>0</td>\n",
              "      <td>...</td>\n",
              "      <td>3.80</td>\n",
              "      <td>2.00</td>\n",
              "      <td>3.25</td>\n",
              "      <td>3.25</td>\n",
              "      <td>1.85</td>\n",
              "      <td>3.25</td>\n",
              "      <td>3.75</td>\n",
              "      <td>1.91</td>\n",
              "      <td>3.25</td>\n",
              "      <td>3.60</td>\n",
              "    </tr>\n",
              "    <tr>\n",
              "      <th>2</th>\n",
              "      <td>3</td>\n",
              "      <td>1</td>\n",
              "      <td>1</td>\n",
              "      <td>2008/2009</td>\n",
              "      <td>1</td>\n",
              "      <td>2008-08-16 00:00:00</td>\n",
              "      <td>492475</td>\n",
              "      <td>9984</td>\n",
              "      <td>8635</td>\n",
              "      <td>0</td>\n",
              "      <td>...</td>\n",
              "      <td>2.50</td>\n",
              "      <td>2.35</td>\n",
              "      <td>3.25</td>\n",
              "      <td>2.65</td>\n",
              "      <td>2.50</td>\n",
              "      <td>3.20</td>\n",
              "      <td>2.50</td>\n",
              "      <td>2.30</td>\n",
              "      <td>3.20</td>\n",
              "      <td>2.75</td>\n",
              "    </tr>\n",
              "    <tr>\n",
              "      <th>3</th>\n",
              "      <td>4</td>\n",
              "      <td>1</td>\n",
              "      <td>1</td>\n",
              "      <td>2008/2009</td>\n",
              "      <td>1</td>\n",
              "      <td>2008-08-17 00:00:00</td>\n",
              "      <td>492476</td>\n",
              "      <td>9991</td>\n",
              "      <td>9998</td>\n",
              "      <td>5</td>\n",
              "      <td>...</td>\n",
              "      <td>7.50</td>\n",
              "      <td>1.45</td>\n",
              "      <td>3.75</td>\n",
              "      <td>6.50</td>\n",
              "      <td>1.50</td>\n",
              "      <td>3.75</td>\n",
              "      <td>5.50</td>\n",
              "      <td>1.44</td>\n",
              "      <td>3.75</td>\n",
              "      <td>6.50</td>\n",
              "    </tr>\n",
              "    <tr>\n",
              "      <th>4</th>\n",
              "      <td>5</td>\n",
              "      <td>1</td>\n",
              "      <td>1</td>\n",
              "      <td>2008/2009</td>\n",
              "      <td>1</td>\n",
              "      <td>2008-08-16 00:00:00</td>\n",
              "      <td>492477</td>\n",
              "      <td>7947</td>\n",
              "      <td>9985</td>\n",
              "      <td>1</td>\n",
              "      <td>...</td>\n",
              "      <td>1.73</td>\n",
              "      <td>4.50</td>\n",
              "      <td>3.40</td>\n",
              "      <td>1.65</td>\n",
              "      <td>4.50</td>\n",
              "      <td>3.50</td>\n",
              "      <td>1.65</td>\n",
              "      <td>4.75</td>\n",
              "      <td>3.30</td>\n",
              "      <td>1.67</td>\n",
              "    </tr>\n",
              "  </tbody>\n",
              "</table>\n",
              "<p>5 rows × 115 columns</p>\n",
              "</div>\n",
              "      <button class=\"colab-df-convert\" onclick=\"convertToInteractive('df-0b561bce-c888-4e9e-a675-e0cadc2cf120')\"\n",
              "              title=\"Convert this dataframe to an interactive table.\"\n",
              "              style=\"display:none;\">\n",
              "        \n",
              "  <svg xmlns=\"http://www.w3.org/2000/svg\" height=\"24px\"viewBox=\"0 0 24 24\"\n",
              "       width=\"24px\">\n",
              "    <path d=\"M0 0h24v24H0V0z\" fill=\"none\"/>\n",
              "    <path d=\"M18.56 5.44l.94 2.06.94-2.06 2.06-.94-2.06-.94-.94-2.06-.94 2.06-2.06.94zm-11 1L8.5 8.5l.94-2.06 2.06-.94-2.06-.94L8.5 2.5l-.94 2.06-2.06.94zm10 10l.94 2.06.94-2.06 2.06-.94-2.06-.94-.94-2.06-.94 2.06-2.06.94z\"/><path d=\"M17.41 7.96l-1.37-1.37c-.4-.4-.92-.59-1.43-.59-.52 0-1.04.2-1.43.59L10.3 9.45l-7.72 7.72c-.78.78-.78 2.05 0 2.83L4 21.41c.39.39.9.59 1.41.59.51 0 1.02-.2 1.41-.59l7.78-7.78 2.81-2.81c.8-.78.8-2.07 0-2.86zM5.41 20L4 18.59l7.72-7.72 1.47 1.35L5.41 20z\"/>\n",
              "  </svg>\n",
              "      </button>\n",
              "      \n",
              "  <style>\n",
              "    .colab-df-container {\n",
              "      display:flex;\n",
              "      flex-wrap:wrap;\n",
              "      gap: 12px;\n",
              "    }\n",
              "\n",
              "    .colab-df-convert {\n",
              "      background-color: #E8F0FE;\n",
              "      border: none;\n",
              "      border-radius: 50%;\n",
              "      cursor: pointer;\n",
              "      display: none;\n",
              "      fill: #1967D2;\n",
              "      height: 32px;\n",
              "      padding: 0 0 0 0;\n",
              "      width: 32px;\n",
              "    }\n",
              "\n",
              "    .colab-df-convert:hover {\n",
              "      background-color: #E2EBFA;\n",
              "      box-shadow: 0px 1px 2px rgba(60, 64, 67, 0.3), 0px 1px 3px 1px rgba(60, 64, 67, 0.15);\n",
              "      fill: #174EA6;\n",
              "    }\n",
              "\n",
              "    [theme=dark] .colab-df-convert {\n",
              "      background-color: #3B4455;\n",
              "      fill: #D2E3FC;\n",
              "    }\n",
              "\n",
              "    [theme=dark] .colab-df-convert:hover {\n",
              "      background-color: #434B5C;\n",
              "      box-shadow: 0px 1px 3px 1px rgba(0, 0, 0, 0.15);\n",
              "      filter: drop-shadow(0px 1px 2px rgba(0, 0, 0, 0.3));\n",
              "      fill: #FFFFFF;\n",
              "    }\n",
              "  </style>\n",
              "\n",
              "      <script>\n",
              "        const buttonEl =\n",
              "          document.querySelector('#df-0b561bce-c888-4e9e-a675-e0cadc2cf120 button.colab-df-convert');\n",
              "        buttonEl.style.display =\n",
              "          google.colab.kernel.accessAllowed ? 'block' : 'none';\n",
              "\n",
              "        async function convertToInteractive(key) {\n",
              "          const element = document.querySelector('#df-0b561bce-c888-4e9e-a675-e0cadc2cf120');\n",
              "          const dataTable =\n",
              "            await google.colab.kernel.invokeFunction('convertToInteractive',\n",
              "                                                     [key], {});\n",
              "          if (!dataTable) return;\n",
              "\n",
              "          const docLinkHtml = 'Like what you see? Visit the ' +\n",
              "            '<a target=\"_blank\" href=https://colab.research.google.com/notebooks/data_table.ipynb>data table notebook</a>'\n",
              "            + ' to learn more about interactive tables.';\n",
              "          element.innerHTML = '';\n",
              "          dataTable['output_type'] = 'display_data';\n",
              "          await google.colab.output.renderOutput(dataTable, element);\n",
              "          const docLink = document.createElement('div');\n",
              "          docLink.innerHTML = docLinkHtml;\n",
              "          element.appendChild(docLink);\n",
              "        }\n",
              "      </script>\n",
              "    </div>\n",
              "  </div>\n",
              "  "
            ],
            "text/plain": [
              "   id  country_id  league_id     season  stage                 date  \\\n",
              "0   1           1          1  2008/2009      1  2008-08-17 00:00:00   \n",
              "1   2           1          1  2008/2009      1  2008-08-16 00:00:00   \n",
              "2   3           1          1  2008/2009      1  2008-08-16 00:00:00   \n",
              "3   4           1          1  2008/2009      1  2008-08-17 00:00:00   \n",
              "4   5           1          1  2008/2009      1  2008-08-16 00:00:00   \n",
              "\n",
              "   match_api_id  home_team_api_id  away_team_api_id  home_team_goal  ...  \\\n",
              "0        492473              9987              9993               1  ...   \n",
              "1        492474             10000              9994               0  ...   \n",
              "2        492475              9984              8635               0  ...   \n",
              "3        492476              9991              9998               5  ...   \n",
              "4        492477              7947              9985               1  ...   \n",
              "\n",
              "    SJA   VCH   VCD   VCA   GBH   GBD   GBA   BSH   BSD   BSA  \n",
              "0  4.00  1.65  3.40  4.50  1.78  3.25  4.00  1.73  3.40  4.20  \n",
              "1  3.80  2.00  3.25  3.25  1.85  3.25  3.75  1.91  3.25  3.60  \n",
              "2  2.50  2.35  3.25  2.65  2.50  3.20  2.50  2.30  3.20  2.75  \n",
              "3  7.50  1.45  3.75  6.50  1.50  3.75  5.50  1.44  3.75  6.50  \n",
              "4  1.73  4.50  3.40  1.65  4.50  3.50  1.65  4.75  3.30  1.67  \n",
              "\n",
              "[5 rows x 115 columns]"
            ]
          },
          "execution_count": 7,
          "metadata": {},
          "output_type": "execute_result"
        }
      ],
      "source": [
        "Match.head()"
      ]
    },
    {
      "cell_type": "code",
      "execution_count": null,
      "metadata": {
        "colab": {
          "base_uri": "https://localhost:8080/"
        },
        "id": "l1Yv8PRwq5cN",
        "outputId": "d9e4505f-e30e-4ef7-93ca-36d318e73593"
      },
      "outputs": [
        {
          "data": {
            "text/plain": [
              "(3584, 115)"
            ]
          },
          "execution_count": 68,
          "metadata": {},
          "output_type": "execute_result"
        }
      ],
      "source": [
        "Match.shape"
      ]
    },
    {
      "cell_type": "code",
      "execution_count": null,
      "metadata": {
        "colab": {
          "base_uri": "https://localhost:8080/"
        },
        "id": "HsFwqwubSHWU",
        "outputId": "cd25b4b2-bc74-4dcf-c3cb-eb3094cf2749"
      },
      "outputs": [
        {
          "data": {
            "text/plain": [
              "0"
            ]
          },
          "execution_count": 13,
          "metadata": {},
          "output_type": "execute_result"
        }
      ],
      "source": [
        "Match.duplicated().sum()"
      ]
    },
    {
      "cell_type": "code",
      "execution_count": null,
      "metadata": {
        "colab": {
          "base_uri": "https://localhost:8080/"
        },
        "id": "z1Jfey1V10GE",
        "outputId": "5e12e2dc-2de1-4036-ebe8-fdb7db7dd879"
      },
      "outputs": [
        {
          "data": {
            "text/plain": [
              "id              0\n",
              "country_id      0\n",
              "league_id       0\n",
              "season          0\n",
              "stage           0\n",
              "             ... \n",
              "GBD           507\n",
              "GBA           507\n",
              "BSH           511\n",
              "BSD           511\n",
              "BSA           511\n",
              "Length: 115, dtype: int64"
            ]
          },
          "execution_count": 14,
          "metadata": {},
          "output_type": "execute_result"
        }
      ],
      "source": [
        "Match.isnull().sum()"
      ]
    },
    {
      "cell_type": "code",
      "execution_count": null,
      "metadata": {
        "colab": {
          "base_uri": "https://localhost:8080/"
        },
        "id": "xM_iAjSl2SIk",
        "outputId": "6d6a0862-598d-4dbd-e66d-2fd8d2d228e1"
      },
      "outputs": [
        {
          "data": {
            "text/plain": [
              "Index(['id', 'country_id', 'league_id', 'season', 'stage', 'date',\n",
              "       'match_api_id', 'home_team_api_id', 'away_team_api_id',\n",
              "       'home_team_goal',\n",
              "       ...\n",
              "       'SJA', 'VCH', 'VCD', 'VCA', 'GBH', 'GBD', 'GBA', 'BSH', 'BSD', 'BSA'],\n",
              "      dtype='object', length=115)"
            ]
          },
          "execution_count": 15,
          "metadata": {},
          "output_type": "execute_result"
        }
      ],
      "source": [
        "Match.columns"
      ]
    },
    {
      "cell_type": "code",
      "execution_count": null,
      "metadata": {
        "id": "jV9eigRb27w8"
      },
      "outputs": [],
      "source": [
        "deleted_columns = [ 'SJA', 'VCH', 'VCD', 'VCA', 'GBH', 'GBD', 'GBA', 'BSH', 'BSD', 'BSA']\n",
        "Match.drop(deleted_columns, axis = 1, inplace = True)"
      ]
    },
    {
      "cell_type": "code",
      "execution_count": null,
      "metadata": {
        "id": "PRTuy5z63qHS"
      },
      "outputs": [],
      "source": [
        "deleted_columns = ['goal', 'shoton', 'shotoff',\n",
        "       'foulcommit', 'card', 'cross', 'corner', 'possession', 'B365H', 'B365D',\n",
        "       'B365A', 'BWH', 'BWD', 'BWA', 'IWH', 'IWD', 'IWA', 'LBH', 'LBD', 'LBA',\n",
        "       'PSH', 'PSD', 'PSA', 'WHH', 'WHD', 'WHA', 'SJH', 'SJD']\n",
        "Match.drop(deleted_columns, axis = 1, inplace = True)"
      ]
    },
    {
      "cell_type": "code",
      "execution_count": null,
      "metadata": {
        "colab": {
          "base_uri": "https://localhost:8080/"
        },
        "id": "9lDE7jZL4O65",
        "outputId": "f5624dc4-f6b7-4b7a-f1f5-41270ec4d60a"
      },
      "outputs": [
        {
          "data": {
            "text/plain": [
              "Index(['id', 'country_id', 'league_id', 'season', 'stage', 'date',\n",
              "       'match_api_id', 'home_team_api_id', 'away_team_api_id',\n",
              "       'home_team_goal', 'away_team_goal'],\n",
              "      dtype='object')"
            ]
          },
          "execution_count": 17,
          "metadata": {},
          "output_type": "execute_result"
        }
      ],
      "source": [
        "Match.columns"
      ]
    },
    {
      "cell_type": "code",
      "execution_count": null,
      "metadata": {
        "colab": {
          "base_uri": "https://localhost:8080/"
        },
        "id": "zhRgK4JX6lZn",
        "outputId": "08d79770-233c-4026-fcc7-b86b65867bff"
      },
      "outputs": [
        {
          "data": {
            "text/plain": [
              "0"
            ]
          },
          "execution_count": 18,
          "metadata": {},
          "output_type": "execute_result"
        }
      ],
      "source": [
        "Match.isnull().sum().sum()"
      ]
    },
    {
      "cell_type": "code",
      "execution_count": null,
      "metadata": {
        "colab": {
          "base_uri": "https://localhost:8080/",
          "height": 179
        },
        "id": "4_SCuM__8fRq",
        "outputId": "4e8e52ac-6f6d-4a2f-e11c-c473381bb53e"
      },
      "outputs": [
        {
          "data": {
            "text/html": [
              "\n",
              "  <div id=\"df-a063c805-3484-4596-a9bb-1580f2963fb2\">\n",
              "    <div class=\"colab-df-container\">\n",
              "      <div>\n",
              "<style scoped>\n",
              "    .dataframe tbody tr th:only-of-type {\n",
              "        vertical-align: middle;\n",
              "    }\n",
              "\n",
              "    .dataframe tbody tr th {\n",
              "        vertical-align: top;\n",
              "    }\n",
              "\n",
              "    .dataframe thead th {\n",
              "        text-align: right;\n",
              "    }\n",
              "</style>\n",
              "<table border=\"1\" class=\"dataframe\">\n",
              "  <thead>\n",
              "    <tr style=\"text-align: right;\">\n",
              "      <th></th>\n",
              "      <th>id</th>\n",
              "      <th>country_id</th>\n",
              "      <th>league_id</th>\n",
              "      <th>season</th>\n",
              "      <th>stage</th>\n",
              "      <th>date</th>\n",
              "      <th>match_api_id</th>\n",
              "      <th>home_team_api_id</th>\n",
              "      <th>away_team_api_id</th>\n",
              "      <th>home_team_goal</th>\n",
              "      <th>away_team_goal</th>\n",
              "    </tr>\n",
              "  </thead>\n",
              "  <tbody>\n",
              "    <tr>\n",
              "      <th>0</th>\n",
              "      <td>1</td>\n",
              "      <td>1</td>\n",
              "      <td>1</td>\n",
              "      <td>2008/2009</td>\n",
              "      <td>1</td>\n",
              "      <td>2008-08-17 00:00:00</td>\n",
              "      <td>492473</td>\n",
              "      <td>9987</td>\n",
              "      <td>9993</td>\n",
              "      <td>1</td>\n",
              "      <td>1</td>\n",
              "    </tr>\n",
              "  </tbody>\n",
              "</table>\n",
              "</div>\n",
              "      <button class=\"colab-df-convert\" onclick=\"convertToInteractive('df-a063c805-3484-4596-a9bb-1580f2963fb2')\"\n",
              "              title=\"Convert this dataframe to an interactive table.\"\n",
              "              style=\"display:none;\">\n",
              "        \n",
              "  <svg xmlns=\"http://www.w3.org/2000/svg\" height=\"24px\"viewBox=\"0 0 24 24\"\n",
              "       width=\"24px\">\n",
              "    <path d=\"M0 0h24v24H0V0z\" fill=\"none\"/>\n",
              "    <path d=\"M18.56 5.44l.94 2.06.94-2.06 2.06-.94-2.06-.94-.94-2.06-.94 2.06-2.06.94zm-11 1L8.5 8.5l.94-2.06 2.06-.94-2.06-.94L8.5 2.5l-.94 2.06-2.06.94zm10 10l.94 2.06.94-2.06 2.06-.94-2.06-.94-.94-2.06-.94 2.06-2.06.94z\"/><path d=\"M17.41 7.96l-1.37-1.37c-.4-.4-.92-.59-1.43-.59-.52 0-1.04.2-1.43.59L10.3 9.45l-7.72 7.72c-.78.78-.78 2.05 0 2.83L4 21.41c.39.39.9.59 1.41.59.51 0 1.02-.2 1.41-.59l7.78-7.78 2.81-2.81c.8-.78.8-2.07 0-2.86zM5.41 20L4 18.59l7.72-7.72 1.47 1.35L5.41 20z\"/>\n",
              "  </svg>\n",
              "      </button>\n",
              "      \n",
              "  <style>\n",
              "    .colab-df-container {\n",
              "      display:flex;\n",
              "      flex-wrap:wrap;\n",
              "      gap: 12px;\n",
              "    }\n",
              "\n",
              "    .colab-df-convert {\n",
              "      background-color: #E8F0FE;\n",
              "      border: none;\n",
              "      border-radius: 50%;\n",
              "      cursor: pointer;\n",
              "      display: none;\n",
              "      fill: #1967D2;\n",
              "      height: 32px;\n",
              "      padding: 0 0 0 0;\n",
              "      width: 32px;\n",
              "    }\n",
              "\n",
              "    .colab-df-convert:hover {\n",
              "      background-color: #E2EBFA;\n",
              "      box-shadow: 0px 1px 2px rgba(60, 64, 67, 0.3), 0px 1px 3px 1px rgba(60, 64, 67, 0.15);\n",
              "      fill: #174EA6;\n",
              "    }\n",
              "\n",
              "    [theme=dark] .colab-df-convert {\n",
              "      background-color: #3B4455;\n",
              "      fill: #D2E3FC;\n",
              "    }\n",
              "\n",
              "    [theme=dark] .colab-df-convert:hover {\n",
              "      background-color: #434B5C;\n",
              "      box-shadow: 0px 1px 3px 1px rgba(0, 0, 0, 0.15);\n",
              "      filter: drop-shadow(0px 1px 2px rgba(0, 0, 0, 0.3));\n",
              "      fill: #FFFFFF;\n",
              "    }\n",
              "  </style>\n",
              "\n",
              "      <script>\n",
              "        const buttonEl =\n",
              "          document.querySelector('#df-a063c805-3484-4596-a9bb-1580f2963fb2 button.colab-df-convert');\n",
              "        buttonEl.style.display =\n",
              "          google.colab.kernel.accessAllowed ? 'block' : 'none';\n",
              "\n",
              "        async function convertToInteractive(key) {\n",
              "          const element = document.querySelector('#df-a063c805-3484-4596-a9bb-1580f2963fb2');\n",
              "          const dataTable =\n",
              "            await google.colab.kernel.invokeFunction('convertToInteractive',\n",
              "                                                     [key], {});\n",
              "          if (!dataTable) return;\n",
              "\n",
              "          const docLinkHtml = 'Like what you see? Visit the ' +\n",
              "            '<a target=\"_blank\" href=https://colab.research.google.com/notebooks/data_table.ipynb>data table notebook</a>'\n",
              "            + ' to learn more about interactive tables.';\n",
              "          element.innerHTML = '';\n",
              "          dataTable['output_type'] = 'display_data';\n",
              "          await google.colab.output.renderOutput(dataTable, element);\n",
              "          const docLink = document.createElement('div');\n",
              "          docLink.innerHTML = docLinkHtml;\n",
              "          element.appendChild(docLink);\n",
              "        }\n",
              "      </script>\n",
              "    </div>\n",
              "  </div>\n",
              "  "
            ],
            "text/plain": [
              "   id  country_id  league_id     season  stage                 date  \\\n",
              "0   1           1          1  2008/2009      1  2008-08-17 00:00:00   \n",
              "\n",
              "   match_api_id  home_team_api_id  away_team_api_id  home_team_goal  \\\n",
              "0        492473              9987              9993               1   \n",
              "\n",
              "   away_team_goal  \n",
              "0               1  "
            ]
          },
          "execution_count": 19,
          "metadata": {},
          "output_type": "execute_result"
        }
      ],
      "source": [
        "Match.head(1)"
      ]
    },
    {
      "cell_type": "code",
      "execution_count": null,
      "metadata": {
        "colab": {
          "base_uri": "https://localhost:8080/"
        },
        "id": "Se3P9Ar3EXLV",
        "outputId": "d47ef6cd-e0e0-4656-cc4c-6f4ebc818e9a"
      },
      "outputs": [
        {
          "data": {
            "text/plain": [
              "0"
            ]
          },
          "execution_count": 20,
          "metadata": {},
          "output_type": "execute_result"
        }
      ],
      "source": [
        "Player.duplicated().sum()"
      ]
    },
    {
      "cell_type": "markdown",
      "metadata": {
        "id": "XX4N3GjlE3y8"
      },
      "source": [
        "## the Player table is well the Player_attributes table will be cleaned"
      ]
    },
    {
      "cell_type": "code",
      "execution_count": null,
      "metadata": {
        "colab": {
          "base_uri": "https://localhost:8080/"
        },
        "id": "RW8LPPVjFJFk",
        "outputId": "50557c44-9483-4108-d62f-82062cac4a20"
      },
      "outputs": [
        {
          "data": {
            "text/plain": [
              "(59022, 42)"
            ]
          },
          "execution_count": 21,
          "metadata": {},
          "output_type": "execute_result"
        }
      ],
      "source": [
        "Player_Attributes.shape"
      ]
    },
    {
      "cell_type": "code",
      "execution_count": null,
      "metadata": {
        "colab": {
          "base_uri": "https://localhost:8080/"
        },
        "id": "IuxuME53FQvr",
        "outputId": "605841a5-6ffb-4ce4-c819-4235e8be4437"
      },
      "outputs": [
        {
          "data": {
            "text/plain": [
              "0"
            ]
          },
          "execution_count": 22,
          "metadata": {},
          "output_type": "execute_result"
        }
      ],
      "source": [
        "Player_Attributes.duplicated().sum()"
      ]
    },
    {
      "cell_type": "code",
      "execution_count": null,
      "metadata": {
        "colab": {
          "base_uri": "https://localhost:8080/"
        },
        "id": "ueE_HPWwFZk6",
        "outputId": "fad5424e-2cdc-4f74-a014-7277491e3a48"
      },
      "outputs": [
        {
          "data": {
            "text/plain": [
              "id                        0\n",
              "player_fifa_api_id        0\n",
              "player_api_id             0\n",
              "date                      0\n",
              "overall_rating          253\n",
              "potential               253\n",
              "preferred_foot          253\n",
              "attacking_work_rate    1068\n",
              "defensive_work_rate     253\n",
              "crossing                253\n",
              "finishing               253\n",
              "heading_accuracy        253\n",
              "short_passing           253\n",
              "volleys                 872\n",
              "dribbling               253\n",
              "curve                   872\n",
              "free_kick_accuracy      253\n",
              "long_passing            253\n",
              "ball_control            253\n",
              "acceleration            253\n",
              "sprint_speed            253\n",
              "agility                 872\n",
              "reactions               253\n",
              "balance                 872\n",
              "shot_power              253\n",
              "jumping                 872\n",
              "stamina                 253\n",
              "strength                253\n",
              "long_shots              253\n",
              "aggression              253\n",
              "interceptions           253\n",
              "positioning             253\n",
              "vision                  872\n",
              "penalties               253\n",
              "marking                 253\n",
              "standing_tackle         253\n",
              "sliding_tackle          872\n",
              "gk_diving               253\n",
              "gk_handling             253\n",
              "gk_kicking              253\n",
              "gk_positioning          253\n",
              "gk_reflexes             253\n",
              "dtype: int64"
            ]
          },
          "execution_count": 23,
          "metadata": {},
          "output_type": "execute_result"
        }
      ],
      "source": [
        "Player_Attributes.isnull().sum()"
      ]
    },
    {
      "cell_type": "code",
      "execution_count": null,
      "metadata": {
        "id": "V5RgnDJSF57J"
      },
      "outputs": [],
      "source": [
        "Player_Attributes.dropna(inplace = True)"
      ]
    },
    {
      "cell_type": "code",
      "execution_count": null,
      "metadata": {
        "colab": {
          "base_uri": "https://localhost:8080/"
        },
        "id": "ucuANgS2GBDx",
        "outputId": "e1373654-2c7a-49bd-92d0-4fb84acc085b"
      },
      "outputs": [
        {
          "data": {
            "text/plain": [
              "(57823, 42)"
            ]
          },
          "execution_count": 25,
          "metadata": {},
          "output_type": "execute_result"
        }
      ],
      "source": [
        "Player_Attributes.shape"
      ]
    },
    {
      "cell_type": "code",
      "execution_count": null,
      "metadata": {
        "colab": {
          "base_uri": "https://localhost:8080/"
        },
        "id": "XA91f9WEGM8Z",
        "outputId": "d2f23386-867a-4dc0-fe54-3300bf99392e"
      },
      "outputs": [
        {
          "data": {
            "text/plain": [
              "id                     0\n",
              "player_fifa_api_id     0\n",
              "player_api_id          0\n",
              "date                   0\n",
              "overall_rating         0\n",
              "potential              0\n",
              "preferred_foot         0\n",
              "attacking_work_rate    0\n",
              "defensive_work_rate    0\n",
              "crossing               0\n",
              "finishing              0\n",
              "heading_accuracy       0\n",
              "short_passing          0\n",
              "volleys                0\n",
              "dribbling              0\n",
              "curve                  0\n",
              "free_kick_accuracy     0\n",
              "long_passing           0\n",
              "ball_control           0\n",
              "acceleration           0\n",
              "sprint_speed           0\n",
              "agility                0\n",
              "reactions              0\n",
              "balance                0\n",
              "shot_power             0\n",
              "jumping                0\n",
              "stamina                0\n",
              "strength               0\n",
              "long_shots             0\n",
              "aggression             0\n",
              "interceptions          0\n",
              "positioning            0\n",
              "vision                 0\n",
              "penalties              0\n",
              "marking                0\n",
              "standing_tackle        0\n",
              "sliding_tackle         0\n",
              "gk_diving              0\n",
              "gk_handling            0\n",
              "gk_kicking             0\n",
              "gk_positioning         0\n",
              "gk_reflexes            0\n",
              "dtype: int64"
            ]
          },
          "execution_count": 26,
          "metadata": {},
          "output_type": "execute_result"
        }
      ],
      "source": [
        "Player_Attributes.isnull().sum()"
      ]
    },
    {
      "cell_type": "code",
      "execution_count": null,
      "metadata": {
        "colab": {
          "base_uri": "https://localhost:8080/",
          "height": 473
        },
        "id": "4My4_8nxH-nB",
        "outputId": "54eae801-36ee-42b8-85a9-19a61855cf74"
      },
      "outputs": [
        {
          "data": {
            "text/html": [
              "\n",
              "  <div id=\"df-c46d99a0-e684-4ef1-a675-eaf0ecca748b\">\n",
              "    <div class=\"colab-df-container\">\n",
              "      <div>\n",
              "<style scoped>\n",
              "    .dataframe tbody tr th:only-of-type {\n",
              "        vertical-align: middle;\n",
              "    }\n",
              "\n",
              "    .dataframe tbody tr th {\n",
              "        vertical-align: top;\n",
              "    }\n",
              "\n",
              "    .dataframe thead th {\n",
              "        text-align: right;\n",
              "    }\n",
              "</style>\n",
              "<table border=\"1\" class=\"dataframe\">\n",
              "  <thead>\n",
              "    <tr style=\"text-align: right;\">\n",
              "      <th></th>\n",
              "      <th>id</th>\n",
              "      <th>player_fifa_api_id</th>\n",
              "      <th>player_api_id</th>\n",
              "      <th>date</th>\n",
              "      <th>overall_rating</th>\n",
              "      <th>potential</th>\n",
              "      <th>preferred_foot</th>\n",
              "      <th>attacking_work_rate</th>\n",
              "      <th>defensive_work_rate</th>\n",
              "      <th>crossing</th>\n",
              "      <th>...</th>\n",
              "      <th>vision</th>\n",
              "      <th>penalties</th>\n",
              "      <th>marking</th>\n",
              "      <th>standing_tackle</th>\n",
              "      <th>sliding_tackle</th>\n",
              "      <th>gk_diving</th>\n",
              "      <th>gk_handling</th>\n",
              "      <th>gk_kicking</th>\n",
              "      <th>gk_positioning</th>\n",
              "      <th>gk_reflexes</th>\n",
              "    </tr>\n",
              "  </thead>\n",
              "  <tbody>\n",
              "    <tr>\n",
              "      <th>9352</th>\n",
              "      <td>9353</td>\n",
              "      <td>142451</td>\n",
              "      <td>46211</td>\n",
              "      <td>2007-02-22 00:00:00</td>\n",
              "      <td>73.0</td>\n",
              "      <td>76.0</td>\n",
              "      <td>left</td>\n",
              "      <td>medium</td>\n",
              "      <td>low</td>\n",
              "      <td>73.0</td>\n",
              "      <td>...</td>\n",
              "      <td>66.0</td>\n",
              "      <td>65.0</td>\n",
              "      <td>48.0</td>\n",
              "      <td>57.0</td>\n",
              "      <td>22.0</td>\n",
              "      <td>11.0</td>\n",
              "      <td>23.0</td>\n",
              "      <td>72.0</td>\n",
              "      <td>23.0</td>\n",
              "      <td>23.0</td>\n",
              "    </tr>\n",
              "    <tr>\n",
              "      <th>4823</th>\n",
              "      <td>4824</td>\n",
              "      <td>172013</td>\n",
              "      <td>47565</td>\n",
              "      <td>2014-05-09 00:00:00</td>\n",
              "      <td>75.0</td>\n",
              "      <td>77.0</td>\n",
              "      <td>left</td>\n",
              "      <td>high</td>\n",
              "      <td>medium</td>\n",
              "      <td>81.0</td>\n",
              "      <td>...</td>\n",
              "      <td>60.0</td>\n",
              "      <td>48.0</td>\n",
              "      <td>72.0</td>\n",
              "      <td>75.0</td>\n",
              "      <td>77.0</td>\n",
              "      <td>15.0</td>\n",
              "      <td>9.0</td>\n",
              "      <td>7.0</td>\n",
              "      <td>11.0</td>\n",
              "      <td>5.0</td>\n",
              "    </tr>\n",
              "    <tr>\n",
              "      <th>37095</th>\n",
              "      <td>37096</td>\n",
              "      <td>201635</td>\n",
              "      <td>143403</td>\n",
              "      <td>2009-02-22 00:00:00</td>\n",
              "      <td>66.0</td>\n",
              "      <td>69.0</td>\n",
              "      <td>right</td>\n",
              "      <td>medium</td>\n",
              "      <td>low</td>\n",
              "      <td>59.0</td>\n",
              "      <td>...</td>\n",
              "      <td>58.0</td>\n",
              "      <td>60.0</td>\n",
              "      <td>24.0</td>\n",
              "      <td>20.0</td>\n",
              "      <td>22.0</td>\n",
              "      <td>6.0</td>\n",
              "      <td>13.0</td>\n",
              "      <td>6.0</td>\n",
              "      <td>14.0</td>\n",
              "      <td>6.0</td>\n",
              "    </tr>\n",
              "    <tr>\n",
              "      <th>29698</th>\n",
              "      <td>29699</td>\n",
              "      <td>138911</td>\n",
              "      <td>39541</td>\n",
              "      <td>2015-11-26 00:00:00</td>\n",
              "      <td>67.0</td>\n",
              "      <td>67.0</td>\n",
              "      <td>left</td>\n",
              "      <td>low</td>\n",
              "      <td>medium</td>\n",
              "      <td>31.0</td>\n",
              "      <td>...</td>\n",
              "      <td>20.0</td>\n",
              "      <td>51.0</td>\n",
              "      <td>71.0</td>\n",
              "      <td>67.0</td>\n",
              "      <td>63.0</td>\n",
              "      <td>6.0</td>\n",
              "      <td>9.0</td>\n",
              "      <td>5.0</td>\n",
              "      <td>15.0</td>\n",
              "      <td>13.0</td>\n",
              "    </tr>\n",
              "    <tr>\n",
              "      <th>7125</th>\n",
              "      <td>7126</td>\n",
              "      <td>189324</td>\n",
              "      <td>119079</td>\n",
              "      <td>2012-08-31 00:00:00</td>\n",
              "      <td>69.0</td>\n",
              "      <td>76.0</td>\n",
              "      <td>right</td>\n",
              "      <td>medium</td>\n",
              "      <td>medium</td>\n",
              "      <td>8.0</td>\n",
              "      <td>...</td>\n",
              "      <td>22.0</td>\n",
              "      <td>21.0</td>\n",
              "      <td>12.0</td>\n",
              "      <td>12.0</td>\n",
              "      <td>11.0</td>\n",
              "      <td>71.0</td>\n",
              "      <td>68.0</td>\n",
              "      <td>67.0</td>\n",
              "      <td>68.0</td>\n",
              "      <td>74.0</td>\n",
              "    </tr>\n",
              "  </tbody>\n",
              "</table>\n",
              "<p>5 rows × 42 columns</p>\n",
              "</div>\n",
              "      <button class=\"colab-df-convert\" onclick=\"convertToInteractive('df-c46d99a0-e684-4ef1-a675-eaf0ecca748b')\"\n",
              "              title=\"Convert this dataframe to an interactive table.\"\n",
              "              style=\"display:none;\">\n",
              "        \n",
              "  <svg xmlns=\"http://www.w3.org/2000/svg\" height=\"24px\"viewBox=\"0 0 24 24\"\n",
              "       width=\"24px\">\n",
              "    <path d=\"M0 0h24v24H0V0z\" fill=\"none\"/>\n",
              "    <path d=\"M18.56 5.44l.94 2.06.94-2.06 2.06-.94-2.06-.94-.94-2.06-.94 2.06-2.06.94zm-11 1L8.5 8.5l.94-2.06 2.06-.94-2.06-.94L8.5 2.5l-.94 2.06-2.06.94zm10 10l.94 2.06.94-2.06 2.06-.94-2.06-.94-.94-2.06-.94 2.06-2.06.94z\"/><path d=\"M17.41 7.96l-1.37-1.37c-.4-.4-.92-.59-1.43-.59-.52 0-1.04.2-1.43.59L10.3 9.45l-7.72 7.72c-.78.78-.78 2.05 0 2.83L4 21.41c.39.39.9.59 1.41.59.51 0 1.02-.2 1.41-.59l7.78-7.78 2.81-2.81c.8-.78.8-2.07 0-2.86zM5.41 20L4 18.59l7.72-7.72 1.47 1.35L5.41 20z\"/>\n",
              "  </svg>\n",
              "      </button>\n",
              "      \n",
              "  <style>\n",
              "    .colab-df-container {\n",
              "      display:flex;\n",
              "      flex-wrap:wrap;\n",
              "      gap: 12px;\n",
              "    }\n",
              "\n",
              "    .colab-df-convert {\n",
              "      background-color: #E8F0FE;\n",
              "      border: none;\n",
              "      border-radius: 50%;\n",
              "      cursor: pointer;\n",
              "      display: none;\n",
              "      fill: #1967D2;\n",
              "      height: 32px;\n",
              "      padding: 0 0 0 0;\n",
              "      width: 32px;\n",
              "    }\n",
              "\n",
              "    .colab-df-convert:hover {\n",
              "      background-color: #E2EBFA;\n",
              "      box-shadow: 0px 1px 2px rgba(60, 64, 67, 0.3), 0px 1px 3px 1px rgba(60, 64, 67, 0.15);\n",
              "      fill: #174EA6;\n",
              "    }\n",
              "\n",
              "    [theme=dark] .colab-df-convert {\n",
              "      background-color: #3B4455;\n",
              "      fill: #D2E3FC;\n",
              "    }\n",
              "\n",
              "    [theme=dark] .colab-df-convert:hover {\n",
              "      background-color: #434B5C;\n",
              "      box-shadow: 0px 1px 3px 1px rgba(0, 0, 0, 0.15);\n",
              "      filter: drop-shadow(0px 1px 2px rgba(0, 0, 0, 0.3));\n",
              "      fill: #FFFFFF;\n",
              "    }\n",
              "  </style>\n",
              "\n",
              "      <script>\n",
              "        const buttonEl =\n",
              "          document.querySelector('#df-c46d99a0-e684-4ef1-a675-eaf0ecca748b button.colab-df-convert');\n",
              "        buttonEl.style.display =\n",
              "          google.colab.kernel.accessAllowed ? 'block' : 'none';\n",
              "\n",
              "        async function convertToInteractive(key) {\n",
              "          const element = document.querySelector('#df-c46d99a0-e684-4ef1-a675-eaf0ecca748b');\n",
              "          const dataTable =\n",
              "            await google.colab.kernel.invokeFunction('convertToInteractive',\n",
              "                                                     [key], {});\n",
              "          if (!dataTable) return;\n",
              "\n",
              "          const docLinkHtml = 'Like what you see? Visit the ' +\n",
              "            '<a target=\"_blank\" href=https://colab.research.google.com/notebooks/data_table.ipynb>data table notebook</a>'\n",
              "            + ' to learn more about interactive tables.';\n",
              "          element.innerHTML = '';\n",
              "          dataTable['output_type'] = 'display_data';\n",
              "          await google.colab.output.renderOutput(dataTable, element);\n",
              "          const docLink = document.createElement('div');\n",
              "          docLink.innerHTML = docLinkHtml;\n",
              "          element.appendChild(docLink);\n",
              "        }\n",
              "      </script>\n",
              "    </div>\n",
              "  </div>\n",
              "  "
            ],
            "text/plain": [
              "          id  player_fifa_api_id  player_api_id                 date  \\\n",
              "9352    9353              142451          46211  2007-02-22 00:00:00   \n",
              "4823    4824              172013          47565  2014-05-09 00:00:00   \n",
              "37095  37096              201635         143403  2009-02-22 00:00:00   \n",
              "29698  29699              138911          39541  2015-11-26 00:00:00   \n",
              "7125    7126              189324         119079  2012-08-31 00:00:00   \n",
              "\n",
              "       overall_rating  potential preferred_foot attacking_work_rate  \\\n",
              "9352             73.0       76.0           left              medium   \n",
              "4823             75.0       77.0           left                high   \n",
              "37095            66.0       69.0          right              medium   \n",
              "29698            67.0       67.0           left                 low   \n",
              "7125             69.0       76.0          right              medium   \n",
              "\n",
              "      defensive_work_rate  crossing  ...  vision  penalties  marking  \\\n",
              "9352                  low      73.0  ...    66.0       65.0     48.0   \n",
              "4823               medium      81.0  ...    60.0       48.0     72.0   \n",
              "37095                 low      59.0  ...    58.0       60.0     24.0   \n",
              "29698              medium      31.0  ...    20.0       51.0     71.0   \n",
              "7125               medium       8.0  ...    22.0       21.0     12.0   \n",
              "\n",
              "       standing_tackle  sliding_tackle  gk_diving  gk_handling  gk_kicking  \\\n",
              "9352              57.0            22.0       11.0         23.0        72.0   \n",
              "4823              75.0            77.0       15.0          9.0         7.0   \n",
              "37095             20.0            22.0        6.0         13.0         6.0   \n",
              "29698             67.0            63.0        6.0          9.0         5.0   \n",
              "7125              12.0            11.0       71.0         68.0        67.0   \n",
              "\n",
              "       gk_positioning  gk_reflexes  \n",
              "9352             23.0         23.0  \n",
              "4823             11.0          5.0  \n",
              "37095            14.0          6.0  \n",
              "29698            15.0         13.0  \n",
              "7125             68.0         74.0  \n",
              "\n",
              "[5 rows x 42 columns]"
            ]
          },
          "execution_count": 27,
          "metadata": {},
          "output_type": "execute_result"
        }
      ],
      "source": [
        "Player_Attributes.sample(5)"
      ]
    },
    {
      "cell_type": "code",
      "execution_count": null,
      "metadata": {
        "colab": {
          "base_uri": "https://localhost:8080/"
        },
        "id": "hqDeohgJIQrQ",
        "outputId": "61e143ee-3f23-4768-c7b9-88638a20b3c3"
      },
      "outputs": [
        {
          "data": {
            "text/plain": [
              "<bound method DataFrame.info of           id  player_fifa_api_id  player_api_id                 date  \\\n",
              "0          1              218353         505942  2016-02-18 00:00:00   \n",
              "1          2              218353         505942  2015-11-19 00:00:00   \n",
              "2          3              218353         505942  2015-09-21 00:00:00   \n",
              "3          4              218353         505942  2015-03-20 00:00:00   \n",
              "4          5              218353         505942  2007-02-22 00:00:00   \n",
              "...      ...                 ...            ...                  ...   \n",
              "59016  59017              191050         150007  2010-08-30 00:00:00   \n",
              "59017  59018              191050         150007  2009-08-30 00:00:00   \n",
              "59018  59019              191050         150007  2009-02-22 00:00:00   \n",
              "59019  59020              191050         150007  2007-02-22 00:00:00   \n",
              "59020  59021              181559          46712  2016-02-11 00:00:00   \n",
              "\n",
              "       overall_rating  potential preferred_foot attacking_work_rate  \\\n",
              "0                67.0       71.0          right              medium   \n",
              "1                67.0       71.0          right              medium   \n",
              "2                62.0       66.0          right              medium   \n",
              "3                61.0       65.0          right              medium   \n",
              "4                61.0       65.0          right              medium   \n",
              "...               ...        ...            ...                 ...   \n",
              "59016            63.0       73.0          right              medium   \n",
              "59017            56.0       68.0          right              medium   \n",
              "59018            54.0       67.0          right              medium   \n",
              "59019            54.0       67.0          right              medium   \n",
              "59020            70.0       70.0          right              medium   \n",
              "\n",
              "      defensive_work_rate  crossing  ...  vision  penalties  marking  \\\n",
              "0                  medium      49.0  ...    54.0       48.0     65.0   \n",
              "1                  medium      49.0  ...    54.0       48.0     65.0   \n",
              "2                  medium      49.0  ...    54.0       48.0     65.0   \n",
              "3                  medium      48.0  ...    53.0       47.0     62.0   \n",
              "4                  medium      48.0  ...    53.0       47.0     62.0   \n",
              "...                   ...       ...  ...     ...        ...      ...   \n",
              "59016              medium      52.0  ...    46.0       48.0     61.0   \n",
              "59017              medium      38.0  ...    46.0       52.0     57.0   \n",
              "59018              medium      37.0  ...    46.0       51.0     55.0   \n",
              "59019              medium      37.0  ...    46.0       51.0     55.0   \n",
              "59020              medium      54.0  ...    66.0       62.0     73.0   \n",
              "\n",
              "       standing_tackle  sliding_tackle  gk_diving  gk_handling  gk_kicking  \\\n",
              "0                 69.0            69.0        6.0         11.0        10.0   \n",
              "1                 69.0            69.0        6.0         11.0        10.0   \n",
              "2                 66.0            69.0        6.0         11.0        10.0   \n",
              "3                 63.0            66.0        5.0         10.0         9.0   \n",
              "4                 63.0            66.0        5.0         10.0         9.0   \n",
              "...                ...             ...        ...          ...         ...   \n",
              "59016             65.0            59.0        9.0         10.0        15.0   \n",
              "59017             56.0            59.0        3.0         22.0        50.0   \n",
              "59018             52.0            59.0        3.0         22.0        49.0   \n",
              "59019             52.0            59.0        3.0         22.0        49.0   \n",
              "59020             73.0            74.0        6.0          7.0         9.0   \n",
              "\n",
              "       gk_positioning  gk_reflexes  \n",
              "0                 8.0          8.0  \n",
              "1                 8.0          8.0  \n",
              "2                 8.0          8.0  \n",
              "3                 7.0          7.0  \n",
              "4                 7.0          7.0  \n",
              "...               ...          ...  \n",
              "59016            13.0          7.0  \n",
              "59017            22.0         22.0  \n",
              "59018            22.0         22.0  \n",
              "59019            22.0         22.0  \n",
              "59020            11.0         15.0  \n",
              "\n",
              "[57823 rows x 42 columns]>"
            ]
          },
          "execution_count": 28,
          "metadata": {},
          "output_type": "execute_result"
        }
      ],
      "source": [
        "Player_Attributes.info"
      ]
    },
    {
      "cell_type": "markdown",
      "metadata": {
        "id": "dB5MaUOMLR2x"
      },
      "source": [
        "## the Team table and Team_attributes table EDA"
      ]
    },
    {
      "cell_type": "markdown",
      "metadata": {
        "id": "BdvO30bHLKsp"
      },
      "source": []
    },
    {
      "cell_type": "code",
      "execution_count": null,
      "metadata": {
        "colab": {
          "base_uri": "https://localhost:8080/"
        },
        "id": "yjHbf430Lh0g",
        "outputId": "df92dec9-aab8-4440-99af-0367d321556f"
      },
      "outputs": [
        {
          "data": {
            "text/plain": [
              "id                   0\n",
              "team_api_id          0\n",
              "team_fifa_api_id    11\n",
              "team_long_name       0\n",
              "team_short_name      0\n",
              "dtype: int64"
            ]
          },
          "execution_count": 29,
          "metadata": {},
          "output_type": "execute_result"
        }
      ],
      "source": [
        "Team.isnull().sum()"
      ]
    },
    {
      "cell_type": "code",
      "execution_count": null,
      "metadata": {
        "id": "-5iKv96oMw6o"
      },
      "outputs": [],
      "source": [
        "Team.drop(['team_fifa_api_id'], axis = 1, inplace = True)"
      ]
    },
    {
      "cell_type": "code",
      "execution_count": null,
      "metadata": {
        "colab": {
          "base_uri": "https://localhost:8080/"
        },
        "id": "1_7LvB68NIGK",
        "outputId": "69e4e161-6fb1-4e17-c5d1-0d72adc1ea2a"
      },
      "outputs": [
        {
          "data": {
            "text/plain": [
              "Index(['id', 'team_api_id', 'team_long_name', 'team_short_name'], dtype='object')"
            ]
          },
          "execution_count": 31,
          "metadata": {},
          "output_type": "execute_result"
        }
      ],
      "source": [
        "Team.columns"
      ]
    },
    {
      "cell_type": "code",
      "execution_count": null,
      "metadata": {
        "colab": {
          "base_uri": "https://localhost:8080/"
        },
        "id": "G8UgAzvkTErH",
        "outputId": "86a85e13-07bb-4683-97b1-d93527e559db"
      },
      "outputs": [
        {
          "data": {
            "text/plain": [
              "(1458, 25)"
            ]
          },
          "execution_count": 32,
          "metadata": {},
          "output_type": "execute_result"
        }
      ],
      "source": [
        "Team_Attributes.shape"
      ]
    },
    {
      "cell_type": "code",
      "execution_count": null,
      "metadata": {
        "colab": {
          "base_uri": "https://localhost:8080/"
        },
        "id": "TmlJoQ2_TMFx",
        "outputId": "0e1e9445-0ee5-494f-c0c8-46ad02691de2"
      },
      "outputs": [
        {
          "data": {
            "text/plain": [
              "0"
            ]
          },
          "execution_count": 33,
          "metadata": {},
          "output_type": "execute_result"
        }
      ],
      "source": [
        "Team_Attributes.duplicated().sum()"
      ]
    },
    {
      "cell_type": "code",
      "execution_count": null,
      "metadata": {
        "colab": {
          "base_uri": "https://localhost:8080/"
        },
        "id": "NLKTwH3iTTBW",
        "outputId": "12943129-af11-4e9e-8314-2aad9aa83ebc"
      },
      "outputs": [
        {
          "data": {
            "text/plain": [
              "id                                  0\n",
              "team_fifa_api_id                    0\n",
              "team_api_id                         0\n",
              "date                                0\n",
              "buildUpPlaySpeed                    0\n",
              "buildUpPlaySpeedClass               0\n",
              "buildUpPlayDribbling              969\n",
              "buildUpPlayDribblingClass           0\n",
              "buildUpPlayPassing                  0\n",
              "buildUpPlayPassingClass             0\n",
              "buildUpPlayPositioningClass         0\n",
              "chanceCreationPassing               0\n",
              "chanceCreationPassingClass          0\n",
              "chanceCreationCrossing              0\n",
              "chanceCreationCrossingClass         0\n",
              "chanceCreationShooting              0\n",
              "chanceCreationShootingClass         0\n",
              "chanceCreationPositioningClass      0\n",
              "defencePressure                     0\n",
              "defencePressureClass                0\n",
              "defenceAggression                   0\n",
              "defenceAggressionClass              0\n",
              "defenceTeamWidth                    0\n",
              "defenceTeamWidthClass               0\n",
              "defenceDefenderLineClass            0\n",
              "dtype: int64"
            ]
          },
          "execution_count": 34,
          "metadata": {},
          "output_type": "execute_result"
        }
      ],
      "source": [
        "Team_Attributes.isnull().sum()"
      ]
    },
    {
      "cell_type": "markdown",
      "metadata": {
        "id": "szMuwwcNSHWX"
      },
      "source": [
        "<a id='eda'></a>\n",
        "## Exploratory Data Analysis\n",
        "\n",
        "### how many League and Season"
      ]
    },
    {
      "cell_type": "code",
      "execution_count": null,
      "metadata": {
        "colab": {
          "base_uri": "https://localhost:8080/"
        },
        "id": "T6c-cJOmiOLG",
        "outputId": "b153ff5d-3d12-46ec-9e82-74fb87198b94"
      },
      "outputs": [
        {
          "data": {
            "text/plain": [
              "id                   int64\n",
              "country_id           int64\n",
              "league_id            int64\n",
              "season              object\n",
              "stage                int64\n",
              "date                object\n",
              "match_api_id         int64\n",
              "home_team_api_id     int64\n",
              "away_team_api_id     int64\n",
              "home_team_goal       int64\n",
              "away_team_goal       int64\n",
              "dtype: object"
            ]
          },
          "execution_count": 35,
          "metadata": {},
          "output_type": "execute_result"
        }
      ],
      "source": [
        "Match.dtypes"
      ]
    },
    {
      "cell_type": "code",
      "execution_count": null,
      "metadata": {
        "colab": {
          "base_uri": "https://localhost:8080/"
        },
        "collapsed": true,
        "id": "9oOlzk_6SHWY",
        "outputId": "0f27c213-011f-4647-9d66-5f54701ddbe4"
      },
      "outputs": [
        {
          "data": {
            "text/plain": [
              "<pandas.core.groupby.generic.SeriesGroupBy object at 0x7f55ce6b7d50>"
            ]
          },
          "execution_count": 36,
          "metadata": {},
          "output_type": "execute_result"
        }
      ],
      "source": [
        "data = Match.groupby(['league_id'])['season']\n",
        "data"
      ]
    },
    {
      "cell_type": "code",
      "execution_count": null,
      "metadata": {
        "colab": {
          "base_uri": "https://localhost:8080/"
        },
        "id": "ZtEYGAmcfRRL",
        "outputId": "831116b0-9ea6-4db0-a2e4-d0ad332feebd"
      },
      "outputs": [
        {
          "data": {
            "text/plain": [
              "8"
            ]
          },
          "execution_count": 37,
          "metadata": {},
          "output_type": "execute_result"
        }
      ],
      "source": [
        "len(Match['season'].unique())"
      ]
    },
    {
      "cell_type": "code",
      "execution_count": null,
      "metadata": {
        "colab": {
          "base_uri": "https://localhost:8080/"
        },
        "id": "H8aBKPc5gPqp",
        "outputId": "0ca1280c-eb9b-4f5c-bbbf-2a6d4cf50abf"
      },
      "outputs": [
        {
          "data": {
            "text/plain": [
              "array([   1, 1729])"
            ]
          },
          "execution_count": 38,
          "metadata": {},
          "output_type": "execute_result"
        }
      ],
      "source": [
        "Match['league_id'].unique()"
      ]
    },
    {
      "cell_type": "markdown",
      "metadata": {
        "id": "QzKgYJ6SsBN3"
      },
      "source": [
        "### how many matches per season"
      ]
    },
    {
      "cell_type": "code",
      "execution_count": null,
      "metadata": {
        "colab": {
          "base_uri": "https://localhost:8080/"
        },
        "id": "Ug3hZVOMGflj",
        "outputId": "b01612e3-00c9-4478-8a22-0d12dbfe6975"
      },
      "outputs": [
        {
          "data": {
            "text/plain": [
              "2008/2009    1752\n",
              "2009/2010    1656\n",
              "2010/2011    1656\n",
              "2011/2012    1306\n",
              "2012/2013    1306\n",
              "2014/2015    1306\n",
              "2015/2016    1306\n",
              "2013/2014    1078\n",
              "Name: season, dtype: int64"
            ]
          },
          "execution_count": 99,
          "metadata": {},
          "output_type": "execute_result"
        }
      ],
      "source": [
        "Match['season'].value_counts()"
      ]
    },
    {
      "cell_type": "code",
      "execution_count": null,
      "metadata": {
        "id": "ncJZvO4M3PoH"
      },
      "outputs": [],
      "source": [
        "def graph(x, y, z):\n",
        "  plt.bar(Match[x].unique(), Match[x].value_counts())\n",
        "  plt.xticks(rotation = 'vertical')\n",
        "  plt.title(z)\n",
        "  plt.xlabel(x)\n",
        "  plt.ylabel(y)\n",
        "  plt.show"
      ]
    },
    {
      "cell_type": "code",
      "execution_count": null,
      "metadata": {
        "colab": {
          "base_uri": "https://localhost:8080/",
          "height": 339
        },
        "id": "MEnnGTJprkKz",
        "outputId": "cba0a029-1cc3-4851-9f96-9b7525a71db4"
      },
      "outputs": [
        {
          "output_type": "display_data",
          "data": {
            "text/plain": [
              "<Figure size 432x288 with 1 Axes>"
            ],
            "image/png": "[encoded data removed]"
          },
          "metadata": {
            "needs_background": "light"
          }
        }
      ],
      "source": [
        "graph('season', 'Match occurence', 'matches per season')"
      ]
    },
    {
      "cell_type": "markdown",
      "metadata": {
        "id": "gw4FVOZ33PoI"
      },
      "source": [
        "**this graph shows us the number of matches per season better than others**"
      ]
    },
    {
      "cell_type": "markdown",
      "metadata": {
        "id": "X3bAXgXOSHWY"
      },
      "source": [
        "### how many matches per year"
      ]
    },
    {
      "cell_type": "code",
      "execution_count": null,
      "metadata": {
        "collapsed": true,
        "id": "OCJOUNQfSHWZ"
      },
      "outputs": [],
      "source": [
        "year = []\n",
        "for i in Match['date']:\n",
        "  i = i.split('-')\n",
        "  year.append(i[0])\n",
        "Match['year'] = year"
      ]
    },
    {
      "cell_type": "code",
      "execution_count": null,
      "metadata": {
        "colab": {
          "base_uri": "https://localhost:8080/",
          "height": 179
        },
        "id": "xJ_ap_Efo1_9",
        "outputId": "be87acca-e501-49ee-ad44-1561b83b3fb6"
      },
      "outputs": [
        {
          "data": {
            "text/html": [
              "\n",
              "  <div id=\"df-9f5b3474-0322-43f5-a036-f3378324de50\">\n",
              "    <div class=\"colab-df-container\">\n",
              "      <div>\n",
              "<style scoped>\n",
              "    .dataframe tbody tr th:only-of-type {\n",
              "        vertical-align: middle;\n",
              "    }\n",
              "\n",
              "    .dataframe tbody tr th {\n",
              "        vertical-align: top;\n",
              "    }\n",
              "\n",
              "    .dataframe thead th {\n",
              "        text-align: right;\n",
              "    }\n",
              "</style>\n",
              "<table border=\"1\" class=\"dataframe\">\n",
              "  <thead>\n",
              "    <tr style=\"text-align: right;\">\n",
              "      <th></th>\n",
              "      <th>id</th>\n",
              "      <th>country_id</th>\n",
              "      <th>league_id</th>\n",
              "      <th>season</th>\n",
              "      <th>stage</th>\n",
              "      <th>date</th>\n",
              "      <th>match_api_id</th>\n",
              "      <th>home_team_api_id</th>\n",
              "      <th>away_team_api_id</th>\n",
              "      <th>home_team_goal</th>\n",
              "      <th>away_team_goal</th>\n",
              "      <th>year</th>\n",
              "    </tr>\n",
              "  </thead>\n",
              "  <tbody>\n",
              "    <tr>\n",
              "      <th>0</th>\n",
              "      <td>1</td>\n",
              "      <td>1</td>\n",
              "      <td>1</td>\n",
              "      <td>2008/2009</td>\n",
              "      <td>1</td>\n",
              "      <td>2008-08-17 00:00:00</td>\n",
              "      <td>492473</td>\n",
              "      <td>9987</td>\n",
              "      <td>9993</td>\n",
              "      <td>1</td>\n",
              "      <td>1</td>\n",
              "      <td>2008</td>\n",
              "    </tr>\n",
              "  </tbody>\n",
              "</table>\n",
              "</div>\n",
              "      <button class=\"colab-df-convert\" onclick=\"convertToInteractive('df-9f5b3474-0322-43f5-a036-f3378324de50')\"\n",
              "              title=\"Convert this dataframe to an interactive table.\"\n",
              "              style=\"display:none;\">\n",
              "        \n",
              "  <svg xmlns=\"http://www.w3.org/2000/svg\" height=\"24px\"viewBox=\"0 0 24 24\"\n",
              "       width=\"24px\">\n",
              "    <path d=\"M0 0h24v24H0V0z\" fill=\"none\"/>\n",
              "    <path d=\"M18.56 5.44l.94 2.06.94-2.06 2.06-.94-2.06-.94-.94-2.06-.94 2.06-2.06.94zm-11 1L8.5 8.5l.94-2.06 2.06-.94-2.06-.94L8.5 2.5l-.94 2.06-2.06.94zm10 10l.94 2.06.94-2.06 2.06-.94-2.06-.94-.94-2.06-.94 2.06-2.06.94z\"/><path d=\"M17.41 7.96l-1.37-1.37c-.4-.4-.92-.59-1.43-.59-.52 0-1.04.2-1.43.59L10.3 9.45l-7.72 7.72c-.78.78-.78 2.05 0 2.83L4 21.41c.39.39.9.59 1.41.59.51 0 1.02-.2 1.41-.59l7.78-7.78 2.81-2.81c.8-.78.8-2.07 0-2.86zM5.41 20L4 18.59l7.72-7.72 1.47 1.35L5.41 20z\"/>\n",
              "  </svg>\n",
              "      </button>\n",
              "      \n",
              "  <style>\n",
              "    .colab-df-container {\n",
              "      display:flex;\n",
              "      flex-wrap:wrap;\n",
              "      gap: 12px;\n",
              "    }\n",
              "\n",
              "    .colab-df-convert {\n",
              "      background-color: #E8F0FE;\n",
              "      border: none;\n",
              "      border-radius: 50%;\n",
              "      cursor: pointer;\n",
              "      display: none;\n",
              "      fill: #1967D2;\n",
              "      height: 32px;\n",
              "      padding: 0 0 0 0;\n",
              "      width: 32px;\n",
              "    }\n",
              "\n",
              "    .colab-df-convert:hover {\n",
              "      background-color: #E2EBFA;\n",
              "      box-shadow: 0px 1px 2px rgba(60, 64, 67, 0.3), 0px 1px 3px 1px rgba(60, 64, 67, 0.15);\n",
              "      fill: #174EA6;\n",
              "    }\n",
              "\n",
              "    [theme=dark] .colab-df-convert {\n",
              "      background-color: #3B4455;\n",
              "      fill: #D2E3FC;\n",
              "    }\n",
              "\n",
              "    [theme=dark] .colab-df-convert:hover {\n",
              "      background-color: #434B5C;\n",
              "      box-shadow: 0px 1px 3px 1px rgba(0, 0, 0, 0.15);\n",
              "      filter: drop-shadow(0px 1px 2px rgba(0, 0, 0, 0.3));\n",
              "      fill: #FFFFFF;\n",
              "    }\n",
              "  </style>\n",
              "\n",
              "      <script>\n",
              "        const buttonEl =\n",
              "          document.querySelector('#df-9f5b3474-0322-43f5-a036-f3378324de50 button.colab-df-convert');\n",
              "        buttonEl.style.display =\n",
              "          google.colab.kernel.accessAllowed ? 'block' : 'none';\n",
              "\n",
              "        async function convertToInteractive(key) {\n",
              "          const element = document.querySelector('#df-9f5b3474-0322-43f5-a036-f3378324de50');\n",
              "          const dataTable =\n",
              "            await google.colab.kernel.invokeFunction('convertToInteractive',\n",
              "                                                     [key], {});\n",
              "          if (!dataTable) return;\n",
              "\n",
              "          const docLinkHtml = 'Like what you see? Visit the ' +\n",
              "            '<a target=\"_blank\" href=https://colab.research.google.com/notebooks/data_table.ipynb>data table notebook</a>'\n",
              "            + ' to learn more about interactive tables.';\n",
              "          element.innerHTML = '';\n",
              "          dataTable['output_type'] = 'display_data';\n",
              "          await google.colab.output.renderOutput(dataTable, element);\n",
              "          const docLink = document.createElement('div');\n",
              "          docLink.innerHTML = docLinkHtml;\n",
              "          element.appendChild(docLink);\n",
              "        }\n",
              "      </script>\n",
              "    </div>\n",
              "  </div>\n",
              "  "
            ],
            "text/plain": [
              "   id  country_id  league_id     season  stage                 date  \\\n",
              "0   1           1          1  2008/2009      1  2008-08-17 00:00:00   \n",
              "\n",
              "   match_api_id  home_team_api_id  away_team_api_id  home_team_goal  \\\n",
              "0        492473              9987              9993               1   \n",
              "\n",
              "   away_team_goal  year  \n",
              "0               1  2008  "
            ]
          },
          "execution_count": 41,
          "metadata": {},
          "output_type": "execute_result"
        }
      ],
      "source": [
        "Match.head(1)"
      ]
    },
    {
      "cell_type": "code",
      "execution_count": null,
      "metadata": {
        "colab": {
          "base_uri": "https://localhost:8080/"
        },
        "id": "snzHR891o9Oz",
        "outputId": "e4f06f39-fafb-47e2-fa69-c82bfaad746e"
      },
      "outputs": [
        {
          "data": {
            "text/plain": [
              "array(['2008', '2009', '2010', '2011', '2012', '2013', '2014', '2015',\n",
              "       '2016'], dtype=object)"
            ]
          },
          "execution_count": 42,
          "metadata": {},
          "output_type": "execute_result"
        }
      ],
      "source": [
        "Match['year'].unique()"
      ]
    },
    {
      "cell_type": "code",
      "execution_count": null,
      "metadata": {
        "colab": {
          "base_uri": "https://localhost:8080/"
        },
        "id": "cI2niDr_pxk8",
        "outputId": "ff39c6fe-6dfa-47e1-e28c-a1dec1e253fd"
      },
      "outputs": [
        {
          "data": {
            "text/plain": [
              "2009    429\n",
              "2008    291\n",
              "2012    264\n",
              "2015    241\n",
              "2011    230\n",
              "2010    228\n",
              "2014    179\n",
              "2016     72\n",
              "2013     64\n",
              "Name: year, dtype: int64"
            ]
          },
          "execution_count": 43,
          "metadata": {},
          "output_type": "execute_result"
        }
      ],
      "source": [
        "Match['year'].value_counts()"
      ]
    },
    {
      "cell_type": "code",
      "execution_count": null,
      "metadata": {
        "colab": {
          "base_uri": "https://localhost:8080/",
          "height": 311
        },
        "id": "NaDS2M8kqEFK",
        "outputId": "e88afa3f-eaf4-47c9-ec30-4200cb66a380"
      },
      "outputs": [
        {
          "output_type": "display_data",
          "data": {
            "text/plain": [
              "<Figure size 432x288 with 1 Axes>"
            ],
            "image/png": "[encoded data removed]"
          },
          "metadata": {
            "needs_background": "light"
          }
        }
      ],
      "source": [
        "graph('year', 'Match occurence', 'matches per year')"
      ]
    },
    {
      "cell_type": "markdown",
      "metadata": {
        "id": "juxJgo3b3PoK"
      },
      "source": [
        "**this graph shows that the number of matches decreases over the years better than others**"
      ]
    },
    {
      "cell_type": "markdown",
      "metadata": {
        "id": "LmcN19o3wD1I"
      },
      "source": [
        "### average height and weight of a player"
      ]
    },
    {
      "cell_type": "code",
      "execution_count": null,
      "metadata": {
        "colab": {
          "base_uri": "https://localhost:8080/"
        },
        "id": "DQZv0dmdwRLA",
        "outputId": "8c659dc3-dbb4-4fd7-e98f-fd5bd8b7e36d"
      },
      "outputs": [
        {
          "data": {
            "text/plain": [
              "181.86744484629295"
            ]
          },
          "execution_count": 45,
          "metadata": {},
          "output_type": "execute_result"
        }
      ],
      "source": [
        "Player.height.mean()"
      ]
    },
    {
      "cell_type": "code",
      "execution_count": null,
      "metadata": {
        "colab": {
          "base_uri": "https://localhost:8080/"
        },
        "id": "ZsL7G1Qlwblg",
        "outputId": "4a029d03-1ac6-41f9-c35d-250e467e70dc"
      },
      "outputs": [
        {
          "data": {
            "text/plain": [
              "168.38028933092224"
            ]
          },
          "execution_count": 46,
          "metadata": {},
          "output_type": "execute_result"
        }
      ],
      "source": [
        "Player.weight.mean()"
      ]
    },
    {
      "cell_type": "markdown",
      "metadata": {
        "id": "ToZfMV6Ow7_3"
      },
      "source": [
        "__the best players of any league__"
      ]
    },
    {
      "cell_type": "code",
      "execution_count": null,
      "metadata": {
        "id": "U8jBdy2vw-yn"
      },
      "outputs": [],
      "source": [
        "Player_Attributes = Player_Attributes.merge(Player,how='inner', on='player_api_id')"
      ]
    },
    {
      "cell_type": "code",
      "execution_count": null,
      "metadata": {
        "colab": {
          "base_uri": "https://localhost:8080/",
          "height": 473
        },
        "id": "ZhbpwiERxu1m",
        "outputId": "dd690bbc-917d-44ae-b097-2f9325b35af7"
      },
      "outputs": [
        {
          "data": {
            "text/html": [
              "\n",
              "  <div id=\"df-ed0ef5b1-1839-437a-ae94-d7a34cfbeab0\">\n",
              "    <div class=\"colab-df-container\">\n",
              "      <div>\n",
              "<style scoped>\n",
              "    .dataframe tbody tr th:only-of-type {\n",
              "        vertical-align: middle;\n",
              "    }\n",
              "\n",
              "    .dataframe tbody tr th {\n",
              "        vertical-align: top;\n",
              "    }\n",
              "\n",
              "    .dataframe thead th {\n",
              "        text-align: right;\n",
              "    }\n",
              "</style>\n",
              "<table border=\"1\" class=\"dataframe\">\n",
              "  <thead>\n",
              "    <tr style=\"text-align: right;\">\n",
              "      <th></th>\n",
              "      <th>id_x</th>\n",
              "      <th>player_fifa_api_id_x</th>\n",
              "      <th>player_api_id</th>\n",
              "      <th>date</th>\n",
              "      <th>overall_rating</th>\n",
              "      <th>potential</th>\n",
              "      <th>preferred_foot</th>\n",
              "      <th>attacking_work_rate</th>\n",
              "      <th>defensive_work_rate</th>\n",
              "      <th>crossing</th>\n",
              "      <th>...</th>\n",
              "      <th>player_fifa_api_id_y</th>\n",
              "      <th>birthday_x</th>\n",
              "      <th>height_x</th>\n",
              "      <th>weight_x</th>\n",
              "      <th>id</th>\n",
              "      <th>player_name_y</th>\n",
              "      <th>player_fifa_api_id</th>\n",
              "      <th>birthday_y</th>\n",
              "      <th>height_y</th>\n",
              "      <th>weight_y</th>\n",
              "    </tr>\n",
              "  </thead>\n",
              "  <tbody>\n",
              "    <tr>\n",
              "      <th>0</th>\n",
              "      <td>1</td>\n",
              "      <td>218353</td>\n",
              "      <td>505942</td>\n",
              "      <td>2016-02-18 00:00:00</td>\n",
              "      <td>67.0</td>\n",
              "      <td>71.0</td>\n",
              "      <td>right</td>\n",
              "      <td>medium</td>\n",
              "      <td>medium</td>\n",
              "      <td>49.0</td>\n",
              "      <td>...</td>\n",
              "      <td>218353</td>\n",
              "      <td>1992-02-29 00:00:00</td>\n",
              "      <td>182.88</td>\n",
              "      <td>187</td>\n",
              "      <td>1</td>\n",
              "      <td>Aaron Appindangoye</td>\n",
              "      <td>218353</td>\n",
              "      <td>1992-02-29 00:00:00</td>\n",
              "      <td>182.88</td>\n",
              "      <td>187</td>\n",
              "    </tr>\n",
              "    <tr>\n",
              "      <th>1</th>\n",
              "      <td>2</td>\n",
              "      <td>218353</td>\n",
              "      <td>505942</td>\n",
              "      <td>2015-11-19 00:00:00</td>\n",
              "      <td>67.0</td>\n",
              "      <td>71.0</td>\n",
              "      <td>right</td>\n",
              "      <td>medium</td>\n",
              "      <td>medium</td>\n",
              "      <td>49.0</td>\n",
              "      <td>...</td>\n",
              "      <td>218353</td>\n",
              "      <td>1992-02-29 00:00:00</td>\n",
              "      <td>182.88</td>\n",
              "      <td>187</td>\n",
              "      <td>1</td>\n",
              "      <td>Aaron Appindangoye</td>\n",
              "      <td>218353</td>\n",
              "      <td>1992-02-29 00:00:00</td>\n",
              "      <td>182.88</td>\n",
              "      <td>187</td>\n",
              "    </tr>\n",
              "    <tr>\n",
              "      <th>2</th>\n",
              "      <td>3</td>\n",
              "      <td>218353</td>\n",
              "      <td>505942</td>\n",
              "      <td>2015-09-21 00:00:00</td>\n",
              "      <td>62.0</td>\n",
              "      <td>66.0</td>\n",
              "      <td>right</td>\n",
              "      <td>medium</td>\n",
              "      <td>medium</td>\n",
              "      <td>49.0</td>\n",
              "      <td>...</td>\n",
              "      <td>218353</td>\n",
              "      <td>1992-02-29 00:00:00</td>\n",
              "      <td>182.88</td>\n",
              "      <td>187</td>\n",
              "      <td>1</td>\n",
              "      <td>Aaron Appindangoye</td>\n",
              "      <td>218353</td>\n",
              "      <td>1992-02-29 00:00:00</td>\n",
              "      <td>182.88</td>\n",
              "      <td>187</td>\n",
              "    </tr>\n",
              "    <tr>\n",
              "      <th>3</th>\n",
              "      <td>4</td>\n",
              "      <td>218353</td>\n",
              "      <td>505942</td>\n",
              "      <td>2015-03-20 00:00:00</td>\n",
              "      <td>61.0</td>\n",
              "      <td>65.0</td>\n",
              "      <td>right</td>\n",
              "      <td>medium</td>\n",
              "      <td>medium</td>\n",
              "      <td>48.0</td>\n",
              "      <td>...</td>\n",
              "      <td>218353</td>\n",
              "      <td>1992-02-29 00:00:00</td>\n",
              "      <td>182.88</td>\n",
              "      <td>187</td>\n",
              "      <td>1</td>\n",
              "      <td>Aaron Appindangoye</td>\n",
              "      <td>218353</td>\n",
              "      <td>1992-02-29 00:00:00</td>\n",
              "      <td>182.88</td>\n",
              "      <td>187</td>\n",
              "    </tr>\n",
              "    <tr>\n",
              "      <th>4</th>\n",
              "      <td>5</td>\n",
              "      <td>218353</td>\n",
              "      <td>505942</td>\n",
              "      <td>2007-02-22 00:00:00</td>\n",
              "      <td>61.0</td>\n",
              "      <td>65.0</td>\n",
              "      <td>right</td>\n",
              "      <td>medium</td>\n",
              "      <td>medium</td>\n",
              "      <td>48.0</td>\n",
              "      <td>...</td>\n",
              "      <td>218353</td>\n",
              "      <td>1992-02-29 00:00:00</td>\n",
              "      <td>182.88</td>\n",
              "      <td>187</td>\n",
              "      <td>1</td>\n",
              "      <td>Aaron Appindangoye</td>\n",
              "      <td>218353</td>\n",
              "      <td>1992-02-29 00:00:00</td>\n",
              "      <td>182.88</td>\n",
              "      <td>187</td>\n",
              "    </tr>\n",
              "  </tbody>\n",
              "</table>\n",
              "<p>5 rows × 54 columns</p>\n",
              "</div>\n",
              "      <button class=\"colab-df-convert\" onclick=\"convertToInteractive('df-ed0ef5b1-1839-437a-ae94-d7a34cfbeab0')\"\n",
              "              title=\"Convert this dataframe to an interactive table.\"\n",
              "              style=\"display:none;\">\n",
              "        \n",
              "  <svg xmlns=\"http://www.w3.org/2000/svg\" height=\"24px\"viewBox=\"0 0 24 24\"\n",
              "       width=\"24px\">\n",
              "    <path d=\"M0 0h24v24H0V0z\" fill=\"none\"/>\n",
              "    <path d=\"M18.56 5.44l.94 2.06.94-2.06 2.06-.94-2.06-.94-.94-2.06-.94 2.06-2.06.94zm-11 1L8.5 8.5l.94-2.06 2.06-.94-2.06-.94L8.5 2.5l-.94 2.06-2.06.94zm10 10l.94 2.06.94-2.06 2.06-.94-2.06-.94-.94-2.06-.94 2.06-2.06.94z\"/><path d=\"M17.41 7.96l-1.37-1.37c-.4-.4-.92-.59-1.43-.59-.52 0-1.04.2-1.43.59L10.3 9.45l-7.72 7.72c-.78.78-.78 2.05 0 2.83L4 21.41c.39.39.9.59 1.41.59.51 0 1.02-.2 1.41-.59l7.78-7.78 2.81-2.81c.8-.78.8-2.07 0-2.86zM5.41 20L4 18.59l7.72-7.72 1.47 1.35L5.41 20z\"/>\n",
              "  </svg>\n",
              "      </button>\n",
              "      \n",
              "  <style>\n",
              "    .colab-df-container {\n",
              "      display:flex;\n",
              "      flex-wrap:wrap;\n",
              "      gap: 12px;\n",
              "    }\n",
              "\n",
              "    .colab-df-convert {\n",
              "      background-color: #E8F0FE;\n",
              "      border: none;\n",
              "      border-radius: 50%;\n",
              "      cursor: pointer;\n",
              "      display: none;\n",
              "      fill: #1967D2;\n",
              "      height: 32px;\n",
              "      padding: 0 0 0 0;\n",
              "      width: 32px;\n",
              "    }\n",
              "\n",
              "    .colab-df-convert:hover {\n",
              "      background-color: #E2EBFA;\n",
              "      box-shadow: 0px 1px 2px rgba(60, 64, 67, 0.3), 0px 1px 3px 1px rgba(60, 64, 67, 0.15);\n",
              "      fill: #174EA6;\n",
              "    }\n",
              "\n",
              "    [theme=dark] .colab-df-convert {\n",
              "      background-color: #3B4455;\n",
              "      fill: #D2E3FC;\n",
              "    }\n",
              "\n",
              "    [theme=dark] .colab-df-convert:hover {\n",
              "      background-color: #434B5C;\n",
              "      box-shadow: 0px 1px 3px 1px rgba(0, 0, 0, 0.15);\n",
              "      filter: drop-shadow(0px 1px 2px rgba(0, 0, 0, 0.3));\n",
              "      fill: #FFFFFF;\n",
              "    }\n",
              "  </style>\n",
              "\n",
              "      <script>\n",
              "        const buttonEl =\n",
              "          document.querySelector('#df-ed0ef5b1-1839-437a-ae94-d7a34cfbeab0 button.colab-df-convert');\n",
              "        buttonEl.style.display =\n",
              "          google.colab.kernel.accessAllowed ? 'block' : 'none';\n",
              "\n",
              "        async function convertToInteractive(key) {\n",
              "          const element = document.querySelector('#df-ed0ef5b1-1839-437a-ae94-d7a34cfbeab0');\n",
              "          const dataTable =\n",
              "            await google.colab.kernel.invokeFunction('convertToInteractive',\n",
              "                                                     [key], {});\n",
              "          if (!dataTable) return;\n",
              "\n",
              "          const docLinkHtml = 'Like what you see? Visit the ' +\n",
              "            '<a target=\"_blank\" href=https://colab.research.google.com/notebooks/data_table.ipynb>data table notebook</a>'\n",
              "            + ' to learn more about interactive tables.';\n",
              "          element.innerHTML = '';\n",
              "          dataTable['output_type'] = 'display_data';\n",
              "          await google.colab.output.renderOutput(dataTable, element);\n",
              "          const docLink = document.createElement('div');\n",
              "          docLink.innerHTML = docLinkHtml;\n",
              "          element.appendChild(docLink);\n",
              "        }\n",
              "      </script>\n",
              "    </div>\n",
              "  </div>\n",
              "  "
            ],
            "text/plain": [
              "   id_x  player_fifa_api_id_x  player_api_id                 date  \\\n",
              "0     1                218353         505942  2016-02-18 00:00:00   \n",
              "1     2                218353         505942  2015-11-19 00:00:00   \n",
              "2     3                218353         505942  2015-09-21 00:00:00   \n",
              "3     4                218353         505942  2015-03-20 00:00:00   \n",
              "4     5                218353         505942  2007-02-22 00:00:00   \n",
              "\n",
              "   overall_rating  potential preferred_foot attacking_work_rate  \\\n",
              "0            67.0       71.0          right              medium   \n",
              "1            67.0       71.0          right              medium   \n",
              "2            62.0       66.0          right              medium   \n",
              "3            61.0       65.0          right              medium   \n",
              "4            61.0       65.0          right              medium   \n",
              "\n",
              "  defensive_work_rate  crossing  ...  player_fifa_api_id_y  \\\n",
              "0              medium      49.0  ...                218353   \n",
              "1              medium      49.0  ...                218353   \n",
              "2              medium      49.0  ...                218353   \n",
              "3              medium      48.0  ...                218353   \n",
              "4              medium      48.0  ...                218353   \n",
              "\n",
              "            birthday_x  height_x  weight_x  id       player_name_y  \\\n",
              "0  1992-02-29 00:00:00    182.88       187   1  Aaron Appindangoye   \n",
              "1  1992-02-29 00:00:00    182.88       187   1  Aaron Appindangoye   \n",
              "2  1992-02-29 00:00:00    182.88       187   1  Aaron Appindangoye   \n",
              "3  1992-02-29 00:00:00    182.88       187   1  Aaron Appindangoye   \n",
              "4  1992-02-29 00:00:00    182.88       187   1  Aaron Appindangoye   \n",
              "\n",
              "   player_fifa_api_id           birthday_y  height_y  weight_y  \n",
              "0              218353  1992-02-29 00:00:00    182.88       187  \n",
              "1              218353  1992-02-29 00:00:00    182.88       187  \n",
              "2              218353  1992-02-29 00:00:00    182.88       187  \n",
              "3              218353  1992-02-29 00:00:00    182.88       187  \n",
              "4              218353  1992-02-29 00:00:00    182.88       187  \n",
              "\n",
              "[5 rows x 54 columns]"
            ]
          },
          "execution_count": 53,
          "metadata": {},
          "output_type": "execute_result"
        }
      ],
      "source": [
        "Player_Attributes.head()"
      ]
    },
    {
      "cell_type": "code",
      "execution_count": null,
      "metadata": {
        "colab": {
          "base_uri": "https://localhost:8080/"
        },
        "id": "032PqpFQx2uF",
        "outputId": "718797a5-8d54-4b91-e3aa-a24f682ad495"
      },
      "outputs": [
        {
          "data": {
            "text/plain": [
              "32635    Cristiano Ronaldo\n",
              "32636    Cristiano Ronaldo\n",
              "32637    Cristiano Ronaldo\n",
              "Name: player_name_x, dtype: object"
            ]
          },
          "execution_count": 55,
          "metadata": {},
          "output_type": "execute_result"
        }
      ],
      "source": [
        "Player_Attributes[Player_Attributes['overall_rating'] == Player_Attributes['overall_rating'].max()]['player_name_x']"
      ]
    },
    {
      "cell_type": "code",
      "execution_count": null,
      "metadata": {
        "colab": {
          "base_uri": "https://localhost:8080/"
        },
        "id": "cchESu3i35cw",
        "outputId": "df2dfaf4-1cf0-4aae-c3bd-bddad41613f9"
      },
      "outputs": [
        {
          "data": {
            "text/plain": [
              "93.0"
            ]
          },
          "execution_count": 56,
          "metadata": {},
          "output_type": "execute_result"
        }
      ],
      "source": [
        "Player_Attributes['overall_rating'].max()"
      ]
    },
    {
      "cell_type": "markdown",
      "metadata": {
        "id": "Lkp9BENDz_68"
      },
      "source": [
        "the best player is Leonel Messi \n",
        "and the second is  Cristiano Ronaldo"
      ]
    },
    {
      "cell_type": "markdown",
      "metadata": {
        "id": "DiDidu-327_m"
      },
      "source": [
        "__the Team__"
      ]
    },
    {
      "cell_type": "code",
      "execution_count": null,
      "metadata": {
        "id": "5NDDHViQ3J81"
      },
      "outputs": [],
      "source": [
        "Team_Attributes = Team_Attributes.merge(Team,how='inner', on='team_fifa_api_id')"
      ]
    },
    {
      "cell_type": "code",
      "execution_count": null,
      "metadata": {
        "colab": {
          "base_uri": "https://localhost:8080/"
        },
        "id": "aRcXaf5e7y8Q",
        "outputId": "45a6bfed-d78c-4349-c595-2ab237279bb3"
      },
      "outputs": [
        {
          "data": {
            "text/plain": [
              "Index(['id_x', 'team_fifa_api_id', 'team_api_id_x', 'date', 'buildUpPlaySpeed',\n",
              "       'buildUpPlaySpeedClass', 'buildUpPlayDribbling',\n",
              "       'buildUpPlayDribblingClass', 'buildUpPlayPassing',\n",
              "       'buildUpPlayPassingClass', 'buildUpPlayPositioningClass',\n",
              "       'chanceCreationPassing', 'chanceCreationPassingClass',\n",
              "       'chanceCreationCrossing', 'chanceCreationCrossingClass',\n",
              "       'chanceCreationShooting', 'chanceCreationShootingClass',\n",
              "       'chanceCreationPositioningClass', 'defencePressure',\n",
              "       'defencePressureClass', 'defenceAggression', 'defenceAggressionClass',\n",
              "       'defenceTeamWidth', 'defenceTeamWidthClass', 'defenceDefenderLineClass',\n",
              "       'id_y', 'team_api_id_y', 'team_long_name', 'team_short_name'],\n",
              "      dtype='object')"
            ]
          },
          "execution_count": 71,
          "metadata": {},
          "output_type": "execute_result"
        }
      ],
      "source": [
        "Team_Attributes.columns"
      ]
    },
    {
      "cell_type": "code",
      "execution_count": null,
      "metadata": {
        "id": "79vzL7Aq7_1W"
      },
      "outputs": [],
      "source": [
        "drop_col = ['id_y', 'team_api_id_y', 'id_x', 'team_fifa_api_id', 'team_api_id_x']\n",
        "Team_Attributes.drop(drop_col, axis = 1, inplace =True)"
      ]
    },
    {
      "cell_type": "code",
      "execution_count": null,
      "metadata": {
        "colab": {
          "base_uri": "https://localhost:8080/"
        },
        "id": "rCLZvrn58jR_",
        "outputId": "c1a69ec6-bb9a-46e9-b43e-61545f084e8f"
      },
      "outputs": [
        {
          "data": {
            "text/plain": [
              "16"
            ]
          },
          "execution_count": 75,
          "metadata": {},
          "output_type": "execute_result"
        }
      ],
      "source": [
        "Team_Attributes.duplicated().sum()"
      ]
    },
    {
      "cell_type": "code",
      "execution_count": null,
      "metadata": {
        "id": "TwCRCIrV8yyz"
      },
      "outputs": [],
      "source": [
        "Team_Attributes.drop_duplicates(inplace = True)"
      ]
    },
    {
      "cell_type": "code",
      "execution_count": null,
      "metadata": {
        "id": "i4IGJQWv88lU"
      },
      "outputs": [],
      "source": [
        "Team_Attributes.isnull().sum()"
      ]
    },
    {
      "cell_type": "code",
      "execution_count": null,
      "metadata": {
        "id": "YjyXNrZpAcjw"
      },
      "outputs": [],
      "source": [
        "Team_Attributes.dropna(inplace = True)"
      ]
    },
    {
      "cell_type": "code",
      "execution_count": null,
      "metadata": {
        "colab": {
          "base_uri": "https://localhost:8080/"
        },
        "id": "8MMPNNQt-BYN",
        "outputId": "e89a8315-dd0d-4f1f-f699-67c8d1db8313"
      },
      "outputs": [
        {
          "data": {
            "text/plain": [
              "date                               object\n",
              "buildUpPlaySpeed                    int64\n",
              "buildUpPlaySpeedClass              object\n",
              "buildUpPlayDribbling              float64\n",
              "buildUpPlayDribblingClass          object\n",
              "buildUpPlayPassing                  int64\n",
              "buildUpPlayPassingClass            object\n",
              "buildUpPlayPositioningClass        object\n",
              "chanceCreationPassing               int64\n",
              "chanceCreationPassingClass         object\n",
              "chanceCreationCrossing              int64\n",
              "chanceCreationCrossingClass        object\n",
              "chanceCreationShooting              int64\n",
              "chanceCreationShootingClass        object\n",
              "chanceCreationPositioningClass     object\n",
              "defencePressure                     int64\n",
              "defencePressureClass               object\n",
              "defenceAggression                   int64\n",
              "defenceAggressionClass             object\n",
              "defenceTeamWidth                    int64\n",
              "defenceTeamWidthClass              object\n",
              "defenceDefenderLineClass           object\n",
              "team_long_name                     object\n",
              "team_short_name                    object\n",
              "dtype: object"
            ]
          },
          "execution_count": 88,
          "metadata": {},
          "output_type": "execute_result"
        }
      ],
      "source": [
        "Team_Attributes.dtypes"
      ]
    },
    {
      "cell_type": "code",
      "execution_count": null,
      "metadata": {
        "colab": {
          "base_uri": "https://localhost:8080/",
          "height": 249
        },
        "id": "235FAbB39vZB",
        "outputId": "3852e6af-61de-49be-f098-5449b45819e3"
      },
      "outputs": [
        {
          "name": "stderr",
          "output_type": "stream",
          "text": [
            "/usr/local/lib/python3.7/dist-packages/ipykernel_launcher.py:3: SettingWithCopyWarning: \n",
            "A value is trying to be set on a copy of a slice from a DataFrame.\n",
            "Try using .loc[row_indexer,col_indexer] = value instead\n",
            "\n",
            "See the caveats in the documentation: https://pandas.pydata.org/pandas-docs/stable/user_guide/indexing.html#returning-a-view-versus-a-copy\n",
            "  This is separate from the ipykernel package so we can avoid doing imports until\n"
          ]
        },
        {
          "data": {
            "text/html": [
              "\n",
              "  <div id=\"df-0c0adf8f-d8a5-4ea7-82fd-4021ee53a860\">\n",
              "    <div class=\"colab-df-container\">\n",
              "      <div>\n",
              "<style scoped>\n",
              "    .dataframe tbody tr th:only-of-type {\n",
              "        vertical-align: middle;\n",
              "    }\n",
              "\n",
              "    .dataframe tbody tr th {\n",
              "        vertical-align: top;\n",
              "    }\n",
              "\n",
              "    .dataframe thead th {\n",
              "        text-align: right;\n",
              "    }\n",
              "</style>\n",
              "<table border=\"1\" class=\"dataframe\">\n",
              "  <thead>\n",
              "    <tr style=\"text-align: right;\">\n",
              "      <th></th>\n",
              "      <th>team_long_name</th>\n",
              "      <th>buildUpPlaySpeed</th>\n",
              "      <th>buildUpPlayDribbling</th>\n",
              "      <th>buildUpPlayPassing</th>\n",
              "      <th>chanceCreationPassing</th>\n",
              "      <th>chanceCreationCrossing</th>\n",
              "      <th>chanceCreationShooting</th>\n",
              "      <th>defencePressure</th>\n",
              "      <th>defenceAggression</th>\n",
              "      <th>defenceTeamWidth</th>\n",
              "      <th>somme</th>\n",
              "    </tr>\n",
              "  </thead>\n",
              "  <tbody>\n",
              "    <tr>\n",
              "      <th>1</th>\n",
              "      <td>FC Aarau</td>\n",
              "      <td>52</td>\n",
              "      <td>48.0</td>\n",
              "      <td>56</td>\n",
              "      <td>54</td>\n",
              "      <td>63</td>\n",
              "      <td>64</td>\n",
              "      <td>47</td>\n",
              "      <td>44</td>\n",
              "      <td>54</td>\n",
              "      <td>482.0</td>\n",
              "    </tr>\n",
              "  </tbody>\n",
              "</table>\n",
              "</div>\n",
              "      <button class=\"colab-df-convert\" onclick=\"convertToInteractive('df-0c0adf8f-d8a5-4ea7-82fd-4021ee53a860')\"\n",
              "              title=\"Convert this dataframe to an interactive table.\"\n",
              "              style=\"display:none;\">\n",
              "        \n",
              "  <svg xmlns=\"http://www.w3.org/2000/svg\" height=\"24px\"viewBox=\"0 0 24 24\"\n",
              "       width=\"24px\">\n",
              "    <path d=\"M0 0h24v24H0V0z\" fill=\"none\"/>\n",
              "    <path d=\"M18.56 5.44l.94 2.06.94-2.06 2.06-.94-2.06-.94-.94-2.06-.94 2.06-2.06.94zm-11 1L8.5 8.5l.94-2.06 2.06-.94-2.06-.94L8.5 2.5l-.94 2.06-2.06.94zm10 10l.94 2.06.94-2.06 2.06-.94-2.06-.94-.94-2.06-.94 2.06-2.06.94z\"/><path d=\"M17.41 7.96l-1.37-1.37c-.4-.4-.92-.59-1.43-.59-.52 0-1.04.2-1.43.59L10.3 9.45l-7.72 7.72c-.78.78-.78 2.05 0 2.83L4 21.41c.39.39.9.59 1.41.59.51 0 1.02-.2 1.41-.59l7.78-7.78 2.81-2.81c.8-.78.8-2.07 0-2.86zM5.41 20L4 18.59l7.72-7.72 1.47 1.35L5.41 20z\"/>\n",
              "  </svg>\n",
              "      </button>\n",
              "      \n",
              "  <style>\n",
              "    .colab-df-container {\n",
              "      display:flex;\n",
              "      flex-wrap:wrap;\n",
              "      gap: 12px;\n",
              "    }\n",
              "\n",
              "    .colab-df-convert {\n",
              "      background-color: #E8F0FE;\n",
              "      border: none;\n",
              "      border-radius: 50%;\n",
              "      cursor: pointer;\n",
              "      display: none;\n",
              "      fill: #1967D2;\n",
              "      height: 32px;\n",
              "      padding: 0 0 0 0;\n",
              "      width: 32px;\n",
              "    }\n",
              "\n",
              "    .colab-df-convert:hover {\n",
              "      background-color: #E2EBFA;\n",
              "      box-shadow: 0px 1px 2px rgba(60, 64, 67, 0.3), 0px 1px 3px 1px rgba(60, 64, 67, 0.15);\n",
              "      fill: #174EA6;\n",
              "    }\n",
              "\n",
              "    [theme=dark] .colab-df-convert {\n",
              "      background-color: #3B4455;\n",
              "      fill: #D2E3FC;\n",
              "    }\n",
              "\n",
              "    [theme=dark] .colab-df-convert:hover {\n",
              "      background-color: #434B5C;\n",
              "      box-shadow: 0px 1px 3px 1px rgba(0, 0, 0, 0.15);\n",
              "      filter: drop-shadow(0px 1px 2px rgba(0, 0, 0, 0.3));\n",
              "      fill: #FFFFFF;\n",
              "    }\n",
              "  </style>\n",
              "\n",
              "      <script>\n",
              "        const buttonEl =\n",
              "          document.querySelector('#df-0c0adf8f-d8a5-4ea7-82fd-4021ee53a860 button.colab-df-convert');\n",
              "        buttonEl.style.display =\n",
              "          google.colab.kernel.accessAllowed ? 'block' : 'none';\n",
              "\n",
              "        async function convertToInteractive(key) {\n",
              "          const element = document.querySelector('#df-0c0adf8f-d8a5-4ea7-82fd-4021ee53a860');\n",
              "          const dataTable =\n",
              "            await google.colab.kernel.invokeFunction('convertToInteractive',\n",
              "                                                     [key], {});\n",
              "          if (!dataTable) return;\n",
              "\n",
              "          const docLinkHtml = 'Like what you see? Visit the ' +\n",
              "            '<a target=\"_blank\" href=https://colab.research.google.com/notebooks/data_table.ipynb>data table notebook</a>'\n",
              "            + ' to learn more about interactive tables.';\n",
              "          element.innerHTML = '';\n",
              "          dataTable['output_type'] = 'display_data';\n",
              "          await google.colab.output.renderOutput(dataTable, element);\n",
              "          const docLink = document.createElement('div');\n",
              "          docLink.innerHTML = docLinkHtml;\n",
              "          element.appendChild(docLink);\n",
              "        }\n",
              "      </script>\n",
              "    </div>\n",
              "  </div>\n",
              "  "
            ],
            "text/plain": [
              "  team_long_name  buildUpPlaySpeed  buildUpPlayDribbling  buildUpPlayPassing  \\\n",
              "1       FC Aarau                52                  48.0                  56   \n",
              "\n",
              "   chanceCreationPassing  chanceCreationCrossing  chanceCreationShooting  \\\n",
              "1                     54                      63                      64   \n",
              "\n",
              "   defencePressure  defenceAggression  defenceTeamWidth  somme  \n",
              "1               47                 44                54  482.0  "
            ]
          },
          "execution_count": 96,
          "metadata": {},
          "output_type": "execute_result"
        }
      ],
      "source": [
        "utils = Team_Attributes[['team_long_name', 'buildUpPlaySpeed', 'buildUpPlayDribbling', 'buildUpPlayPassing', 'chanceCreationPassing', 'chanceCreationCrossing', 'chanceCreationShooting', 'defencePressure', 'defenceAggression', 'defenceTeamWidth',  ]]\n",
        "somme = Team_Attributes['buildUpPlaySpeed'] + Team_Attributes['buildUpPlayDribbling'] + Team_Attributes['buildUpPlayPassing'] + Team_Attributes['chanceCreationPassing'] + Team_Attributes['chanceCreationCrossing'] + Team_Attributes['chanceCreationShooting'] + Team_Attributes['defencePressure'] + Team_Attributes['defenceAggression'] + Team_Attributes['defenceTeamWidth']\n",
        "utils['somme'] = somme\n",
        "utils.head(1)"
      ]
    },
    {
      "cell_type": "code",
      "execution_count": null,
      "metadata": {
        "colab": {
          "base_uri": "https://localhost:8080/",
          "height": 145
        },
        "id": "Ltk6grb-BQ_b",
        "outputId": "1aa6a48f-effe-44c7-d3ac-0956d57521e9"
      },
      "outputs": [
        {
          "data": {
            "text/html": [
              "\n",
              "  <div id=\"df-81af366b-e411-4a0b-87e4-3ad4db3f757c\">\n",
              "    <div class=\"colab-df-container\">\n",
              "      <div>\n",
              "<style scoped>\n",
              "    .dataframe tbody tr th:only-of-type {\n",
              "        vertical-align: middle;\n",
              "    }\n",
              "\n",
              "    .dataframe tbody tr th {\n",
              "        vertical-align: top;\n",
              "    }\n",
              "\n",
              "    .dataframe thead th {\n",
              "        text-align: right;\n",
              "    }\n",
              "</style>\n",
              "<table border=\"1\" class=\"dataframe\">\n",
              "  <thead>\n",
              "    <tr style=\"text-align: right;\">\n",
              "      <th></th>\n",
              "      <th>team_long_name</th>\n",
              "      <th>buildUpPlaySpeed</th>\n",
              "      <th>buildUpPlayDribbling</th>\n",
              "      <th>buildUpPlayPassing</th>\n",
              "      <th>chanceCreationPassing</th>\n",
              "      <th>chanceCreationCrossing</th>\n",
              "      <th>chanceCreationShooting</th>\n",
              "      <th>defencePressure</th>\n",
              "      <th>defenceAggression</th>\n",
              "      <th>defenceTeamWidth</th>\n",
              "      <th>somme</th>\n",
              "    </tr>\n",
              "  </thead>\n",
              "  <tbody>\n",
              "    <tr>\n",
              "      <th>686</th>\n",
              "      <td>Lazio</td>\n",
              "      <td>68</td>\n",
              "      <td>65.0</td>\n",
              "      <td>55</td>\n",
              "      <td>68</td>\n",
              "      <td>80</td>\n",
              "      <td>72</td>\n",
              "      <td>59</td>\n",
              "      <td>66</td>\n",
              "      <td>65</td>\n",
              "      <td>598.0</td>\n",
              "    </tr>\n",
              "  </tbody>\n",
              "</table>\n",
              "</div>\n",
              "      <button class=\"colab-df-convert\" onclick=\"convertToInteractive('df-81af366b-e411-4a0b-87e4-3ad4db3f757c')\"\n",
              "              title=\"Convert this dataframe to an interactive table.\"\n",
              "              style=\"display:none;\">\n",
              "        \n",
              "  <svg xmlns=\"http://www.w3.org/2000/svg\" height=\"24px\"viewBox=\"0 0 24 24\"\n",
              "       width=\"24px\">\n",
              "    <path d=\"M0 0h24v24H0V0z\" fill=\"none\"/>\n",
              "    <path d=\"M18.56 5.44l.94 2.06.94-2.06 2.06-.94-2.06-.94-.94-2.06-.94 2.06-2.06.94zm-11 1L8.5 8.5l.94-2.06 2.06-.94-2.06-.94L8.5 2.5l-.94 2.06-2.06.94zm10 10l.94 2.06.94-2.06 2.06-.94-2.06-.94-.94-2.06-.94 2.06-2.06.94z\"/><path d=\"M17.41 7.96l-1.37-1.37c-.4-.4-.92-.59-1.43-.59-.52 0-1.04.2-1.43.59L10.3 9.45l-7.72 7.72c-.78.78-.78 2.05 0 2.83L4 21.41c.39.39.9.59 1.41.59.51 0 1.02-.2 1.41-.59l7.78-7.78 2.81-2.81c.8-.78.8-2.07 0-2.86zM5.41 20L4 18.59l7.72-7.72 1.47 1.35L5.41 20z\"/>\n",
              "  </svg>\n",
              "      </button>\n",
              "      \n",
              "  <style>\n",
              "    .colab-df-container {\n",
              "      display:flex;\n",
              "      flex-wrap:wrap;\n",
              "      gap: 12px;\n",
              "    }\n",
              "\n",
              "    .colab-df-convert {\n",
              "      background-color: #E8F0FE;\n",
              "      border: none;\n",
              "      border-radius: 50%;\n",
              "      cursor: pointer;\n",
              "      display: none;\n",
              "      fill: #1967D2;\n",
              "      height: 32px;\n",
              "      padding: 0 0 0 0;\n",
              "      width: 32px;\n",
              "    }\n",
              "\n",
              "    .colab-df-convert:hover {\n",
              "      background-color: #E2EBFA;\n",
              "      box-shadow: 0px 1px 2px rgba(60, 64, 67, 0.3), 0px 1px 3px 1px rgba(60, 64, 67, 0.15);\n",
              "      fill: #174EA6;\n",
              "    }\n",
              "\n",
              "    [theme=dark] .colab-df-convert {\n",
              "      background-color: #3B4455;\n",
              "      fill: #D2E3FC;\n",
              "    }\n",
              "\n",
              "    [theme=dark] .colab-df-convert:hover {\n",
              "      background-color: #434B5C;\n",
              "      box-shadow: 0px 1px 3px 1px rgba(0, 0, 0, 0.15);\n",
              "      filter: drop-shadow(0px 1px 2px rgba(0, 0, 0, 0.3));\n",
              "      fill: #FFFFFF;\n",
              "    }\n",
              "  </style>\n",
              "\n",
              "      <script>\n",
              "        const buttonEl =\n",
              "          document.querySelector('#df-81af366b-e411-4a0b-87e4-3ad4db3f757c button.colab-df-convert');\n",
              "        buttonEl.style.display =\n",
              "          google.colab.kernel.accessAllowed ? 'block' : 'none';\n",
              "\n",
              "        async function convertToInteractive(key) {\n",
              "          const element = document.querySelector('#df-81af366b-e411-4a0b-87e4-3ad4db3f757c');\n",
              "          const dataTable =\n",
              "            await google.colab.kernel.invokeFunction('convertToInteractive',\n",
              "                                                     [key], {});\n",
              "          if (!dataTable) return;\n",
              "\n",
              "          const docLinkHtml = 'Like what you see? Visit the ' +\n",
              "            '<a target=\"_blank\" href=https://colab.research.google.com/notebooks/data_table.ipynb>data table notebook</a>'\n",
              "            + ' to learn more about interactive tables.';\n",
              "          element.innerHTML = '';\n",
              "          dataTable['output_type'] = 'display_data';\n",
              "          await google.colab.output.renderOutput(dataTable, element);\n",
              "          const docLink = document.createElement('div');\n",
              "          docLink.innerHTML = docLinkHtml;\n",
              "          element.appendChild(docLink);\n",
              "        }\n",
              "      </script>\n",
              "    </div>\n",
              "  </div>\n",
              "  "
            ],
            "text/plain": [
              "    team_long_name  buildUpPlaySpeed  buildUpPlayDribbling  \\\n",
              "686          Lazio                68                  65.0   \n",
              "\n",
              "     buildUpPlayPassing  chanceCreationPassing  chanceCreationCrossing  \\\n",
              "686                  55                     68                      80   \n",
              "\n",
              "     chanceCreationShooting  defencePressure  defenceAggression  \\\n",
              "686                      72               59                 66   \n",
              "\n",
              "     defenceTeamWidth  somme  \n",
              "686                65  598.0  "
            ]
          },
          "execution_count": 97,
          "metadata": {},
          "output_type": "execute_result"
        }
      ],
      "source": [
        "utils.query('somme == somme.max()')"
      ]
    },
    {
      "cell_type": "code",
      "execution_count": null,
      "metadata": {
        "colab": {
          "base_uri": "https://localhost:8080/",
          "height": 162
        },
        "id": "nzLtCaRBCYHB",
        "outputId": "58e3b492-d026-4a3b-a559-6ea8e39eeae2"
      },
      "outputs": [
        {
          "data": {
            "text/html": [
              "\n",
              "  <div id=\"df-fb024866-d875-493e-aa32-2002f9a7d0ad\">\n",
              "    <div class=\"colab-df-container\">\n",
              "      <div>\n",
              "<style scoped>\n",
              "    .dataframe tbody tr th:only-of-type {\n",
              "        vertical-align: middle;\n",
              "    }\n",
              "\n",
              "    .dataframe tbody tr th {\n",
              "        vertical-align: top;\n",
              "    }\n",
              "\n",
              "    .dataframe thead th {\n",
              "        text-align: right;\n",
              "    }\n",
              "</style>\n",
              "<table border=\"1\" class=\"dataframe\">\n",
              "  <thead>\n",
              "    <tr style=\"text-align: right;\">\n",
              "      <th></th>\n",
              "      <th>team_long_name</th>\n",
              "      <th>buildUpPlaySpeed</th>\n",
              "      <th>buildUpPlayDribbling</th>\n",
              "      <th>buildUpPlayPassing</th>\n",
              "      <th>chanceCreationPassing</th>\n",
              "      <th>chanceCreationCrossing</th>\n",
              "      <th>chanceCreationShooting</th>\n",
              "      <th>defencePressure</th>\n",
              "      <th>defenceAggression</th>\n",
              "      <th>defenceTeamWidth</th>\n",
              "      <th>somme</th>\n",
              "    </tr>\n",
              "  </thead>\n",
              "  <tbody>\n",
              "    <tr>\n",
              "      <th>1383</th>\n",
              "      <td>Waasland-Beveren</td>\n",
              "      <td>38</td>\n",
              "      <td>45.0</td>\n",
              "      <td>39</td>\n",
              "      <td>29</td>\n",
              "      <td>30</td>\n",
              "      <td>39</td>\n",
              "      <td>25</td>\n",
              "      <td>37</td>\n",
              "      <td>35</td>\n",
              "      <td>317.0</td>\n",
              "    </tr>\n",
              "  </tbody>\n",
              "</table>\n",
              "</div>\n",
              "      <button class=\"colab-df-convert\" onclick=\"convertToInteractive('df-fb024866-d875-493e-aa32-2002f9a7d0ad')\"\n",
              "              title=\"Convert this dataframe to an interactive table.\"\n",
              "              style=\"display:none;\">\n",
              "        \n",
              "  <svg xmlns=\"http://www.w3.org/2000/svg\" height=\"24px\"viewBox=\"0 0 24 24\"\n",
              "       width=\"24px\">\n",
              "    <path d=\"M0 0h24v24H0V0z\" fill=\"none\"/>\n",
              "    <path d=\"M18.56 5.44l.94 2.06.94-2.06 2.06-.94-2.06-.94-.94-2.06-.94 2.06-2.06.94zm-11 1L8.5 8.5l.94-2.06 2.06-.94-2.06-.94L8.5 2.5l-.94 2.06-2.06.94zm10 10l.94 2.06.94-2.06 2.06-.94-2.06-.94-.94-2.06-.94 2.06-2.06.94z\"/><path d=\"M17.41 7.96l-1.37-1.37c-.4-.4-.92-.59-1.43-.59-.52 0-1.04.2-1.43.59L10.3 9.45l-7.72 7.72c-.78.78-.78 2.05 0 2.83L4 21.41c.39.39.9.59 1.41.59.51 0 1.02-.2 1.41-.59l7.78-7.78 2.81-2.81c.8-.78.8-2.07 0-2.86zM5.41 20L4 18.59l7.72-7.72 1.47 1.35L5.41 20z\"/>\n",
              "  </svg>\n",
              "      </button>\n",
              "      \n",
              "  <style>\n",
              "    .colab-df-container {\n",
              "      display:flex;\n",
              "      flex-wrap:wrap;\n",
              "      gap: 12px;\n",
              "    }\n",
              "\n",
              "    .colab-df-convert {\n",
              "      background-color: #E8F0FE;\n",
              "      border: none;\n",
              "      border-radius: 50%;\n",
              "      cursor: pointer;\n",
              "      display: none;\n",
              "      fill: #1967D2;\n",
              "      height: 32px;\n",
              "      padding: 0 0 0 0;\n",
              "      width: 32px;\n",
              "    }\n",
              "\n",
              "    .colab-df-convert:hover {\n",
              "      background-color: #E2EBFA;\n",
              "      box-shadow: 0px 1px 2px rgba(60, 64, 67, 0.3), 0px 1px 3px 1px rgba(60, 64, 67, 0.15);\n",
              "      fill: #174EA6;\n",
              "    }\n",
              "\n",
              "    [theme=dark] .colab-df-convert {\n",
              "      background-color: #3B4455;\n",
              "      fill: #D2E3FC;\n",
              "    }\n",
              "\n",
              "    [theme=dark] .colab-df-convert:hover {\n",
              "      background-color: #434B5C;\n",
              "      box-shadow: 0px 1px 3px 1px rgba(0, 0, 0, 0.15);\n",
              "      filter: drop-shadow(0px 1px 2px rgba(0, 0, 0, 0.3));\n",
              "      fill: #FFFFFF;\n",
              "    }\n",
              "  </style>\n",
              "\n",
              "      <script>\n",
              "        const buttonEl =\n",
              "          document.querySelector('#df-fb024866-d875-493e-aa32-2002f9a7d0ad button.colab-df-convert');\n",
              "        buttonEl.style.display =\n",
              "          google.colab.kernel.accessAllowed ? 'block' : 'none';\n",
              "\n",
              "        async function convertToInteractive(key) {\n",
              "          const element = document.querySelector('#df-fb024866-d875-493e-aa32-2002f9a7d0ad');\n",
              "          const dataTable =\n",
              "            await google.colab.kernel.invokeFunction('convertToInteractive',\n",
              "                                                     [key], {});\n",
              "          if (!dataTable) return;\n",
              "\n",
              "          const docLinkHtml = 'Like what you see? Visit the ' +\n",
              "            '<a target=\"_blank\" href=https://colab.research.google.com/notebooks/data_table.ipynb>data table notebook</a>'\n",
              "            + ' to learn more about interactive tables.';\n",
              "          element.innerHTML = '';\n",
              "          dataTable['output_type'] = 'display_data';\n",
              "          await google.colab.output.renderOutput(dataTable, element);\n",
              "          const docLink = document.createElement('div');\n",
              "          docLink.innerHTML = docLinkHtml;\n",
              "          element.appendChild(docLink);\n",
              "        }\n",
              "      </script>\n",
              "    </div>\n",
              "  </div>\n",
              "  "
            ],
            "text/plain": [
              "        team_long_name  buildUpPlaySpeed  buildUpPlayDribbling  \\\n",
              "1383  Waasland-Beveren                38                  45.0   \n",
              "\n",
              "      buildUpPlayPassing  chanceCreationPassing  chanceCreationCrossing  \\\n",
              "1383                  39                     29                      30   \n",
              "\n",
              "      chanceCreationShooting  defencePressure  defenceAggression  \\\n",
              "1383                      39               25                 37   \n",
              "\n",
              "      defenceTeamWidth  somme  \n",
              "1383                35  317.0  "
            ]
          },
          "execution_count": 98,
          "metadata": {},
          "output_type": "execute_result"
        }
      ],
      "source": [
        "utils.query('somme == somme.min()')"
      ]
    },
    {
      "cell_type": "markdown",
      "metadata": {
        "id": "Q5DEDUXqCpMD"
      },
      "source": [
        "__Waasland-Beveren has the weakest characteristics__"
      ]
    },
    {
      "cell_type": "markdown",
      "metadata": {
        "id": "_iMLl0AgCCix"
      },
      "source": [
        "__Lazio has the best training characteristics__"
      ]
    },
    {
      "cell_type": "markdown",
      "metadata": {
        "id": "JGiNnBXtSHWZ"
      },
      "source": [
        "<a id='conclusions'></a>\n",
        "## Conclusions\n",
        "how many League and Season\n",
        "\n",
        " __11 League and 8 Season__\n",
        "\n",
        "_____________________________________________________________\n",
        "how many matches per season\n",
        "\n",
        "__2008/2009    1752__\n",
        "\n",
        "__2009/2010    1656__\n",
        "\n",
        "__2010/2011    1656__\n",
        "\n",
        "__2011/2012    1306__\n",
        "\n",
        "__2012/2013    1306__\n",
        "\n",
        "__2014/2015    1306__\n",
        "\n",
        "__2015/2016    1306__\n",
        "\n",
        "__2013/2014    1078__\n",
        "\n",
        "_____________________________________________________________\n",
        "how many matches per year\n",
        "\n",
        "__2009    429__\n",
        "\n",
        "__2008    291__\n",
        "\n",
        "__2012    264__\n",
        "\n",
        "__2015    241__\n",
        "\n",
        "__2011    230__\n",
        "\n",
        "__2010    228__\n",
        "\n",
        "__2014    179__\n",
        "\n",
        "__2016     72__\n",
        "\n",
        "__2013     64__\n",
        "\n",
        "_____________________________________________________________\n",
        "average height and weight of a player\n",
        "\n",
        "__height : 181.86744484629295__\n",
        "\n",
        "__weight : 168.38028933092224__\n",
        "\n",
        "_____________________________________________________________\n",
        "the best players of any league\n",
        "\n",
        "__the best player is Leonel Messi__\n",
        "\n",
        "__the second is Cristiano Ronaldo__\n",
        "\n",
        "_____________________________________________________________\n",
        "the team that has the best characteristics\n",
        "\n",
        "__Lazio has the best training characteristics__\n",
        "_______________________________________________________________"
      ]
    },
    {
      "cell_type": "markdown",
      "metadata": {
        "id": "D80b_42q3PoQ"
      },
      "source": [
        "Limitation\n",
        "\n",
        "__I can say that there are far too many incomprehensible columns in the tables for example Match has more than 100 columns__ __which can complicate the analysis__"
      ]
    },
    {
      "cell_type": "code",
      "execution_count": null,
      "metadata": {
        "colab": {
          "base_uri": "https://localhost:8080/"
        },
        "collapsed": true,
        "id": "SqpK1wF-SHWa",
        "outputId": "e8e15467-332b-414d-df20-5c878e0ac0ba"
      },
      "outputs": [
        {
          "data": {
            "text/plain": [
              "255"
            ]
          },
          "execution_count": 54,
          "metadata": {},
          "output_type": "execute_result"
        }
      ],
      "source": [
        "from subprocess import call\n",
        "call(['python', '-m', 'nbconvert', 'Investigate_a_Dataset.ipynb'])"
      ]
    }
  ],
  "metadata": {
    "colab": {
      "collapsed_sections": [],
      "provenance": [],
      "include_colab_link": true
    },
    "kernelspec": {
      "display_name": "Python 3 (ipykernel)",
      "language": "python",
      "name": "python3"
    },
    "language_info": {
      "codemirror_mode": {
        "name": "ipython",
        "version": 3
      },
      "file_extension": ".py",
      "mimetype": "text/x-python",
      "name": "python",
      "nbconvert_exporter": "python",
      "pygments_lexer": "ipython3",
      "version": "3.9.12"
    }
  },
  "nbformat": 4,
  "nbformat_minor": 0
}