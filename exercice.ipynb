{
  "nbformat": 4,
  "nbformat_minor": 0,
  "metadata": {
    "colab": {
      "provenance": [],
      "collapsed_sections": [],
      "authorship_tag": "ABX9TyMwDACqXZ6gdV9efzx3/MNw",
      "include_colab_link": true
    },
    "kernelspec": {
      "name": "python3",
      "display_name": "Python 3"
    },
    "language_info": {
      "name": "python"
    }
  },
  "cells": [
    {
      "cell_type": "markdown",
      "metadata": {
        "id": "view-in-github",
        "colab_type": "text"
      },
      "source": [
        "<a href=\"https://colab.research.google.com/github/wisdom3D/pandas/blob/main/exercice.ipynb\" target=\"_parent\"><img src=\"https://colab.research.google.com/assets/colab-badge.svg\" alt=\"Open In Colab\"/></a>"
      ]
    },
    {
      "cell_type": "code",
      "execution_count": 11,
      "metadata": {
        "id": "IwmEydD5Lhq7"
      },
      "outputs": [],
      "source": [
        "import pandas as pd\n",
        "import numpy as np\n",
        "import matplotlib.pyplot as plt\n",
        "import seaborn as sns\n",
        "import plotly.ofline as pyo"
      ]
    },
    {
      "cell_type": "code",
      "source": [
        "df = pd.read_csv('/content/moviestreams.csv')\n",
        "df.head()"
      ],
      "metadata": {
        "colab": {
          "base_uri": "https://localhost:8080/",
          "height": 478
        },
        "id": "JqX5b75_Rt9N",
        "outputId": "c343d94f-3b8f-42dd-f1a6-c6271bd12113"
      },
      "execution_count": 13,
      "outputs": [
        {
          "output_type": "execute_result",
          "data": {
            "text/plain": [
              "   Unnamed: 0  ID                           Title  Year  Age  IMDb  \\\n",
              "0           0   1                       Inception  2010  13+   8.8   \n",
              "1           1   2                      The Matrix  1999  18+   8.7   \n",
              "2           2   3          Avengers: Infinity War  2018  13+   8.5   \n",
              "3           3   4              Back to the Future  1985   7+   8.5   \n",
              "4           4   5  The Good, the Bad and the Ugly  1966  18+   8.8   \n",
              "\n",
              "  Rotten Tomatoes  Netflix  Hulu  Prime Video  Disney+  Type  \\\n",
              "0             87%        1     0            0        0     0   \n",
              "1             87%        1     0            0        0     0   \n",
              "2             84%        1     0            0        0     0   \n",
              "3             96%        1     0            0        0     0   \n",
              "4             97%        1     0            1        0     0   \n",
              "\n",
              "                        Directors                            Genres  \\\n",
              "0               Christopher Nolan  Action,Adventure,Sci-Fi,Thriller   \n",
              "1  Lana Wachowski,Lilly Wachowski                     Action,Sci-Fi   \n",
              "2         Anthony Russo,Joe Russo           Action,Adventure,Sci-Fi   \n",
              "3                 Robert Zemeckis           Adventure,Comedy,Sci-Fi   \n",
              "4                    Sergio Leone                           Western   \n",
              "\n",
              "                        Country                 Language  Runtime  \n",
              "0  United States,United Kingdom  English,Japanese,French    148.0  \n",
              "1                 United States                  English    136.0  \n",
              "2                 United States                  English    149.0  \n",
              "3                 United States                  English    116.0  \n",
              "4      Italy,Spain,West Germany                  Italian    161.0  "
            ],
            "text/html": [
              "\n",
              "  <div id=\"df-f71a8ab9-7ebb-4b29-9210-e5aaf55c503e\">\n",
              "    <div class=\"colab-df-container\">\n",
              "      <div>\n",
              "<style scoped>\n",
              "    .dataframe tbody tr th:only-of-type {\n",
              "        vertical-align: middle;\n",
              "    }\n",
              "\n",
              "    .dataframe tbody tr th {\n",
              "        vertical-align: top;\n",
              "    }\n",
              "\n",
              "    .dataframe thead th {\n",
              "        text-align: right;\n",
              "    }\n",
              "</style>\n",
              "<table border=\"1\" class=\"dataframe\">\n",
              "  <thead>\n",
              "    <tr style=\"text-align: right;\">\n",
              "      <th></th>\n",
              "      <th>Unnamed: 0</th>\n",
              "      <th>ID</th>\n",
              "      <th>Title</th>\n",
              "      <th>Year</th>\n",
              "      <th>Age</th>\n",
              "      <th>IMDb</th>\n",
              "      <th>Rotten Tomatoes</th>\n",
              "      <th>Netflix</th>\n",
              "      <th>Hulu</th>\n",
              "      <th>Prime Video</th>\n",
              "      <th>Disney+</th>\n",
              "      <th>Type</th>\n",
              "      <th>Directors</th>\n",
              "      <th>Genres</th>\n",
              "      <th>Country</th>\n",
              "      <th>Language</th>\n",
              "      <th>Runtime</th>\n",
              "    </tr>\n",
              "  </thead>\n",
              "  <tbody>\n",
              "    <tr>\n",
              "      <th>0</th>\n",
              "      <td>0</td>\n",
              "      <td>1</td>\n",
              "      <td>Inception</td>\n",
              "      <td>2010</td>\n",
              "      <td>13+</td>\n",
              "      <td>8.8</td>\n",
              "      <td>87%</td>\n",
              "      <td>1</td>\n",
              "      <td>0</td>\n",
              "      <td>0</td>\n",
              "      <td>0</td>\n",
              "      <td>0</td>\n",
              "      <td>Christopher Nolan</td>\n",
              "      <td>Action,Adventure,Sci-Fi,Thriller</td>\n",
              "      <td>United States,United Kingdom</td>\n",
              "      <td>English,Japanese,French</td>\n",
              "      <td>148.0</td>\n",
              "    </tr>\n",
              "    <tr>\n",
              "      <th>1</th>\n",
              "      <td>1</td>\n",
              "      <td>2</td>\n",
              "      <td>The Matrix</td>\n",
              "      <td>1999</td>\n",
              "      <td>18+</td>\n",
              "      <td>8.7</td>\n",
              "      <td>87%</td>\n",
              "      <td>1</td>\n",
              "      <td>0</td>\n",
              "      <td>0</td>\n",
              "      <td>0</td>\n",
              "      <td>0</td>\n",
              "      <td>Lana Wachowski,Lilly Wachowski</td>\n",
              "      <td>Action,Sci-Fi</td>\n",
              "      <td>United States</td>\n",
              "      <td>English</td>\n",
              "      <td>136.0</td>\n",
              "    </tr>\n",
              "    <tr>\n",
              "      <th>2</th>\n",
              "      <td>2</td>\n",
              "      <td>3</td>\n",
              "      <td>Avengers: Infinity War</td>\n",
              "      <td>2018</td>\n",
              "      <td>13+</td>\n",
              "      <td>8.5</td>\n",
              "      <td>84%</td>\n",
              "      <td>1</td>\n",
              "      <td>0</td>\n",
              "      <td>0</td>\n",
              "      <td>0</td>\n",
              "      <td>0</td>\n",
              "      <td>Anthony Russo,Joe Russo</td>\n",
              "      <td>Action,Adventure,Sci-Fi</td>\n",
              "      <td>United States</td>\n",
              "      <td>English</td>\n",
              "      <td>149.0</td>\n",
              "    </tr>\n",
              "    <tr>\n",
              "      <th>3</th>\n",
              "      <td>3</td>\n",
              "      <td>4</td>\n",
              "      <td>Back to the Future</td>\n",
              "      <td>1985</td>\n",
              "      <td>7+</td>\n",
              "      <td>8.5</td>\n",
              "      <td>96%</td>\n",
              "      <td>1</td>\n",
              "      <td>0</td>\n",
              "      <td>0</td>\n",
              "      <td>0</td>\n",
              "      <td>0</td>\n",
              "      <td>Robert Zemeckis</td>\n",
              "      <td>Adventure,Comedy,Sci-Fi</td>\n",
              "      <td>United States</td>\n",
              "      <td>English</td>\n",
              "      <td>116.0</td>\n",
              "    </tr>\n",
              "    <tr>\n",
              "      <th>4</th>\n",
              "      <td>4</td>\n",
              "      <td>5</td>\n",
              "      <td>The Good, the Bad and the Ugly</td>\n",
              "      <td>1966</td>\n",
              "      <td>18+</td>\n",
              "      <td>8.8</td>\n",
              "      <td>97%</td>\n",
              "      <td>1</td>\n",
              "      <td>0</td>\n",
              "      <td>1</td>\n",
              "      <td>0</td>\n",
              "      <td>0</td>\n",
              "      <td>Sergio Leone</td>\n",
              "      <td>Western</td>\n",
              "      <td>Italy,Spain,West Germany</td>\n",
              "      <td>Italian</td>\n",
              "      <td>161.0</td>\n",
              "    </tr>\n",
              "  </tbody>\n",
              "</table>\n",
              "</div>\n",
              "      <button class=\"colab-df-convert\" onclick=\"convertToInteractive('df-f71a8ab9-7ebb-4b29-9210-e5aaf55c503e')\"\n",
              "              title=\"Convert this dataframe to an interactive table.\"\n",
              "              style=\"display:none;\">\n",
              "        \n",
              "  <svg xmlns=\"http://www.w3.org/2000/svg\" height=\"24px\"viewBox=\"0 0 24 24\"\n",
              "       width=\"24px\">\n",
              "    <path d=\"M0 0h24v24H0V0z\" fill=\"none\"/>\n",
              "    <path d=\"M18.56 5.44l.94 2.06.94-2.06 2.06-.94-2.06-.94-.94-2.06-.94 2.06-2.06.94zm-11 1L8.5 8.5l.94-2.06 2.06-.94-2.06-.94L8.5 2.5l-.94 2.06-2.06.94zm10 10l.94 2.06.94-2.06 2.06-.94-2.06-.94-.94-2.06-.94 2.06-2.06.94z\"/><path d=\"M17.41 7.96l-1.37-1.37c-.4-.4-.92-.59-1.43-.59-.52 0-1.04.2-1.43.59L10.3 9.45l-7.72 7.72c-.78.78-.78 2.05 0 2.83L4 21.41c.39.39.9.59 1.41.59.51 0 1.02-.2 1.41-.59l7.78-7.78 2.81-2.81c.8-.78.8-2.07 0-2.86zM5.41 20L4 18.59l7.72-7.72 1.47 1.35L5.41 20z\"/>\n",
              "  </svg>\n",
              "      </button>\n",
              "      \n",
              "  <style>\n",
              "    .colab-df-container {\n",
              "      display:flex;\n",
              "      flex-wrap:wrap;\n",
              "      gap: 12px;\n",
              "    }\n",
              "\n",
              "    .colab-df-convert {\n",
              "      background-color: #E8F0FE;\n",
              "      border: none;\n",
              "      border-radius: 50%;\n",
              "      cursor: pointer;\n",
              "      display: none;\n",
              "      fill: #1967D2;\n",
              "      height: 32px;\n",
              "      padding: 0 0 0 0;\n",
              "      width: 32px;\n",
              "    }\n",
              "\n",
              "    .colab-df-convert:hover {\n",
              "      background-color: #E2EBFA;\n",
              "      box-shadow: 0px 1px 2px rgba(60, 64, 67, 0.3), 0px 1px 3px 1px rgba(60, 64, 67, 0.15);\n",
              "      fill: #174EA6;\n",
              "    }\n",
              "\n",
              "    [theme=dark] .colab-df-convert {\n",
              "      background-color: #3B4455;\n",
              "      fill: #D2E3FC;\n",
              "    }\n",
              "\n",
              "    [theme=dark] .colab-df-convert:hover {\n",
              "      background-color: #434B5C;\n",
              "      box-shadow: 0px 1px 3px 1px rgba(0, 0, 0, 0.15);\n",
              "      filter: drop-shadow(0px 1px 2px rgba(0, 0, 0, 0.3));\n",
              "      fill: #FFFFFF;\n",
              "    }\n",
              "  </style>\n",
              "\n",
              "      <script>\n",
              "        const buttonEl =\n",
              "          document.querySelector('#df-f71a8ab9-7ebb-4b29-9210-e5aaf55c503e button.colab-df-convert');\n",
              "        buttonEl.style.display =\n",
              "          google.colab.kernel.accessAllowed ? 'block' : 'none';\n",
              "\n",
              "        async function convertToInteractive(key) {\n",
              "          const element = document.querySelector('#df-f71a8ab9-7ebb-4b29-9210-e5aaf55c503e');\n",
              "          const dataTable =\n",
              "            await google.colab.kernel.invokeFunction('convertToInteractive',\n",
              "                                                     [key], {});\n",
              "          if (!dataTable) return;\n",
              "\n",
              "          const docLinkHtml = 'Like what you see? Visit the ' +\n",
              "            '<a target=\"_blank\" href=https://colab.research.google.com/notebooks/data_table.ipynb>data table notebook</a>'\n",
              "            + ' to learn more about interactive tables.';\n",
              "          element.innerHTML = '';\n",
              "          dataTable['output_type'] = 'display_data';\n",
              "          await google.colab.output.renderOutput(dataTable, element);\n",
              "          const docLink = document.createElement('div');\n",
              "          docLink.innerHTML = docLinkHtml;\n",
              "          element.appendChild(docLink);\n",
              "        }\n",
              "      </script>\n",
              "    </div>\n",
              "  </div>\n",
              "  "
            ]
          },
          "metadata": {},
          "execution_count": 13
        }
      ]
    },
    {
      "cell_type": "code",
      "source": [
        "df.shape"
      ],
      "metadata": {
        "colab": {
          "base_uri": "https://localhost:8080/"
        },
        "id": "COw-6WMeS7eA",
        "outputId": "39044980-7d63-4f51-f8eb-55f6490f1baa"
      },
      "execution_count": 14,
      "outputs": [
        {
          "output_type": "execute_result",
          "data": {
            "text/plain": [
              "(16744, 17)"
            ]
          },
          "metadata": {},
          "execution_count": 14
        }
      ]
    },
    {
      "cell_type": "code",
      "source": [
        "cols = df.columns.tolist\n",
        "cols"
      ],
      "metadata": {
        "colab": {
          "base_uri": "https://localhost:8080/"
        },
        "id": "mbq5R4oETNzg",
        "outputId": "2ec37765-8181-4e2a-8a69-66351c3a3691"
      },
      "execution_count": 16,
      "outputs": [
        {
          "output_type": "execute_result",
          "data": {
            "text/plain": [
              "<bound method IndexOpsMixin.tolist of Index(['Unnamed: 0', 'ID', 'Title', 'Year', 'Age', 'IMDb', 'Rotten Tomatoes',\n",
              "       'Netflix', 'Hulu', 'Prime Video', 'Disney+', 'Type', 'Directors',\n",
              "       'Genres', 'Country', 'Language', 'Runtime'],\n",
              "      dtype='object')>"
            ]
          },
          "metadata": {},
          "execution_count": 16
        }
      ]
    },
    {
      "cell_type": "code",
      "source": [
        "df.drop(['Unnamed: 0', 'ID'], axis = 1, inplace = True)"
      ],
      "metadata": {
        "id": "nF77sgVWTwVG"
      },
      "execution_count": 18,
      "outputs": []
    },
    {
      "cell_type": "code",
      "source": [
        "df.columns"
      ],
      "metadata": {
        "colab": {
          "base_uri": "https://localhost:8080/"
        },
        "id": "dW6RAUCPT8e_",
        "outputId": "2b804020-4a5c-421f-b876-a93f10594144"
      },
      "execution_count": 19,
      "outputs": [
        {
          "output_type": "execute_result",
          "data": {
            "text/plain": [
              "Index(['Title', 'Year', 'Age', 'IMDb', 'Rotten Tomatoes', 'Netflix', 'Hulu',\n",
              "       'Prime Video', 'Disney+', 'Type', 'Directors', 'Genres', 'Country',\n",
              "       'Language', 'Runtime'],\n",
              "      dtype='object')"
            ]
          },
          "metadata": {},
          "execution_count": 19
        }
      ]
    },
    {
      "cell_type": "code",
      "source": [
        "df.isna().sum()"
      ],
      "metadata": {
        "colab": {
          "base_uri": "https://localhost:8080/"
        },
        "id": "WEBBSk0TUkw9",
        "outputId": "86f148af-4e3b-4b20-ba78-80100c60f4ab"
      },
      "execution_count": 21,
      "outputs": [
        {
          "output_type": "execute_result",
          "data": {
            "text/plain": [
              "Title                  0\n",
              "Year                   0\n",
              "Age                 9390\n",
              "IMDb                 571\n",
              "Rotten Tomatoes    11586\n",
              "Netflix                0\n",
              "Hulu                   0\n",
              "Prime Video            0\n",
              "Disney+                0\n",
              "Type                   0\n",
              "Directors            726\n",
              "Genres               275\n",
              "Country              435\n",
              "Language             599\n",
              "Runtime              592\n",
              "dtype: int64"
            ]
          },
          "metadata": {},
          "execution_count": 21
        }
      ]
    }
  ]
}